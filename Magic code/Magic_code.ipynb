{
 "cells": [
  {
   "cell_type": "code",
   "execution_count": 33,
   "metadata": {},
   "outputs": [],
   "source": [
    "import pandas as pd\n",
    "import seaborn as sns\n",
    "import joblib\n",
    "import numpy as np\n",
    "import matplotlib.pyplot as plt\n",
    "import plotly.graph_objects as go\n",
    "import plotly.express as px\n",
    "\n",
    "from sklearn.preprocessing import LabelEncoder, StandardScaler\n",
    "from sklearn.linear_model import Ridge, Lasso, ElasticNet, HuberRegressor, LinearRegression\n",
    "from sklearn.svm import SVR\n",
    "from sklearn.model_selection import train_test_split, cross_val_score, learning_curve\n",
    "from sklearn.pipeline import Pipeline\n",
    "from sklearn.tree import DecisionTreeRegressor\n",
    "from sklearn.ensemble import RandomForestRegressor, GradientBoostingRegressor, AdaBoostRegressor\n",
    "from sklearn.neighbors import KNeighborsRegressor\n",
    "from sklearn.metrics import r2_score, mean_absolute_error, mean_squared_error\n",
    "from sklearn.impute import SimpleImputer\n",
    "\n",
    "from xgboost import XGBRegressor"
   ]
  },
  {
   "cell_type": "code",
   "execution_count": 2,
   "metadata": {},
   "outputs": [],
   "source": [
    "# Load the magical datasets\n",
    "hagrids_hut = \"coords_diamonds.csv\"\n",
    "diagon_alley = \"diamonds.csv\"\n",
    "\n",
    "# Read the magical datasets\n",
    "spell_coords = pd.read_csv(hagrids_hut)\n",
    "spell_diamonds = pd.read_csv(diagon_alley)\n"
   ]
  },
  {
   "cell_type": "code",
   "execution_count": 3,
   "metadata": {},
   "outputs": [
    {
     "name": "stdout",
     "output_type": "stream",
     "text": [
      "<class 'pandas.core.frame.DataFrame'>\n",
      "RangeIndex: 53930 entries, 0 to 53929\n",
      "Data columns (total 3 columns):\n",
      " #   Column      Non-Null Count  Dtype  \n",
      "---  ------      --------------  -----  \n",
      " 0   Unnamed: 0  53930 non-null  int64  \n",
      " 1   latitude    53930 non-null  object \n",
      " 2   longitude   53930 non-null  float64\n",
      "dtypes: float64(1), int64(1), object(1)\n",
      "memory usage: 1.2+ MB\n",
      "_____________________________\n",
      "<class 'pandas.core.frame.DataFrame'>\n",
      "RangeIndex: 53930 entries, 0 to 53929\n",
      "Data columns (total 11 columns):\n",
      " #   Column      Non-Null Count  Dtype  \n",
      "---  ------      --------------  -----  \n",
      " 0   Unnamed: 0  53930 non-null  int64  \n",
      " 1   carat       53930 non-null  float64\n",
      " 2   cut         53930 non-null  object \n",
      " 3   color       53930 non-null  object \n",
      " 4   clarity     53930 non-null  object \n",
      " 5   depth       50968 non-null  float64\n",
      " 6   table       53930 non-null  float64\n",
      " 7   price       53930 non-null  int64  \n",
      " 8   x           52840 non-null  float64\n",
      " 9   y           53345 non-null  float64\n",
      " 10  z           53930 non-null  float64\n",
      "dtypes: float64(6), int64(2), object(3)\n",
      "memory usage: 4.5+ MB\n"
     ]
    }
   ],
   "source": [
    "# Display magical information about df_coords\n",
    "spell_coords.info()\n",
    "print(\"_____________________________\")\n",
    "# Display magical information about df_diamond\n",
    "spell_diamonds.info()\n"
   ]
  },
  {
   "cell_type": "code",
   "execution_count": 4,
   "metadata": {},
   "outputs": [
    {
     "name": "stdout",
     "output_type": "stream",
     "text": [
      "<class 'pandas.core.frame.DataFrame'>\n",
      "RangeIndex: 53930 entries, 0 to 53929\n",
      "Data columns (total 13 columns):\n",
      " #   Column      Non-Null Count  Dtype  \n",
      "---  ------      --------------  -----  \n",
      " 0   spell_id    53930 non-null  int64  \n",
      " 1   latitude    53930 non-null  object \n",
      " 2   longitude   53930 non-null  float64\n",
      " 3   carat       53930 non-null  float64\n",
      " 4   cut         53930 non-null  object \n",
      " 5   color       53930 non-null  object \n",
      " 6   clarity     53930 non-null  object \n",
      " 7   depth       50968 non-null  float64\n",
      " 8   table       53930 non-null  float64\n",
      " 9   price       53930 non-null  int64  \n",
      " 10  x           52840 non-null  float64\n",
      " 11  y           53345 non-null  float64\n",
      " 12  z           53930 non-null  float64\n",
      "dtypes: float64(7), int64(2), object(4)\n",
      "memory usage: 5.3+ MB\n"
     ]
    }
   ],
   "source": [
    "# Perform a magical inner join on the  numeric column\n",
    "merged_spell_df = pd.merge(spell_coords, spell_diamonds, on=spell_coords.columns[0], how='inner', validate=\"one_to_one\")\n",
    "\n",
    "# Rename the columns to make them more magical\n",
    "merged_spell_df = merged_spell_df.rename(columns={\"Unnamed: 0\": \"spell_id\"})\n",
    "\n",
    "# Display the merged magical DataFrame\n",
    "merged_spell_df.info()\n"
   ]
  },
  {
   "cell_type": "code",
   "execution_count": 5,
   "metadata": {},
   "outputs": [
    {
     "data": {
      "text/html": [
       "<div>\n",
       "<style scoped>\n",
       "    .dataframe tbody tr th:only-of-type {\n",
       "        vertical-align: middle;\n",
       "    }\n",
       "\n",
       "    .dataframe tbody tr th {\n",
       "        vertical-align: top;\n",
       "    }\n",
       "\n",
       "    .dataframe thead th {\n",
       "        text-align: right;\n",
       "    }\n",
       "</style>\n",
       "<table border=\"1\" class=\"dataframe\">\n",
       "  <thead>\n",
       "    <tr style=\"text-align: right;\">\n",
       "      <th></th>\n",
       "      <th>spell_id</th>\n",
       "      <th>latitude</th>\n",
       "      <th>longitude</th>\n",
       "      <th>carat</th>\n",
       "      <th>cut</th>\n",
       "      <th>color</th>\n",
       "      <th>clarity</th>\n",
       "      <th>depth</th>\n",
       "      <th>table</th>\n",
       "      <th>price</th>\n",
       "      <th>x</th>\n",
       "      <th>y</th>\n",
       "      <th>z</th>\n",
       "    </tr>\n",
       "  </thead>\n",
       "  <tbody>\n",
       "    <tr>\n",
       "      <th>0</th>\n",
       "      <td>0</td>\n",
       "      <td>39.8813889</td>\n",
       "      <td>-83.093056</td>\n",
       "      <td>0.23</td>\n",
       "      <td>Ideal</td>\n",
       "      <td>E</td>\n",
       "      <td>SI2</td>\n",
       "      <td>61.5</td>\n",
       "      <td>55.0</td>\n",
       "      <td>326</td>\n",
       "      <td>3.95</td>\n",
       "      <td>3.98</td>\n",
       "      <td>2.43</td>\n",
       "    </tr>\n",
       "    <tr>\n",
       "      <th>1</th>\n",
       "      <td>1</td>\n",
       "      <td>33.4150000</td>\n",
       "      <td>-111.548889</td>\n",
       "      <td>0.21</td>\n",
       "      <td>Premium</td>\n",
       "      <td>E</td>\n",
       "      <td>SI1</td>\n",
       "      <td>59.8</td>\n",
       "      <td>61.0</td>\n",
       "      <td>326</td>\n",
       "      <td>3.89</td>\n",
       "      <td>3.84</td>\n",
       "      <td>2.31</td>\n",
       "    </tr>\n",
       "    <tr>\n",
       "      <th>2</th>\n",
       "      <td>2</td>\n",
       "      <td>40.1672222</td>\n",
       "      <td>-105.101389</td>\n",
       "      <td>0.23</td>\n",
       "      <td>Good</td>\n",
       "      <td>E</td>\n",
       "      <td>VS1</td>\n",
       "      <td>56.9</td>\n",
       "      <td>65.0</td>\n",
       "      <td>327</td>\n",
       "      <td>4.05</td>\n",
       "      <td>4.07</td>\n",
       "      <td>2.31</td>\n",
       "    </tr>\n",
       "    <tr>\n",
       "      <th>3</th>\n",
       "      <td>3</td>\n",
       "      <td>37.3711111</td>\n",
       "      <td>-85.583056</td>\n",
       "      <td>0.29</td>\n",
       "      <td>Premium</td>\n",
       "      <td>I</td>\n",
       "      <td>VS2</td>\n",
       "      <td>62.4</td>\n",
       "      <td>58.0</td>\n",
       "      <td>334</td>\n",
       "      <td>4.20</td>\n",
       "      <td>4.23</td>\n",
       "      <td>2.63</td>\n",
       "    </tr>\n",
       "    <tr>\n",
       "      <th>4</th>\n",
       "      <td>4</td>\n",
       "      <td>48.5394444</td>\n",
       "      <td>-121.745000</td>\n",
       "      <td>0.31</td>\n",
       "      <td>Good</td>\n",
       "      <td>J</td>\n",
       "      <td>SI2</td>\n",
       "      <td>63.3</td>\n",
       "      <td>58.0</td>\n",
       "      <td>335</td>\n",
       "      <td>4.34</td>\n",
       "      <td>4.35</td>\n",
       "      <td>2.75</td>\n",
       "    </tr>\n",
       "    <tr>\n",
       "      <th>5</th>\n",
       "      <td>5</td>\n",
       "      <td>38.7705556</td>\n",
       "      <td>-81.553333</td>\n",
       "      <td>0.24</td>\n",
       "      <td>Very Good</td>\n",
       "      <td>J</td>\n",
       "      <td>VVS2</td>\n",
       "      <td>62.8</td>\n",
       "      <td>57.0</td>\n",
       "      <td>336</td>\n",
       "      <td>3.94</td>\n",
       "      <td>3.96</td>\n",
       "      <td>2.48</td>\n",
       "    </tr>\n",
       "    <tr>\n",
       "      <th>6</th>\n",
       "      <td>6</td>\n",
       "      <td>35.5780556</td>\n",
       "      <td>-108.321389</td>\n",
       "      <td>0.24</td>\n",
       "      <td>Very Good</td>\n",
       "      <td>I</td>\n",
       "      <td>VVS1</td>\n",
       "      <td>62.3</td>\n",
       "      <td>57.0</td>\n",
       "      <td>336</td>\n",
       "      <td>3.95</td>\n",
       "      <td>3.98</td>\n",
       "      <td>2.47</td>\n",
       "    </tr>\n",
       "    <tr>\n",
       "      <th>7</th>\n",
       "      <td>7</td>\n",
       "      <td>53.916667</td>\n",
       "      <td>-122.766667</td>\n",
       "      <td>0.26</td>\n",
       "      <td>Very Good</td>\n",
       "      <td>H</td>\n",
       "      <td>SI1</td>\n",
       "      <td>61.9</td>\n",
       "      <td>55.0</td>\n",
       "      <td>337</td>\n",
       "      <td>4.07</td>\n",
       "      <td>4.11</td>\n",
       "      <td>2.53</td>\n",
       "    </tr>\n",
       "    <tr>\n",
       "      <th>8</th>\n",
       "      <td>8</td>\n",
       "      <td>33.3869444</td>\n",
       "      <td>-84.283056</td>\n",
       "      <td>0.22</td>\n",
       "      <td>Fair</td>\n",
       "      <td>E</td>\n",
       "      <td>VS2</td>\n",
       "      <td>65.1</td>\n",
       "      <td>61.0</td>\n",
       "      <td>337</td>\n",
       "      <td>3.87</td>\n",
       "      <td>3.78</td>\n",
       "      <td>2.49</td>\n",
       "    </tr>\n",
       "    <tr>\n",
       "      <th>9</th>\n",
       "      <td>9</td>\n",
       "      <td>47.6063889</td>\n",
       "      <td>-122.330833</td>\n",
       "      <td>0.23</td>\n",
       "      <td>Very Good</td>\n",
       "      <td>H</td>\n",
       "      <td>VS1</td>\n",
       "      <td>59.4</td>\n",
       "      <td>61.0</td>\n",
       "      <td>338</td>\n",
       "      <td>4.00</td>\n",
       "      <td>4.05</td>\n",
       "      <td>2.39</td>\n",
       "    </tr>\n",
       "  </tbody>\n",
       "</table>\n",
       "</div>"
      ],
      "text/plain": [
       "   spell_id    latitude  longitude   carat        cut color clarity  depth  \\\n",
       "0         0  39.8813889  -83.093056   0.23      Ideal     E     SI2   61.5   \n",
       "1         1  33.4150000 -111.548889   0.21    Premium     E     SI1   59.8   \n",
       "2         2  40.1672222 -105.101389   0.23       Good     E     VS1   56.9   \n",
       "3         3  37.3711111  -85.583056   0.29    Premium     I     VS2   62.4   \n",
       "4         4  48.5394444 -121.745000   0.31       Good     J     SI2   63.3   \n",
       "5         5  38.7705556  -81.553333   0.24  Very Good     J    VVS2   62.8   \n",
       "6         6  35.5780556 -108.321389   0.24  Very Good     I    VVS1   62.3   \n",
       "7         7   53.916667 -122.766667   0.26  Very Good     H     SI1   61.9   \n",
       "8         8  33.3869444  -84.283056   0.22       Fair     E     VS2   65.1   \n",
       "9         9  47.6063889 -122.330833   0.23  Very Good     H     VS1   59.4   \n",
       "\n",
       "   table  price     x     y     z  \n",
       "0   55.0    326  3.95  3.98  2.43  \n",
       "1   61.0    326  3.89  3.84  2.31  \n",
       "2   65.0    327  4.05  4.07  2.31  \n",
       "3   58.0    334  4.20  4.23  2.63  \n",
       "4   58.0    335  4.34  4.35  2.75  \n",
       "5   57.0    336  3.94  3.96  2.48  \n",
       "6   57.0    336  3.95  3.98  2.47  \n",
       "7   55.0    337  4.07  4.11  2.53  \n",
       "8   61.0    337  3.87  3.78  2.49  \n",
       "9   61.0    338  4.00  4.05  2.39  "
      ]
     },
     "execution_count": 5,
     "metadata": {},
     "output_type": "execute_result"
    }
   ],
   "source": [
    "merged_spell_df.head(10)"
   ]
  },
  {
   "cell_type": "code",
   "execution_count": 6,
   "metadata": {},
   "outputs": [
    {
     "name": "stdout",
     "output_type": "stream",
     "text": [
      "Names of all magical columns:\n",
      "Index(['spell_id', 'latitude', 'longitude ', 'carat', 'cut', 'color',\n",
      "       'clarity', 'depth', 'table', 'price', 'x', 'y', 'z'],\n",
      "      dtype='object')\n"
     ]
    }
   ],
   "source": [
    "# Print the magical names of all columns in the DataFrame\n",
    "print(\"Names of all magical columns:\")\n",
    "print(merged_spell_df.columns)\n"
   ]
  },
  {
   "cell_type": "code",
   "execution_count": 8,
   "metadata": {},
   "outputs": [],
   "source": [
    "# Rename the magical columns with a flourish of the wand\n",
    "merged_spell_df = merged_spell_df.rename(columns={'longitude ': 'longitude', \n",
    "                                                  'x': 'x_length',\n",
    "                                                  'y': 'y_width',\n",
    "                                                  'z': 'z_depth'})\n",
    "# Wave the wand and banish the \"id\" column from existence\n",
    "merged_spell_df = merged_spell_df.drop(columns=['spell_id'])\n"
   ]
  },
  {
   "cell_type": "code",
   "execution_count": 57,
   "metadata": {},
   "outputs": [
    {
     "name": "stdout",
     "output_type": "stream",
     "text": [
      "Nombres de todas las columnas:\n",
      "Index(['latitude', 'longitude', 'carat', 'cut', 'color', 'clarity', 'depth',\n",
      "       'table', 'price', 'x_length', 'y_width', 'z_depth'],\n",
      "      dtype='object')\n"
     ]
    }
   ],
   "source": [
    "print(\"Nombres de todas las columnas:\")\n",
    "print(merged_df.columns)\n"
   ]
  },
  {
   "cell_type": "code",
   "execution_count": 58,
   "metadata": {},
   "outputs": [
    {
     "name": "stdout",
     "output_type": "stream",
     "text": [
      "latitude        0\n",
      "longitude       0\n",
      "carat           0\n",
      "cut             0\n",
      "color           0\n",
      "clarity         0\n",
      "depth        2962\n",
      "table           0\n",
      "price           0\n",
      "x_length     1090\n",
      "y_width       585\n",
      "z_depth         0\n",
      "dtype: int64\n"
     ]
    }
   ],
   "source": [
    "na_count = merged_df.isna().sum()\n",
    "print(na_count)"
   ]
  },
  {
   "cell_type": "code",
   "execution_count": 9,
   "metadata": {},
   "outputs": [
    {
     "name": "stdout",
     "output_type": "stream",
     "text": [
      "Number of suspect diamonds: 2962\n",
      "\n",
      "Information about the suspect diamonds:\n"
     ]
    },
    {
     "data": {
      "text/html": [
       "<div>\n",
       "<style scoped>\n",
       "    .dataframe tbody tr th:only-of-type {\n",
       "        vertical-align: middle;\n",
       "    }\n",
       "\n",
       "    .dataframe tbody tr th {\n",
       "        vertical-align: top;\n",
       "    }\n",
       "\n",
       "    .dataframe thead th {\n",
       "        text-align: right;\n",
       "    }\n",
       "</style>\n",
       "<table border=\"1\" class=\"dataframe\">\n",
       "  <thead>\n",
       "    <tr style=\"text-align: right;\">\n",
       "      <th></th>\n",
       "      <th>latitude</th>\n",
       "      <th>longitude</th>\n",
       "      <th>carat</th>\n",
       "      <th>cut</th>\n",
       "      <th>color</th>\n",
       "      <th>clarity</th>\n",
       "      <th>depth</th>\n",
       "      <th>table</th>\n",
       "      <th>price</th>\n",
       "      <th>x_length</th>\n",
       "      <th>y_width</th>\n",
       "      <th>z_depth</th>\n",
       "    </tr>\n",
       "  </thead>\n",
       "  <tbody>\n",
       "    <tr>\n",
       "      <th>19</th>\n",
       "      <td>41.6005556</td>\n",
       "      <td>-93.608889</td>\n",
       "      <td>0.3</td>\n",
       "      <td>Very Good</td>\n",
       "      <td>J</td>\n",
       "      <td>SI1</td>\n",
       "      <td>NaN</td>\n",
       "      <td>59.0</td>\n",
       "      <td>351</td>\n",
       "      <td>4.21</td>\n",
       "      <td>4.27</td>\n",
       "      <td>2.66</td>\n",
       "    </tr>\n",
       "    <tr>\n",
       "      <th>73</th>\n",
       "      <td>53.766667</td>\n",
       "      <td>-2.350000</td>\n",
       "      <td>0.3</td>\n",
       "      <td>Premium</td>\n",
       "      <td>H</td>\n",
       "      <td>SI1</td>\n",
       "      <td>NaN</td>\n",
       "      <td>57.0</td>\n",
       "      <td>554</td>\n",
       "      <td>NaN</td>\n",
       "      <td>NaN</td>\n",
       "      <td>2.67</td>\n",
       "    </tr>\n",
       "    <tr>\n",
       "      <th>104</th>\n",
       "      <td>53.55</td>\n",
       "      <td>-113.500000</td>\n",
       "      <td>0.8</td>\n",
       "      <td>Ideal</td>\n",
       "      <td>I</td>\n",
       "      <td>VS1</td>\n",
       "      <td>NaN</td>\n",
       "      <td>56.0</td>\n",
       "      <td>2760</td>\n",
       "      <td>5.94</td>\n",
       "      <td>5.87</td>\n",
       "      <td>3.72</td>\n",
       "    </tr>\n",
       "    <tr>\n",
       "      <th>110</th>\n",
       "      <td>20.9083333</td>\n",
       "      <td>-156.227500</td>\n",
       "      <td>0.8</td>\n",
       "      <td>Ideal</td>\n",
       "      <td>F</td>\n",
       "      <td>SI2</td>\n",
       "      <td>NaN</td>\n",
       "      <td>57.0</td>\n",
       "      <td>2761</td>\n",
       "      <td>5.96</td>\n",
       "      <td>6.00</td>\n",
       "      <td>3.67</td>\n",
       "    </tr>\n",
       "    <tr>\n",
       "      <th>116</th>\n",
       "      <td>41.8005556</td>\n",
       "      <td>-73.121667</td>\n",
       "      <td>0.8</td>\n",
       "      <td>Premium</td>\n",
       "      <td>F</td>\n",
       "      <td>SI2</td>\n",
       "      <td>NaN</td>\n",
       "      <td>58.0</td>\n",
       "      <td>2762</td>\n",
       "      <td>5.98</td>\n",
       "      <td>5.94</td>\n",
       "      <td>3.68</td>\n",
       "    </tr>\n",
       "  </tbody>\n",
       "</table>\n",
       "</div>"
      ],
      "text/plain": [
       "       latitude   longitude  carat        cut color clarity  depth  table  \\\n",
       "19   41.6005556  -93.608889    0.3  Very Good     J     SI1    NaN   59.0   \n",
       "73    53.766667   -2.350000    0.3    Premium     H     SI1    NaN   57.0   \n",
       "104       53.55 -113.500000    0.8      Ideal     I     VS1    NaN   56.0   \n",
       "110  20.9083333 -156.227500    0.8      Ideal     F     SI2    NaN   57.0   \n",
       "116  41.8005556  -73.121667    0.8    Premium     F     SI2    NaN   58.0   \n",
       "\n",
       "     price  x_length  y_width  z_depth  \n",
       "19     351      4.21     4.27     2.66  \n",
       "73     554       NaN      NaN     2.67  \n",
       "104   2760      5.94     5.87     3.72  \n",
       "110   2761      5.96     6.00     3.67  \n",
       "116   2762      5.98     5.94     3.68  "
      ]
     },
     "metadata": {},
     "output_type": "display_data"
    }
   ],
   "source": [
    "# Identify diamonds with magical missing values in key columns\n",
    "suspect_diamonds = merged_spell_df[(merged_spell_df['depth'].isna()) | \n",
    "                                   (merged_spell_df['x_length'].isna()) | \n",
    "                                   (merged_spell_df['y_width'].isna())]\n",
    "\n",
    "# Show magical information about the identified diamonds\n",
    "print(\"Number of suspect diamonds:\", len(suspect_diamonds))\n",
    "print(\"\\nInformation about the suspect diamonds:\")\n",
    "display(suspect_diamonds.head())"
   ]
  },
  {
   "cell_type": "code",
   "execution_count": 10,
   "metadata": {},
   "outputs": [
    {
     "name": "stdout",
     "output_type": "stream",
     "text": [
      "The magical DataFrame has no duplicate rows.\n"
     ]
    }
   ],
   "source": [
    "# Check for duplicates in the enchanted DataFrame\n",
    "if merged_spell_df.duplicated().any():\n",
    "    print(\"The magical DataFrame has duplicate rows.\")\n",
    "else:\n",
    "    print(\"The magical DataFrame has no duplicate rows.\")"
   ]
  },
  {
   "cell_type": "code",
   "execution_count": 11,
   "metadata": {},
   "outputs": [
    {
     "name": "stdout",
     "output_type": "stream",
     "text": [
      "Unique magical values in the 'cut' column:\n",
      "['Ideal' 'Premium' 'Good' 'Very Good' 'Fair' 'Very Goo!d' \"P*'remium\"\n",
      " 'I#deal' '#Very Good' 'P?remium' \"*'Ideal\" '!Good' 'Pre!mium' 'Pr?emium'\n",
      " 'Very Go#od' 'Ide&al' 'Ide!al' 'Id!eal' '&Premium' 'Go?od' 'G#ood'\n",
      " \"Very *'Good\" \"Ide*'al\" 'V&ery Good' '&Ideal' 'Very G#ood']\n",
      "\n",
      "Unique magical values in the 'color' column:\n",
      "['E' 'I' 'J' 'H' 'F' 'G' 'D' \"*'E\" '#F' '&G' '!H' '?J' '#D' '&I' '!I' '?G'\n",
      " '#H' '?H' '?E' \"*'F\" '!E' '&F' '#G' \"*'I\" '!F' '&E']\n",
      "\n",
      "Unique magical values in the 'clarity' column:\n",
      "['SI2' 'SI1' 'VS1' 'VS2' 'VVS2' 'VVS1' 'I1' 'IF' 'S?I1' 'SI!1' '&VS2'\n",
      " '&SI2' \"S*'I1\" 'VS?1' \"S*'I2\" '#VS1' 'V&S2' 'V!S2' '!VS2' 'VS#2' \"VVS*'2\"\n",
      " \"*'SI2\" 'VV?S1' 'S&I1' \"*'SI1\" 'SI?1' 'VV#S1' 'V#S2' '#SI!1' 'S!I2']\n"
     ]
    }
   ],
   "source": [
    "# Show the unique magical values in the 'cut' column\n",
    "cut_values = merged_spell_df['cut'].unique()\n",
    "print(\"Unique magical values in the 'cut' column:\")\n",
    "print(cut_values)\n",
    "\n",
    "# Show the unique magical values in the 'color' column\n",
    "color_values = merged_spell_df['color'].unique()\n",
    "print(\"\\nUnique magical values in the 'color' column:\")\n",
    "print(color_values)\n",
    "\n",
    "# Show the unique magical values in the 'clarity' column\n",
    "clarity_values = merged_spell_df['clarity'].unique()\n",
    "print(\"\\nUnique magical values in the 'clarity' column:\")\n",
    "print(clarity_values)\n"
   ]
  },
  {
   "cell_type": "code",
   "execution_count": 12,
   "metadata": {},
   "outputs": [
    {
     "name": "stdout",
     "output_type": "stream",
     "text": [
      "Unique magical values in the 'cut' column:\n",
      "['Ideal' 'Premium' 'Good' 'Very Good' 'Fair']\n",
      "\n",
      "Unique magical values in the 'color' column:\n",
      "['E' 'I' 'J' 'H' 'F' 'G' 'D']\n",
      "\n",
      "Unique magical values in the 'clarity' column:\n",
      "['SI2' 'SI1' 'VS1' 'VS2' 'VVS2' 'VVS1' 'I1' 'IF']\n",
      "\n"
     ]
    }
   ],
   "source": [
    "# Define the magical correction function using regular expressions\n",
    "def magical_correction_like(column, correction_patterns):\n",
    "    for pattern, correction in correction_patterns.items():\n",
    "        column = column.str.replace(pattern, correction, regex=True)\n",
    "    return column\n",
    "\n",
    "# Common correction patterns for all columns\n",
    "common_correction_patterns = {\n",
    "    '!|#|\\?|\\*|&': '',  # Vanish special characters\n",
    "    \"[^a-zA-Z0-9\\s]\": '',  # Vanish all characters except letters, numbers, or spaces\n",
    "    \"^\\s*'|'\\s*$\": ''  # Vanish single quotes at the start or end of the string\n",
    "}\n",
    "\n",
    "# Apply correction using the defined magical function\n",
    "for column in ['cut', 'color', 'clarity']:\n",
    "    merged_spell_df[column] = magical_correction_like(merged_spell_df[column], common_correction_patterns)\n",
    "\n",
    "# Show the unique magical values in each corrected column\n",
    "for column in ['cut', 'color', 'clarity']:\n",
    "    unique_values = merged_spell_df[column].unique()\n",
    "    print(f\"Unique magical values in the '{column}' column:\")\n",
    "    print(unique_values)\n",
    "    print()\n"
   ]
  },
  {
   "cell_type": "code",
   "execution_count": 13,
   "metadata": {},
   "outputs": [
    {
     "data": {
      "text/html": [
       "<div>\n",
       "<style scoped>\n",
       "    .dataframe tbody tr th:only-of-type {\n",
       "        vertical-align: middle;\n",
       "    }\n",
       "\n",
       "    .dataframe tbody tr th {\n",
       "        vertical-align: top;\n",
       "    }\n",
       "\n",
       "    .dataframe thead th {\n",
       "        text-align: right;\n",
       "    }\n",
       "</style>\n",
       "<table border=\"1\" class=\"dataframe\">\n",
       "  <thead>\n",
       "    <tr style=\"text-align: right;\">\n",
       "      <th></th>\n",
       "      <th>cut</th>\n",
       "      <th>cut_encoded</th>\n",
       "      <th>color</th>\n",
       "      <th>color_encoded</th>\n",
       "      <th>clarity</th>\n",
       "      <th>clarity_encoded</th>\n",
       "    </tr>\n",
       "  </thead>\n",
       "  <tbody>\n",
       "    <tr>\n",
       "      <th>0</th>\n",
       "      <td>Ideal</td>\n",
       "      <td>2</td>\n",
       "      <td>E</td>\n",
       "      <td>1</td>\n",
       "      <td>SI2</td>\n",
       "      <td>3</td>\n",
       "    </tr>\n",
       "    <tr>\n",
       "      <th>1</th>\n",
       "      <td>Premium</td>\n",
       "      <td>3</td>\n",
       "      <td>E</td>\n",
       "      <td>1</td>\n",
       "      <td>SI1</td>\n",
       "      <td>2</td>\n",
       "    </tr>\n",
       "    <tr>\n",
       "      <th>2</th>\n",
       "      <td>Good</td>\n",
       "      <td>1</td>\n",
       "      <td>E</td>\n",
       "      <td>1</td>\n",
       "      <td>VS1</td>\n",
       "      <td>4</td>\n",
       "    </tr>\n",
       "    <tr>\n",
       "      <th>3</th>\n",
       "      <td>Premium</td>\n",
       "      <td>3</td>\n",
       "      <td>I</td>\n",
       "      <td>5</td>\n",
       "      <td>VS2</td>\n",
       "      <td>5</td>\n",
       "    </tr>\n",
       "    <tr>\n",
       "      <th>4</th>\n",
       "      <td>Good</td>\n",
       "      <td>1</td>\n",
       "      <td>J</td>\n",
       "      <td>6</td>\n",
       "      <td>SI2</td>\n",
       "      <td>3</td>\n",
       "    </tr>\n",
       "  </tbody>\n",
       "</table>\n",
       "</div>"
      ],
      "text/plain": [
       "       cut  cut_encoded color  color_encoded clarity  clarity_encoded\n",
       "0    Ideal            2     E              1     SI2                3\n",
       "1  Premium            3     E              1     SI1                2\n",
       "2     Good            1     E              1     VS1                4\n",
       "3  Premium            3     I              5     VS2                5\n",
       "4     Good            1     J              6     SI2                3"
      ]
     },
     "metadata": {},
     "output_type": "display_data"
    }
   ],
   "source": [
    "# Initialize the magical encoder\n",
    "label_encoder = LabelEncoder()\n",
    "\n",
    "# Apply the enchanting encoding to the categorical columns\n",
    "merged_spell_df['cut_encoded'] = label_encoder.fit_transform(merged_spell_df['cut'])\n",
    "merged_spell_df['color_encoded'] = label_encoder.fit_transform(merged_spell_df['color'])\n",
    "merged_spell_df['clarity_encoded'] = label_encoder.fit_transform(merged_spell_df['clarity'])\n",
    "\n",
    "# Show the first few enchanted records to verify the changes\n",
    "display(merged_spell_df[['cut', 'cut_encoded', 'color', 'color_encoded', 'clarity', 'clarity_encoded']].head())\n"
   ]
  },
  {
   "cell_type": "code",
   "execution_count": 14,
   "metadata": {},
   "outputs": [
    {
     "name": "stdout",
     "output_type": "stream",
     "text": [
      "Unique magical values in the 'cut' column:\n",
      "['Ideal' 'Premium' 'Good' 'Very Good' 'Fair']\n",
      "\n",
      "Unique magical values in the 'cut_encoded' column:\n",
      "[2 3 1 4 0]\n",
      "\n",
      "Unique magical values in the 'color' column:\n",
      "['E' 'I' 'J' 'H' 'F' 'G' 'D']\n",
      "\n",
      "Unique magical values in the 'color_encoded' column:\n",
      "[1 5 6 4 2 3 0]\n",
      "\n",
      "Unique magical values in the 'clarity' column:\n",
      "['SI2' 'SI1' 'VS1' 'VS2' 'VVS2' 'VVS1' 'I1' 'IF']\n",
      "\n",
      "Unique magical values in the 'clarity_encoded' column:\n",
      "[3 2 4 5 7 6 0 1]\n",
      "\n"
     ]
    }
   ],
   "source": [
    "# Show the unique magical values in each corrected column\n",
    "for column in ['cut', 'cut_encoded', 'color', 'color_encoded', 'clarity', 'clarity_encoded']:\n",
    "    unique_values = merged_spell_df[column].unique()\n",
    "    print(f\"Unique magical values in the '{column}' column:\")\n",
    "    print(unique_values)\n",
    "    print()\n"
   ]
  },
  {
   "cell_type": "code",
   "execution_count": 15,
   "metadata": {},
   "outputs": [
    {
     "name": "stdout",
     "output_type": "stream",
     "text": [
      "<class 'pandas.core.frame.DataFrame'>\n",
      "RangeIndex: 53930 entries, 0 to 53929\n",
      "Data columns (total 15 columns):\n",
      " #   Column           Non-Null Count  Dtype  \n",
      "---  ------           --------------  -----  \n",
      " 0   latitude         53929 non-null  float64\n",
      " 1   longitude        53930 non-null  float64\n",
      " 2   carat            53930 non-null  float64\n",
      " 3   cut              53930 non-null  object \n",
      " 4   color            53930 non-null  object \n",
      " 5   clarity          53930 non-null  object \n",
      " 6   depth            50968 non-null  float64\n",
      " 7   table            53930 non-null  float64\n",
      " 8   price            53930 non-null  int64  \n",
      " 9   x_length         52840 non-null  float64\n",
      " 10  y_width          53345 non-null  float64\n",
      " 11  z_depth          53930 non-null  float64\n",
      " 12  cut_encoded      53930 non-null  int32  \n",
      " 13  color_encoded    53930 non-null  int32  \n",
      " 14  clarity_encoded  53930 non-null  int32  \n",
      "dtypes: float64(8), int32(3), int64(1), object(3)\n",
      "memory usage: 5.6+ MB\n"
     ]
    }
   ],
   "source": [
    "# List of columns to be enchanted and converted\n",
    "columns_to_convert = ['latitude']\n",
    "\n",
    "# With a flick of the wand, convert the columns to the correct data type\n",
    "merged_spell_df[columns_to_convert] = merged_spell_df[columns_to_convert].apply(pd.to_numeric, errors='coerce')\n",
    "\n",
    "# Display the magical information about the DataFrame after the enchantment\n",
    "merged_spell_df.info()\n"
   ]
  },
  {
   "cell_type": "code",
   "execution_count": 16,
   "metadata": {},
   "outputs": [],
   "source": [
    "# Create a DataFrame filled with magical suspicious data\n",
    "df_suspicious = merged_spell_df[merged_spell_df.isnull().any(axis=1)]\n",
    "\n",
    "# Save this enchanted DataFrame into a separate file\n",
    "df_suspicious.to_csv('df_suspicious.csv', index=False)\n",
    "\n",
    "# With a spell, banish the rows with null values from the original DataFrame\n",
    "cleaned_df = merged_spell_df.dropna()\n"
   ]
  },
  {
   "cell_type": "code",
   "execution_count": 17,
   "metadata": {},
   "outputs": [
    {
     "name": "stdout",
     "output_type": "stream",
     "text": [
      "<class 'pandas.core.frame.DataFrame'>\n",
      "Index: 50967 entries, 0 to 53928\n",
      "Data columns (total 15 columns):\n",
      " #   Column           Non-Null Count  Dtype  \n",
      "---  ------           --------------  -----  \n",
      " 0   latitude         50967 non-null  float64\n",
      " 1   longitude        50967 non-null  float64\n",
      " 2   carat            50967 non-null  float64\n",
      " 3   cut              50967 non-null  object \n",
      " 4   color            50967 non-null  object \n",
      " 5   clarity          50967 non-null  object \n",
      " 6   depth            50967 non-null  float64\n",
      " 7   table            50967 non-null  float64\n",
      " 8   price            50967 non-null  int64  \n",
      " 9   x_length         50967 non-null  float64\n",
      " 10  y_width          50967 non-null  float64\n",
      " 11  z_depth          50967 non-null  float64\n",
      " 12  cut_encoded      50967 non-null  int32  \n",
      " 13  color_encoded    50967 non-null  int32  \n",
      " 14  clarity_encoded  50967 non-null  int32  \n",
      "dtypes: float64(8), int32(3), int64(1), object(3)\n",
      "memory usage: 5.6+ MB\n"
     ]
    }
   ],
   "source": [
    "cleaned_df.info()"
   ]
  },
  {
   "cell_type": "code",
   "execution_count": 18,
   "metadata": {},
   "outputs": [
    {
     "data": {
      "image/png": "[encoded data removed]",
      "text/plain": [
       "<Figure size 1600x600 with 1 Axes>"
      ]
     },
     "metadata": {},
     "output_type": "display_data"
    }
   ],
   "source": [
    "# With a magical incantation, visualize the heatmap to check for any lingering missing values after imputation\n",
    "plt.figure(figsize=(16, 6))\n",
    "sns.heatmap(cleaned_df.isnull(), cbar=False)\n",
    "plt.title('Missing Values in the Enchanted Diamonds Dataset')\n",
    "plt.show()\n"
   ]
  },
  {
   "cell_type": "code",
   "execution_count": 19,
   "metadata": {},
   "outputs": [
    {
     "name": "stdout",
     "output_type": "stream",
     "text": [
      "Frequencies of values in 'cut' and 'cut_encoded' sorted by 'Cut_encoded':\n"
     ]
    },
    {
     "data": {
      "text/html": [
       "<div>\n",
       "<style scoped>\n",
       "    .dataframe tbody tr th:only-of-type {\n",
       "        vertical-align: middle;\n",
       "    }\n",
       "\n",
       "    .dataframe tbody tr th {\n",
       "        vertical-align: top;\n",
       "    }\n",
       "\n",
       "    .dataframe thead th {\n",
       "        text-align: right;\n",
       "    }\n",
       "</style>\n",
       "<table border=\"1\" class=\"dataframe\">\n",
       "  <thead>\n",
       "    <tr style=\"text-align: right;\">\n",
       "      <th></th>\n",
       "      <th>cut</th>\n",
       "      <th>cut_encoded</th>\n",
       "      <th>Frequency</th>\n",
       "    </tr>\n",
       "  </thead>\n",
       "  <tbody>\n",
       "    <tr>\n",
       "      <th>0</th>\n",
       "      <td>Fair</td>\n",
       "      <td>0</td>\n",
       "      <td>1518</td>\n",
       "    </tr>\n",
       "    <tr>\n",
       "      <th>1</th>\n",
       "      <td>Good</td>\n",
       "      <td>1</td>\n",
       "      <td>4644</td>\n",
       "    </tr>\n",
       "    <tr>\n",
       "      <th>2</th>\n",
       "      <td>Ideal</td>\n",
       "      <td>2</td>\n",
       "      <td>20291</td>\n",
       "    </tr>\n",
       "    <tr>\n",
       "      <th>3</th>\n",
       "      <td>Premium</td>\n",
       "      <td>3</td>\n",
       "      <td>13075</td>\n",
       "    </tr>\n",
       "    <tr>\n",
       "      <th>4</th>\n",
       "      <td>Very Good</td>\n",
       "      <td>4</td>\n",
       "      <td>11439</td>\n",
       "    </tr>\n",
       "  </tbody>\n",
       "</table>\n",
       "</div>"
      ],
      "text/plain": [
       "         cut  cut_encoded  Frequency\n",
       "0       Fair            0       1518\n",
       "1       Good            1       4644\n",
       "2      Ideal            2      20291\n",
       "3    Premium            3      13075\n",
       "4  Very Good            4      11439"
      ]
     },
     "metadata": {},
     "output_type": "display_data"
    }
   ],
   "source": [
    "# Create a magical copy of the cleaned DataFrame\n",
    "cleaned_df_copy = cleaned_df.copy()\n",
    "\n",
    "#  With a flick of the wand, let's calculate the frequencies of values in 'cut' and 'cut_encoded'\n",
    "cut_counts_sorted = cleaned_df_copy.groupby(['cut', 'cut_encoded']).size().reset_index(\n",
    "    name='Frequency').sort_values(by='cut_encoded')\n",
    "\n",
    "# Display the enchanted DataFrame sorted\n",
    "print(\"Frequencies of values in 'cut' and 'cut_encoded' sorted by 'Cut_encoded':\")\n",
    "display(cut_counts_sorted)\n"
   ]
  },
  {
   "cell_type": "code",
   "execution_count": 20,
   "metadata": {},
   "outputs": [
    {
     "name": "stdout",
     "output_type": "stream",
     "text": [
      "Frequencies of values in 'color' and 'color_encoded' sorted by 'Color_encoded':\n"
     ]
    },
    {
     "data": {
      "text/html": [
       "<div>\n",
       "<style scoped>\n",
       "    .dataframe tbody tr th:only-of-type {\n",
       "        vertical-align: middle;\n",
       "    }\n",
       "\n",
       "    .dataframe tbody tr th {\n",
       "        vertical-align: top;\n",
       "    }\n",
       "\n",
       "    .dataframe thead th {\n",
       "        text-align: right;\n",
       "    }\n",
       "</style>\n",
       "<table border=\"1\" class=\"dataframe\">\n",
       "  <thead>\n",
       "    <tr style=\"text-align: right;\">\n",
       "      <th></th>\n",
       "      <th>color</th>\n",
       "      <th>color_encoded</th>\n",
       "      <th>Frequency</th>\n",
       "    </tr>\n",
       "  </thead>\n",
       "  <tbody>\n",
       "    <tr>\n",
       "      <th>0</th>\n",
       "      <td>D</td>\n",
       "      <td>0</td>\n",
       "      <td>6398</td>\n",
       "    </tr>\n",
       "    <tr>\n",
       "      <th>1</th>\n",
       "      <td>E</td>\n",
       "      <td>1</td>\n",
       "      <td>9256</td>\n",
       "    </tr>\n",
       "    <tr>\n",
       "      <th>2</th>\n",
       "      <td>F</td>\n",
       "      <td>2</td>\n",
       "      <td>9031</td>\n",
       "    </tr>\n",
       "    <tr>\n",
       "      <th>3</th>\n",
       "      <td>G</td>\n",
       "      <td>3</td>\n",
       "      <td>10630</td>\n",
       "    </tr>\n",
       "    <tr>\n",
       "      <th>4</th>\n",
       "      <td>H</td>\n",
       "      <td>4</td>\n",
       "      <td>7886</td>\n",
       "    </tr>\n",
       "    <tr>\n",
       "      <th>5</th>\n",
       "      <td>I</td>\n",
       "      <td>5</td>\n",
       "      <td>5114</td>\n",
       "    </tr>\n",
       "    <tr>\n",
       "      <th>6</th>\n",
       "      <td>J</td>\n",
       "      <td>6</td>\n",
       "      <td>2652</td>\n",
       "    </tr>\n",
       "  </tbody>\n",
       "</table>\n",
       "</div>"
      ],
      "text/plain": [
       "  color  color_encoded  Frequency\n",
       "0     D              0       6398\n",
       "1     E              1       9256\n",
       "2     F              2       9031\n",
       "3     G              3      10630\n",
       "4     H              4       7886\n",
       "5     I              5       5114\n",
       "6     J              6       2652"
      ]
     },
     "metadata": {},
     "output_type": "display_data"
    }
   ],
   "source": [
    "# With a flick of the wand, let's calculate the frequencies of values in 'color' and 'color_encoded' and sort by 'color_encoded'\n",
    "color_counts_sorted = cleaned_df_copy.groupby(['color', 'color_encoded']).size().reset_index(\n",
    "    name='Frequency').sort_values(by='color_encoded')\n",
    "\n",
    "# Display the enchanted DataFrame sorted\n",
    "print(\"Frequencies of values in 'color' and 'color_encoded' sorted by 'Color_encoded':\")\n",
    "display(color_counts_sorted)\n"
   ]
  },
  {
   "cell_type": "code",
   "execution_count": 21,
   "metadata": {},
   "outputs": [
    {
     "name": "stdout",
     "output_type": "stream",
     "text": [
      "Frequencies of values in 'clarity' and 'clarity_encoded':\n"
     ]
    },
    {
     "data": {
      "text/html": [
       "<div>\n",
       "<style scoped>\n",
       "    .dataframe tbody tr th:only-of-type {\n",
       "        vertical-align: middle;\n",
       "    }\n",
       "\n",
       "    .dataframe tbody tr th {\n",
       "        vertical-align: top;\n",
       "    }\n",
       "\n",
       "    .dataframe thead th {\n",
       "        text-align: right;\n",
       "    }\n",
       "</style>\n",
       "<table border=\"1\" class=\"dataframe\">\n",
       "  <thead>\n",
       "    <tr style=\"text-align: right;\">\n",
       "      <th></th>\n",
       "      <th>clarity</th>\n",
       "      <th>clarity_encoded</th>\n",
       "      <th>Frequency</th>\n",
       "    </tr>\n",
       "  </thead>\n",
       "  <tbody>\n",
       "    <tr>\n",
       "      <th>0</th>\n",
       "      <td>SI1</td>\n",
       "      <td>2</td>\n",
       "      <td>12374</td>\n",
       "    </tr>\n",
       "    <tr>\n",
       "      <th>1</th>\n",
       "      <td>VS2</td>\n",
       "      <td>5</td>\n",
       "      <td>11547</td>\n",
       "    </tr>\n",
       "    <tr>\n",
       "      <th>2</th>\n",
       "      <td>SI2</td>\n",
       "      <td>3</td>\n",
       "      <td>8700</td>\n",
       "    </tr>\n",
       "    <tr>\n",
       "      <th>3</th>\n",
       "      <td>VS1</td>\n",
       "      <td>4</td>\n",
       "      <td>7709</td>\n",
       "    </tr>\n",
       "    <tr>\n",
       "      <th>4</th>\n",
       "      <td>VVS2</td>\n",
       "      <td>7</td>\n",
       "      <td>4804</td>\n",
       "    </tr>\n",
       "    <tr>\n",
       "      <th>5</th>\n",
       "      <td>VVS1</td>\n",
       "      <td>6</td>\n",
       "      <td>3440</td>\n",
       "    </tr>\n",
       "    <tr>\n",
       "      <th>6</th>\n",
       "      <td>IF</td>\n",
       "      <td>1</td>\n",
       "      <td>1684</td>\n",
       "    </tr>\n",
       "    <tr>\n",
       "      <th>7</th>\n",
       "      <td>I1</td>\n",
       "      <td>0</td>\n",
       "      <td>709</td>\n",
       "    </tr>\n",
       "  </tbody>\n",
       "</table>\n",
       "</div>"
      ],
      "text/plain": [
       "  clarity  clarity_encoded  Frequency\n",
       "0     SI1                2      12374\n",
       "1     VS2                5      11547\n",
       "2     SI2                3       8700\n",
       "3     VS1                4       7709\n",
       "4    VVS2                7       4804\n",
       "5    VVS1                6       3440\n",
       "6      IF                1       1684\n",
       "7      I1                0        709"
      ]
     },
     "metadata": {},
     "output_type": "display_data"
    }
   ],
   "source": [
    "# Let's conjure up the frequencies of values in 'clarity' and 'clarity_encoded'\n",
    "clarity_counts = cleaned_df_copy[['clarity', 'clarity_encoded']].value_counts().reset_index()\n",
    "clarity_counts.columns = ['clarity', 'clarity_encoded', 'Frequency']\n",
    "\n",
    "# Display the enchanted DataFrame with the values and their frequencies\n",
    "print(\"Frequencies of values in 'clarity' and 'clarity_encoded':\")\n",
    "display(clarity_counts)\n"
   ]
  },
  {
   "cell_type": "code",
   "execution_count": 22,
   "metadata": {},
   "outputs": [
    {
     "data": {
      "image/png": "[encoded data removed]",
      "text/plain": [
       "<Figure size 1500x800 with 2 Axes>"
      ]
     },
     "metadata": {},
     "output_type": "display_data"
    }
   ],
   "source": [
    "# Select only the relevant numerical columns for the correlation matrix\n",
    "numeric_columns = cleaned_df[['carat', 'depth', 'table', 'price', 'x_length', 'y_width', 'z_depth', 'cut_encoded',\n",
    "                             'color_encoded', 'clarity_encoded']]\n",
    "\n",
    "# Calculate the correlation matrix\n",
    "correlation_matrix = numeric_columns.corr()\n",
    "\n",
    "# With a wave of the wand, let's visualize the correlation matrix\n",
    "plt.figure(figsize=(15, 8))\n",
    "sns.heatmap(correlation_matrix, annot=True, cmap='RdBu_r', vmin=-1, vmax=1)\n",
    "plt.title('Diamonds Correlation Matrix')\n",
    "plt.show()\n"
   ]
  },
  {
   "cell_type": "code",
   "execution_count": 23,
   "metadata": {},
   "outputs": [],
   "source": [
    "# Conjure a new DataFrame without the magical attributes 'cut', 'color', and 'clarity'\n",
    "X = cleaned_df.drop(['latitude', 'longitude', 'cut', 'color', 'clarity', 'price'], axis=1)\n",
    "# Cast a spell to extract the 'price' column for prediction\n",
    "y = cleaned_df['price']\n"
   ]
  },
  {
   "cell_type": "code",
   "execution_count": 24,
   "metadata": {},
   "outputs": [],
   "source": [
    "# Split the enchanted dataset into training and testing sets, casting a spell of randomness\n",
    "X_train, X_test, y_train, y_test = train_test_split(X, y, test_size=0.25, random_state=7)"
   ]
  },
  {
   "cell_type": "code",
   "execution_count": 25,
   "metadata": {},
   "outputs": [],
   "source": [
    "# Conjuring pipelines for different regression models, each imbued with its own magical properties\n",
    "pipelines = [\n",
    "    Pipeline([(\"scaler\", StandardScaler()), (\"regressor\", LinearRegression())]),  # Summoning the Linear Regression model\n",
    "    Pipeline([(\"scaler\", StandardScaler()), (\"regressor\", Ridge())]),  # Casting the Ridge Regression spell\n",
    "    Pipeline([(\"scaler\", StandardScaler()), (\"regressor\", Lasso())]),  # Conjuring the Lasso Regression charm\n",
    "    Pipeline([(\"scaler\", StandardScaler()), (\"regressor\", ElasticNet())]),  # Invoking the Elastic Net Regression incantation\n",
    "    Pipeline([(\"scaler\", StandardScaler()), (\"regressor\", DecisionTreeRegressor())]),  # Channeling the Decision Tree Regression enchantment\n",
    "    Pipeline([(\"scaler\", StandardScaler()), (\"regressor\", RandomForestRegressor())]),  # Crafting the RandomForest Regression potion\n",
    "    Pipeline([(\"scaler\", StandardScaler()), (\"regressor\", GradientBoostingRegressor())]),  # Concocting the Gradient Boosting Regression elixir\n",
    "    Pipeline([(\"scaler\", StandardScaler()), (\"regressor\", AdaBoostRegressor())]),  # Brewing the AdaBoost Regression concoction\n",
    "    Pipeline([(\"scaler\", StandardScaler()), (\"regressor\", KNeighborsRegressor())]),  # Conjuring the K-Nearest Neighbors Regression spell\n",
    "    Pipeline([(\"scaler\", StandardScaler()), (\"regressor\", XGBRegressor())]),  # Summoning the XGBoost Regression wizardry\n",
    "    Pipeline([(\"scaler\", StandardScaler()), (\"regressor\", SVR())]),  # Evoking the Support Vector Regression magic\n",
    "    Pipeline([(\"scaler\", StandardScaler()), (\"regressor\", HuberRegressor())])  # Channeling the Huber Regression incantation\n",
    "]\n"
   ]
  },
  {
   "cell_type": "code",
   "execution_count": 26,
   "metadata": {},
   "outputs": [
    {
     "name": "stdout",
     "output_type": "stream",
     "text": [
      "Model 0: Average RMSE: -1364.39\n",
      "Model 1: Average RMSE: -1364.36\n",
      "Model 2: Average RMSE: -1364.02\n",
      "Model 3: Average RMSE: -1710.71\n",
      "Model 4: Average RMSE: -751.56\n",
      "Model 5: Average RMSE: -555.97\n",
      "Model 6: Average RMSE: -675.27\n",
      "Model 7: Average RMSE: -1336.11\n",
      "Model 8: Average RMSE: -831.33\n",
      "Model 9: Average RMSE: -555.85\n",
      "Model 10: Average RMSE: -2909.73\n",
      "Model 11: Average RMSE: -1450.48\n"
     ]
    }
   ],
   "source": [
    "# Training and evaluating each magical model, unleashing their powers upon the dataset\n",
    "for i, pipeline in enumerate(pipelines):\n",
    "    # Train the model\n",
    "    pipeline.fit(X_train, y_train)\n",
    "    \n",
    "    # Evaluate the model using cross-validation\n",
    "    cv_score = cross_val_score(pipeline, X_train, y_train, scoring=\"neg_root_mean_squared_error\", cv=10)\n",
    "    print(f\"Model {i}: Average RMSE: {cv_score.mean():.2f}\")\n"
   ]
  },
  {
   "cell_type": "code",
   "execution_count": 27,
   "metadata": {},
   "outputs": [
    {
     "name": "stdout",
     "output_type": "stream",
     "text": [
      "Modelo 5: Pipeline(steps=[('scaler', StandardScaler()),\n",
      "                ('regressor', RandomForestRegressor())])\n"
     ]
    }
   ],
   "source": [
    "# Retrieve the magical model corresponding to \"Model 5\" from the list of pipelines\n",
    "modelo_5 = pipelines[5]\n",
    "\n",
    "# Print the description of the enchanted model\n",
    "print(\"Modelo 5:\", modelo_5)\n"
   ]
  },
  {
   "cell_type": "code",
   "execution_count": 28,
   "metadata": {},
   "outputs": [
    {
     "data": {
      "text/plain": [
       "['modelo_5_random_forest.pkl']"
      ]
     },
     "execution_count": 28,
     "metadata": {},
     "output_type": "execute_result"
    }
   ],
   "source": [
    "# Save the enchanted \"Modelo 5\" using the magical joblib\n",
    "joblib.dump(modelo_5, 'modelo_5_random_forest.pkl')\n"
   ]
  },
  {
   "cell_type": "code",
   "execution_count": 29,
   "metadata": {},
   "outputs": [
    {
     "name": "stdout",
     "output_type": "stream",
     "text": [
      "[10600.12 14725.67 13843.35 ...  2926.79  3970.76 10705.92]\n"
     ]
    }
   ],
   "source": [
    "# Restore the enchanted \"Modelo 5\" using the magical joblib\n",
    "modelo_5 = joblib.load('modelo_5_random_forest.pkl')\n",
    "\n",
    "# Perform prediction on the test data, unleashing the model's magical powers\n",
    "pred = modelo_5.predict(X_test)\n",
    "print(pred)\n"
   ]
  },
  {
   "cell_type": "code",
   "execution_count": 30,
   "metadata": {},
   "outputs": [
    {
     "name": "stdout",
     "output_type": "stream",
     "text": [
      "R^2: 0.9813280668022296\n",
      "Adjusted R^2: 0.9813148679804593\n",
      "MAE: 274.5236002066656\n",
      "MSE: 300016.24182540405\n",
      "RMSE: 547.7373839947426\n"
     ]
    }
   ],
   "source": [
    "# Perform prediction on the test data, unleashing the model's magical powers\n",
    "pred = modelo_5.predict(X_test)\n",
    "\n",
    "# Calculate R^2, a measure of the model's predictive power\n",
    "r2 = r2_score(y_test, pred)\n",
    "\n",
    "# Calculate adjusted R^2, a measure that considers the number of predictors\n",
    "n = len(X_test)  # Number of samples\n",
    "p = X_test.shape[1]  # Number of predictors\n",
    "adjusted_r2 = 1 - (1 - r2) * (n - 1) / (n - p - 1)\n",
    "\n",
    "# Calculate MAE (Mean Absolute Error), a measure of the average prediction error\n",
    "mae = mean_absolute_error(y_test, pred)\n",
    "\n",
    "# Calculate MSE (Mean Squared Error), a measure of the average squared prediction error\n",
    "mse = mean_squared_error(y_test, pred)\n",
    "\n",
    "# Calculate RMSE (Root Mean Squared Error), a measure of the average squared prediction error\n",
    "rmse = mean_squared_error(y_test, pred, squared=False)\n",
    "\n",
    "# Print the results, unveiling the model's performance metrics\n",
    "print(\"R^2:\", r2)\n",
    "print(\"Adjusted R^2:\", adjusted_r2)\n",
    "print(\"MAE:\", mae)\n",
    "print(\"MSE:\", mse)\n",
    "print(\"RMSE:\", rmse)\n"
   ]
  },
  {
   "cell_type": "code",
   "execution_count": 31,
   "metadata": {},
   "outputs": [
    {
     "data": {
      "image/png": "[encoded data removed]",
      "text/plain": [
       "<Figure size 1000x1000 with 1 Axes>"
      ]
     },
     "metadata": {},
     "output_type": "display_data"
    }
   ],
   "source": [
    "# Let's conjure the figure and the enchanted plot\n",
    "plt.figure(figsize=(10, 10))\n",
    "\n",
    "# Unveiling the true magic of the model by plotting predictions vs actual values\n",
    "plt.scatter(y_test, pred, c='crimson')\n",
    "plt.title(\"Real Diamond Prices vs Predicted\")\n",
    "\n",
    "# A reference line for perfect predictions\n",
    "p1 = max(max(y_test), max(pred))\n",
    "p2 = min(min(y_test), min(pred))\n",
    "plt.plot([p1, p2], [p1, p2], 'b-')\n",
    "\n",
    "# Labels and title to bring clarity to the magical visualization\n",
    "plt.xlabel('Real Values', fontsize=15)\n",
    "plt.ylabel('Predictions', fontsize=15)\n",
    "plt.axis('equal')\n",
    "plt.show()\n"
   ]
  },
  {
   "cell_type": "code",
   "execution_count": 34,
   "metadata": {},
   "outputs": [
    {
     "data": {
      "image/png": "[encoded data removed]",
      "text/plain": [
       "<Figure size 1000x600 with 1 Axes>"
      ]
     },
     "metadata": {},
     "output_type": "display_data"
    }
   ],
   "source": [
    "# Define a function to cast the learning curve spell\n",
    "def plot_learning_curve(model, X, y):\n",
    "    train_sizes, train_scores, test_scores = learning_curve(model, X, y, cv=5, scoring='neg_mean_squared_error')\n",
    "    train_scores_mean = np.mean(train_scores, axis=1)\n",
    "    train_scores_std = np.std(train_scores, axis=1)\n",
    "    test_scores_mean = np.mean(test_scores, axis=1)\n",
    "    test_scores_std = np.std(test_scores, axis=1)\n",
    "\n",
    "    plt.figure(figsize=(10, 6))\n",
    "    plt.fill_between(train_sizes, train_scores_mean - train_scores_std,\n",
    "                     train_scores_mean + train_scores_std, alpha=0.1,\n",
    "                     color=\"r\")\n",
    "    plt.fill_between(train_sizes, test_scores_mean - test_scores_std,\n",
    "                     test_scores_mean + test_scores_std, alpha=0.1, color=\"g\")\n",
    "    plt.plot(train_sizes, train_scores_mean, 'o-', color=\"r\",\n",
    "             label=\"Training\")\n",
    "    plt.plot(train_sizes, test_scores_mean, 'o-', color=\"g\",\n",
    "             label=\"Validation\")\n",
    "\n",
    "    plt.title(\"Learning Curve\")\n",
    "    plt.xlabel(\"Training Set Size\")\n",
    "    plt.ylabel(\"Error (Neg MSE)\")\n",
    "    plt.legend(loc=\"best\")\n",
    "    plt.grid()\n",
    "    plt.show()\n",
    "\n",
    "# Call the function with your model and data, invoking the magical learning curve spell\n",
    "plot_learning_curve(modelo_5, X_train, y_train)\n"
   ]
  },
  {
   "cell_type": "code",
   "execution_count": 35,
   "metadata": {},
   "outputs": [
    {
     "name": "stdout",
     "output_type": "stream",
     "text": [
      "<class 'pandas.core.frame.DataFrame'>\n",
      "RangeIndex: 2963 entries, 0 to 2962\n",
      "Data columns (total 15 columns):\n",
      " #   Column           Non-Null Count  Dtype  \n",
      "---  ------           --------------  -----  \n",
      " 0   latitude         2962 non-null   float64\n",
      " 1   longitude        2963 non-null   float64\n",
      " 2   carat            2963 non-null   float64\n",
      " 3   cut              2963 non-null   object \n",
      " 4   color            2963 non-null   object \n",
      " 5   clarity          2963 non-null   object \n",
      " 6   depth            1 non-null      float64\n",
      " 7   table            2963 non-null   float64\n",
      " 8   price            2963 non-null   int64  \n",
      " 9   x_length         1873 non-null   float64\n",
      " 10  y_width          2378 non-null   float64\n",
      " 11  z_depth          2963 non-null   float64\n",
      " 12  cut_encoded      2963 non-null   int64  \n",
      " 13  color_encoded    2963 non-null   int64  \n",
      " 14  clarity_encoded  2963 non-null   int64  \n",
      "dtypes: float64(8), int64(4), object(3)\n",
      "memory usage: 347.4+ KB\n"
     ]
    }
   ],
   "source": [
    "# Let's cast a spell to summon the suspicious DataFrame from the depths of the CSV file\n",
    "df_suspicious = pd.read_csv('df_suspicious.csv')\n",
    "\n",
    "# Unveil the secrets of the suspicious DataFrame\n",
    "df_suspicious.info()\n",
    "\n",
    "# Now, let's summon the trained model from its enchanted slumber\n",
    "modelo = modelo_5\n"
   ]
  },
  {
   "cell_type": "code",
   "execution_count": 36,
   "metadata": {},
   "outputs": [
    {
     "name": "stderr",
     "output_type": "stream",
     "text": [
      "c:\\Users\\EGiov\\AppData\\Local\\Programs\\Python\\Python311\\Lib\\site-packages\\sklearn\\base.py:439: UserWarning: X does not have valid feature names, but StandardScaler was fitted with feature names\n",
      "  warnings.warn(\n"
     ]
    },
    {
     "name": "stdout",
     "output_type": "stream",
     "text": [
      "Values outside the expected range:\n",
      "       latitude   longitude  carat        cut color clarity  depth  table  \\\n",
      "0     41.600556  -93.608889   0.30  Very Good     J     SI1    NaN   59.0   \n",
      "31    30.266944  -97.742778   0.34      Ideal     E     SI1    NaN   54.0   \n",
      "33    39.395000  -86.562500   0.33    Premium     I     SI1    NaN   59.0   \n",
      "100   47.606389 -122.330833   0.32    Premium     H     VS1    NaN   58.0   \n",
      "159   46.216667  -63.483333   0.26  Very Good     E    VVS2    NaN   61.0   \n",
      "...         ...         ...    ...        ...   ...     ...    ...    ...   \n",
      "2845  42.331389  -83.045833   0.30      Ideal     H     VS1    NaN   56.0   \n",
      "2846  41.196944  -75.928611   0.31      Ideal     E     SI1    NaN   55.0   \n",
      "2887  11.016845   76.955832   0.24  Very Good     F    VVS2    NaN   58.0   \n",
      "2912  35.226944  -80.843333   0.30    Premium     D     SI1    NaN   59.0   \n",
      "2943  31.476111  -98.151667   0.35      Ideal     I     VS1    NaN   56.0   \n",
      "\n",
      "      price  x_length  y_width  z_depth  cut_encoded  color_encoded  \\\n",
      "0       351      4.21     4.27     2.66            4              6   \n",
      "31      556      4.47     4.50     2.79            2              1   \n",
      "33      557      4.54     4.50     2.73            3              5   \n",
      "100     561      4.34     4.39     2.72            3              4   \n",
      "159     564      4.12     4.13     2.51            4              1   \n",
      "...     ...       ...      ...      ...          ...            ...   \n",
      "2845    545      4.28     4.32     2.67            2              4   \n",
      "2846    547      4.39     4.42     2.71            2              1   \n",
      "2887    552      3.95     3.98     2.47            4              2   \n",
      "2912    552      4.34     4.37     2.60            3              0   \n",
      "2943    552      4.54     4.58     2.81            2              5   \n",
      "\n",
      "      clarity_encoded  \n",
      "0                   2  \n",
      "31                  2  \n",
      "33                  2  \n",
      "100                 4  \n",
      "159                 7  \n",
      "...               ...  \n",
      "2845                4  \n",
      "2846                2  \n",
      "2887                7  \n",
      "2912                2  \n",
      "2943                4  \n",
      "\n",
      "[298 rows x 15 columns]\n",
      "5th Percentile: 643.345\n",
      "95th Percentile: 12628.389000000001\n"
     ]
    }
   ],
   "source": [
    "# Let's cast a spell to filter only the features used to train the model\n",
    "features = ['carat', 'depth', 'table', 'x_length', 'y_width', 'z_depth', 'cut_encoded', 'color_encoded', 'clarity_encoded']\n",
    "\n",
    "# Select only the relevant features\n",
    "X_diamonds = df_suspicious[features]\n",
    "\n",
    "# Impute missing values using the mean of each feature\n",
    "imputer = SimpleImputer(strategy='mean')\n",
    "X_diamonds_imputed = imputer.fit_transform(X_diamonds)\n",
    "\n",
    "# Make predictions of diamond prices\n",
    "predictions = modelo.predict(X_diamonds_imputed)\n",
    "\n",
    "# Calculate the 5th and 95th percentiles of the predictions to establish thresholds\n",
    "percentile_5 = np.percentile(predictions, 5)\n",
    "percentile_95 = np.percentile(predictions, 95)\n",
    "\n",
    "# Identify values that are outside the expected range\n",
    "out_of_range_values = df_suspicious[(predictions > percentile_95) | (predictions < percentile_5)]\n",
    "\n",
    "# Print the values outside the expected range\n",
    "print(\"Values outside the expected range:\")\n",
    "print(out_of_range_values)\n",
    "print(\"5th Percentile:\", percentile_5)\n",
    "print(\"95th Percentile:\", percentile_95)\n",
    "\n",
    "# Save the found diamonds to an Excel file\n",
    "out_of_range_values.to_excel('diamonds_found.xlsx', index=False)"
   ]
  },
  {
   "cell_type": "code",
   "execution_count": 37,
   "metadata": {},
   "outputs": [
    {
     "name": "stdout",
     "output_type": "stream",
     "text": [
      "Null values in the 'latitude' column and their corresponding rows:\n"
     ]
    },
    {
     "data": {
      "text/html": [
       "<div>\n",
       "<style scoped>\n",
       "    .dataframe tbody tr th:only-of-type {\n",
       "        vertical-align: middle;\n",
       "    }\n",
       "\n",
       "    .dataframe tbody tr th {\n",
       "        vertical-align: top;\n",
       "    }\n",
       "\n",
       "    .dataframe thead th {\n",
       "        text-align: right;\n",
       "    }\n",
       "</style>\n",
       "<table border=\"1\" class=\"dataframe\">\n",
       "  <thead>\n",
       "    <tr style=\"text-align: right;\">\n",
       "      <th></th>\n",
       "      <th>latitude</th>\n",
       "      <th>longitude</th>\n",
       "      <th>carat</th>\n",
       "      <th>cut</th>\n",
       "      <th>color</th>\n",
       "      <th>clarity</th>\n",
       "      <th>depth</th>\n",
       "      <th>table</th>\n",
       "      <th>price</th>\n",
       "      <th>x_length</th>\n",
       "      <th>y_width</th>\n",
       "      <th>z_depth</th>\n",
       "      <th>cut_encoded</th>\n",
       "      <th>color_encoded</th>\n",
       "      <th>clarity_encoded</th>\n",
       "    </tr>\n",
       "  </thead>\n",
       "  <tbody>\n",
       "    <tr>\n",
       "      <th>2644</th>\n",
       "      <td>NaN</td>\n",
       "      <td>-105.624152</td>\n",
       "      <td>0.7</td>\n",
       "      <td>Fair</td>\n",
       "      <td>F</td>\n",
       "      <td>SI2</td>\n",
       "      <td>64.6</td>\n",
       "      <td>57.0</td>\n",
       "      <td>1947</td>\n",
       "      <td>5.6</td>\n",
       "      <td>5.57</td>\n",
       "      <td>3.61</td>\n",
       "      <td>0</td>\n",
       "      <td>2</td>\n",
       "      <td>3</td>\n",
       "    </tr>\n",
       "  </tbody>\n",
       "</table>\n",
       "</div>"
      ],
      "text/plain": [
       "      latitude   longitude  carat   cut color clarity  depth  table  price  \\\n",
       "2644       NaN -105.624152    0.7  Fair     F     SI2   64.6   57.0   1947   \n",
       "\n",
       "      x_length  y_width  z_depth  cut_encoded  color_encoded  clarity_encoded  \n",
       "2644       5.6     5.57     3.61            0              2                3  "
      ]
     },
     "metadata": {},
     "output_type": "display_data"
    }
   ],
   "source": [
    "# Let's cast a spell to find the null values in the 'latitude' column\n",
    "null_values = df_suspicious[df_suspicious['latitude'].isnull()]\n",
    "\n",
    "# Display the null values and their corresponding rows\n",
    "print(\"Null values in the 'latitude' column and their corresponding rows:\")\n",
    "display(null_values)\n",
    "\n",
    "# Save the null values to the same Excel file in a new sheet\n",
    "with pd.ExcelWriter('diamonds_found.xlsx', mode='a', engine='openpyxl') as writer:\n",
    "    null_values.to_excel(writer, index=False, sheet_name='Null_Values_Latitude')\n"
   ]
  },
  {
   "cell_type": "code",
   "execution_count": 38,
   "metadata": {},
   "outputs": [
    {
     "data": {
      "text/html": [
       "<div>\n",
       "<style scoped>\n",
       "    .dataframe tbody tr th:only-of-type {\n",
       "        vertical-align: middle;\n",
       "    }\n",
       "\n",
       "    .dataframe tbody tr th {\n",
       "        vertical-align: top;\n",
       "    }\n",
       "\n",
       "    .dataframe thead th {\n",
       "        text-align: right;\n",
       "    }\n",
       "</style>\n",
       "<table border=\"1\" class=\"dataframe\">\n",
       "  <thead>\n",
       "    <tr style=\"text-align: right;\">\n",
       "      <th></th>\n",
       "      <th>latitude</th>\n",
       "      <th>longitude</th>\n",
       "      <th>carat</th>\n",
       "      <th>cut</th>\n",
       "      <th>color</th>\n",
       "      <th>clarity</th>\n",
       "      <th>depth</th>\n",
       "      <th>table</th>\n",
       "      <th>price</th>\n",
       "      <th>x_length</th>\n",
       "      <th>y_width</th>\n",
       "      <th>z_depth</th>\n",
       "      <th>cut_encoded</th>\n",
       "      <th>color_encoded</th>\n",
       "      <th>clarity_encoded</th>\n",
       "    </tr>\n",
       "  </thead>\n",
       "  <tbody>\n",
       "    <tr>\n",
       "      <th>0</th>\n",
       "      <td>NaN</td>\n",
       "      <td>-105.624152</td>\n",
       "      <td>0.70</td>\n",
       "      <td>Fair</td>\n",
       "      <td>F</td>\n",
       "      <td>SI2</td>\n",
       "      <td>64.6</td>\n",
       "      <td>57.0</td>\n",
       "      <td>1947</td>\n",
       "      <td>5.60</td>\n",
       "      <td>5.57</td>\n",
       "      <td>3.61</td>\n",
       "      <td>0</td>\n",
       "      <td>2</td>\n",
       "      <td>3</td>\n",
       "    </tr>\n",
       "    <tr>\n",
       "      <th>0</th>\n",
       "      <td>41.600556</td>\n",
       "      <td>-93.608889</td>\n",
       "      <td>0.30</td>\n",
       "      <td>Very Good</td>\n",
       "      <td>J</td>\n",
       "      <td>SI1</td>\n",
       "      <td>NaN</td>\n",
       "      <td>59.0</td>\n",
       "      <td>351</td>\n",
       "      <td>4.21</td>\n",
       "      <td>4.27</td>\n",
       "      <td>2.66</td>\n",
       "      <td>4</td>\n",
       "      <td>6</td>\n",
       "      <td>2</td>\n",
       "    </tr>\n",
       "    <tr>\n",
       "      <th>1</th>\n",
       "      <td>30.266944</td>\n",
       "      <td>-97.742778</td>\n",
       "      <td>0.34</td>\n",
       "      <td>Ideal</td>\n",
       "      <td>E</td>\n",
       "      <td>SI1</td>\n",
       "      <td>NaN</td>\n",
       "      <td>54.0</td>\n",
       "      <td>556</td>\n",
       "      <td>4.47</td>\n",
       "      <td>4.50</td>\n",
       "      <td>2.79</td>\n",
       "      <td>2</td>\n",
       "      <td>1</td>\n",
       "      <td>2</td>\n",
       "    </tr>\n",
       "    <tr>\n",
       "      <th>2</th>\n",
       "      <td>39.395000</td>\n",
       "      <td>-86.562500</td>\n",
       "      <td>0.33</td>\n",
       "      <td>Premium</td>\n",
       "      <td>I</td>\n",
       "      <td>SI1</td>\n",
       "      <td>NaN</td>\n",
       "      <td>59.0</td>\n",
       "      <td>557</td>\n",
       "      <td>4.54</td>\n",
       "      <td>4.50</td>\n",
       "      <td>2.73</td>\n",
       "      <td>3</td>\n",
       "      <td>5</td>\n",
       "      <td>2</td>\n",
       "    </tr>\n",
       "    <tr>\n",
       "      <th>3</th>\n",
       "      <td>47.606389</td>\n",
       "      <td>-122.330833</td>\n",
       "      <td>0.32</td>\n",
       "      <td>Premium</td>\n",
       "      <td>H</td>\n",
       "      <td>VS1</td>\n",
       "      <td>NaN</td>\n",
       "      <td>58.0</td>\n",
       "      <td>561</td>\n",
       "      <td>4.34</td>\n",
       "      <td>4.39</td>\n",
       "      <td>2.72</td>\n",
       "      <td>3</td>\n",
       "      <td>4</td>\n",
       "      <td>4</td>\n",
       "    </tr>\n",
       "    <tr>\n",
       "      <th>...</th>\n",
       "      <td>...</td>\n",
       "      <td>...</td>\n",
       "      <td>...</td>\n",
       "      <td>...</td>\n",
       "      <td>...</td>\n",
       "      <td>...</td>\n",
       "      <td>...</td>\n",
       "      <td>...</td>\n",
       "      <td>...</td>\n",
       "      <td>...</td>\n",
       "      <td>...</td>\n",
       "      <td>...</td>\n",
       "      <td>...</td>\n",
       "      <td>...</td>\n",
       "      <td>...</td>\n",
       "    </tr>\n",
       "    <tr>\n",
       "      <th>293</th>\n",
       "      <td>42.331389</td>\n",
       "      <td>-83.045833</td>\n",
       "      <td>0.30</td>\n",
       "      <td>Ideal</td>\n",
       "      <td>H</td>\n",
       "      <td>VS1</td>\n",
       "      <td>NaN</td>\n",
       "      <td>56.0</td>\n",
       "      <td>545</td>\n",
       "      <td>4.28</td>\n",
       "      <td>4.32</td>\n",
       "      <td>2.67</td>\n",
       "      <td>2</td>\n",
       "      <td>4</td>\n",
       "      <td>4</td>\n",
       "    </tr>\n",
       "    <tr>\n",
       "      <th>294</th>\n",
       "      <td>41.196944</td>\n",
       "      <td>-75.928611</td>\n",
       "      <td>0.31</td>\n",
       "      <td>Ideal</td>\n",
       "      <td>E</td>\n",
       "      <td>SI1</td>\n",
       "      <td>NaN</td>\n",
       "      <td>55.0</td>\n",
       "      <td>547</td>\n",
       "      <td>4.39</td>\n",
       "      <td>4.42</td>\n",
       "      <td>2.71</td>\n",
       "      <td>2</td>\n",
       "      <td>1</td>\n",
       "      <td>2</td>\n",
       "    </tr>\n",
       "    <tr>\n",
       "      <th>295</th>\n",
       "      <td>11.016845</td>\n",
       "      <td>76.955832</td>\n",
       "      <td>0.24</td>\n",
       "      <td>Very Good</td>\n",
       "      <td>F</td>\n",
       "      <td>VVS2</td>\n",
       "      <td>NaN</td>\n",
       "      <td>58.0</td>\n",
       "      <td>552</td>\n",
       "      <td>3.95</td>\n",
       "      <td>3.98</td>\n",
       "      <td>2.47</td>\n",
       "      <td>4</td>\n",
       "      <td>2</td>\n",
       "      <td>7</td>\n",
       "    </tr>\n",
       "    <tr>\n",
       "      <th>296</th>\n",
       "      <td>35.226944</td>\n",
       "      <td>-80.843333</td>\n",
       "      <td>0.30</td>\n",
       "      <td>Premium</td>\n",
       "      <td>D</td>\n",
       "      <td>SI1</td>\n",
       "      <td>NaN</td>\n",
       "      <td>59.0</td>\n",
       "      <td>552</td>\n",
       "      <td>4.34</td>\n",
       "      <td>4.37</td>\n",
       "      <td>2.60</td>\n",
       "      <td>3</td>\n",
       "      <td>0</td>\n",
       "      <td>2</td>\n",
       "    </tr>\n",
       "    <tr>\n",
       "      <th>297</th>\n",
       "      <td>31.476111</td>\n",
       "      <td>-98.151667</td>\n",
       "      <td>0.35</td>\n",
       "      <td>Ideal</td>\n",
       "      <td>I</td>\n",
       "      <td>VS1</td>\n",
       "      <td>NaN</td>\n",
       "      <td>56.0</td>\n",
       "      <td>552</td>\n",
       "      <td>4.54</td>\n",
       "      <td>4.58</td>\n",
       "      <td>2.81</td>\n",
       "      <td>2</td>\n",
       "      <td>5</td>\n",
       "      <td>4</td>\n",
       "    </tr>\n",
       "  </tbody>\n",
       "</table>\n",
       "<p>299 rows × 15 columns</p>\n",
       "</div>"
      ],
      "text/plain": [
       "      latitude   longitude  carat        cut color clarity  depth  table  \\\n",
       "0          NaN -105.624152   0.70       Fair     F     SI2   64.6   57.0   \n",
       "0    41.600556  -93.608889   0.30  Very Good     J     SI1    NaN   59.0   \n",
       "1    30.266944  -97.742778   0.34      Ideal     E     SI1    NaN   54.0   \n",
       "2    39.395000  -86.562500   0.33    Premium     I     SI1    NaN   59.0   \n",
       "3    47.606389 -122.330833   0.32    Premium     H     VS1    NaN   58.0   \n",
       "..         ...         ...    ...        ...   ...     ...    ...    ...   \n",
       "293  42.331389  -83.045833   0.30      Ideal     H     VS1    NaN   56.0   \n",
       "294  41.196944  -75.928611   0.31      Ideal     E     SI1    NaN   55.0   \n",
       "295  11.016845   76.955832   0.24  Very Good     F    VVS2    NaN   58.0   \n",
       "296  35.226944  -80.843333   0.30    Premium     D     SI1    NaN   59.0   \n",
       "297  31.476111  -98.151667   0.35      Ideal     I     VS1    NaN   56.0   \n",
       "\n",
       "     price  x_length  y_width  z_depth  cut_encoded  color_encoded  \\\n",
       "0     1947      5.60     5.57     3.61            0              2   \n",
       "0      351      4.21     4.27     2.66            4              6   \n",
       "1      556      4.47     4.50     2.79            2              1   \n",
       "2      557      4.54     4.50     2.73            3              5   \n",
       "3      561      4.34     4.39     2.72            3              4   \n",
       "..     ...       ...      ...      ...          ...            ...   \n",
       "293    545      4.28     4.32     2.67            2              4   \n",
       "294    547      4.39     4.42     2.71            2              1   \n",
       "295    552      3.95     3.98     2.47            4              2   \n",
       "296    552      4.34     4.37     2.60            3              0   \n",
       "297    552      4.54     4.58     2.81            2              5   \n",
       "\n",
       "     clarity_encoded  \n",
       "0                  3  \n",
       "0                  2  \n",
       "1                  2  \n",
       "2                  2  \n",
       "3                  4  \n",
       "..               ...  \n",
       "293                4  \n",
       "294                2  \n",
       "295                7  \n",
       "296                2  \n",
       "297                4  \n",
       "\n",
       "[299 rows x 15 columns]"
      ]
     },
     "metadata": {},
     "output_type": "display_data"
    }
   ],
   "source": [
    "# Let's cast a spell to load the Excel file\n",
    "xls = pd.ExcelFile('diamonds_found.xlsx')\n",
    "\n",
    "# Read the data from the first sheet\n",
    "df_found_diamonds = pd.read_excel(xls, 'Sheet1') \n",
    "\n",
    "# Read the data from the second sheet\n",
    "df_null_values = pd.read_excel(xls, 'Null_Values_Latitude')\n",
    "\n",
    "# Concatenate the DataFrames into one\n",
    "df_complete = pd.concat([df_null_values, df_found_diamonds])\n",
    "\n",
    "# Display all the information\n",
    "display(df_complete)\n"
   ]
  },
  {
   "cell_type": "code",
   "execution_count": 39,
   "metadata": {},
   "outputs": [
    {
     "data": {
      "application/vnd.plotly.v1+json": {
       "config": {
        "plotlyServerURL": "https://plot.ly"
       },
       "data": [
        {
         "marker": {
          "color": "skyblue"
         },
         "type": "bar",
         "x": [
          "H",
          "F",
          "G",
          "I",
          "E",
          "J",
          "D"
         ],
         "y": [
          58,
          56,
          50,
          42,
          40,
          30,
          23
         ]
        }
       ],
       "layout": {
        "template": {
         "data": {
          "bar": [
           {
            "error_x": {
             "color": "#2a3f5f"
            },
            "error_y": {
             "color": "#2a3f5f"
            },
            "marker": {
             "line": {
              "color": "#E5ECF6",
              "width": 0.5
             },
             "pattern": {
              "fillmode": "overlay",
              "size": 10,
              "solidity": 0.2
             }
            },
            "type": "bar"
           }
          ],
          "barpolar": [
           {
            "marker": {
             "line": {
              "color": "#E5ECF6",
              "width": 0.5
             },
             "pattern": {
              "fillmode": "overlay",
              "size": 10,
              "solidity": 0.2
             }
            },
            "type": "barpolar"
           }
          ],
          "carpet": [
           {
            "aaxis": {
             "endlinecolor": "#2a3f5f",
             "gridcolor": "white",
             "linecolor": "white",
             "minorgridcolor": "white",
             "startlinecolor": "#2a3f5f"
            },
            "baxis": {
             "endlinecolor": "#2a3f5f",
             "gridcolor": "white",
             "linecolor": "white",
             "minorgridcolor": "white",
             "startlinecolor": "#2a3f5f"
            },
            "type": "carpet"
           }
          ],
          "choropleth": [
           {
            "colorbar": {
             "outlinewidth": 0,
             "ticks": ""
            },
            "type": "choropleth"
           }
          ],
          "contour": [
           {
            "colorbar": {
             "outlinewidth": 0,
             "ticks": ""
            },
            "colorscale": [
             [
              0,
              "#0d0887"
             ],
             [
              0.1111111111111111,
              "#46039f"
             ],
             [
              0.2222222222222222,
              "#7201a8"
             ],
             [
              0.3333333333333333,
              "#9c179e"
             ],
             [
              0.4444444444444444,
              "#bd3786"
             ],
             [
              0.5555555555555556,
              "#d8576b"
             ],
             [
              0.6666666666666666,
              "#ed7953"
             ],
             [
              0.7777777777777778,
              "#fb9f3a"
             ],
             [
              0.8888888888888888,
              "#fdca26"
             ],
             [
              1,
              "#f0f921"
             ]
            ],
            "type": "contour"
           }
          ],
          "contourcarpet": [
           {
            "colorbar": {
             "outlinewidth": 0,
             "ticks": ""
            },
            "type": "contourcarpet"
           }
          ],
          "heatmap": [
           {
            "colorbar": {
             "outlinewidth": 0,
             "ticks": ""
            },
            "colorscale": [
             [
              0,
              "#0d0887"
             ],
             [
              0.1111111111111111,
              "#46039f"
             ],
             [
              0.2222222222222222,
              "#7201a8"
             ],
             [
              0.3333333333333333,
              "#9c179e"
             ],
             [
              0.4444444444444444,
              "#bd3786"
             ],
             [
              0.5555555555555556,
              "#d8576b"
             ],
             [
              0.6666666666666666,
              "#ed7953"
             ],
             [
              0.7777777777777778,
              "#fb9f3a"
             ],
             [
              0.8888888888888888,
              "#fdca26"
             ],
             [
              1,
              "#f0f921"
             ]
            ],
            "type": "heatmap"
           }
          ],
          "heatmapgl": [
           {
            "colorbar": {
             "outlinewidth": 0,
             "ticks": ""
            },
            "colorscale": [
             [
              0,
              "#0d0887"
             ],
             [
              0.1111111111111111,
              "#46039f"
             ],
             [
              0.2222222222222222,
              "#7201a8"
             ],
             [
              0.3333333333333333,
              "#9c179e"
             ],
             [
              0.4444444444444444,
              "#bd3786"
             ],
             [
              0.5555555555555556,
              "#d8576b"
             ],
             [
              0.6666666666666666,
              "#ed7953"
             ],
             [
              0.7777777777777778,
              "#fb9f3a"
             ],
             [
              0.8888888888888888,
              "#fdca26"
             ],
             [
              1,
              "#f0f921"
             ]
            ],
            "type": "heatmapgl"
           }
          ],
          "histogram": [
           {
            "marker": {
             "pattern": {
              "fillmode": "overlay",
              "size": 10,
              "solidity": 0.2
             }
            },
            "type": "histogram"
           }
          ],
          "histogram2d": [
           {
            "colorbar": {
             "outlinewidth": 0,
             "ticks": ""
            },
            "colorscale": [
             [
              0,
              "#0d0887"
             ],
             [
              0.1111111111111111,
              "#46039f"
             ],
             [
              0.2222222222222222,
              "#7201a8"
             ],
             [
              0.3333333333333333,
              "#9c179e"
             ],
             [
              0.4444444444444444,
              "#bd3786"
             ],
             [
              0.5555555555555556,
              "#d8576b"
             ],
             [
              0.6666666666666666,
              "#ed7953"
             ],
             [
              0.7777777777777778,
              "#fb9f3a"
             ],
             [
              0.8888888888888888,
              "#fdca26"
             ],
             [
              1,
              "#f0f921"
             ]
            ],
            "type": "histogram2d"
           }
          ],
          "histogram2dcontour": [
           {
            "colorbar": {
             "outlinewidth": 0,
             "ticks": ""
            },
            "colorscale": [
             [
              0,
              "#0d0887"
             ],
             [
              0.1111111111111111,
              "#46039f"
             ],
             [
              0.2222222222222222,
              "#7201a8"
             ],
             [
              0.3333333333333333,
              "#9c179e"
             ],
             [
              0.4444444444444444,
              "#bd3786"
             ],
             [
              0.5555555555555556,
              "#d8576b"
             ],
             [
              0.6666666666666666,
              "#ed7953"
             ],
             [
              0.7777777777777778,
              "#fb9f3a"
             ],
             [
              0.8888888888888888,
              "#fdca26"
             ],
             [
              1,
              "#f0f921"
             ]
            ],
            "type": "histogram2dcontour"
           }
          ],
          "mesh3d": [
           {
            "colorbar": {
             "outlinewidth": 0,
             "ticks": ""
            },
            "type": "mesh3d"
           }
          ],
          "parcoords": [
           {
            "line": {
             "colorbar": {
              "outlinewidth": 0,
              "ticks": ""
             }
            },
            "type": "parcoords"
           }
          ],
          "pie": [
           {
            "automargin": true,
            "type": "pie"
           }
          ],
          "scatter": [
           {
            "fillpattern": {
             "fillmode": "overlay",
             "size": 10,
             "solidity": 0.2
            },
            "type": "scatter"
           }
          ],
          "scatter3d": [
           {
            "line": {
             "colorbar": {
              "outlinewidth": 0,
              "ticks": ""
             }
            },
            "marker": {
             "colorbar": {
              "outlinewidth": 0,
              "ticks": ""
             }
            },
            "type": "scatter3d"
           }
          ],
          "scattercarpet": [
           {
            "marker": {
             "colorbar": {
              "outlinewidth": 0,
              "ticks": ""
             }
            },
            "type": "scattercarpet"
           }
          ],
          "scattergeo": [
           {
            "marker": {
             "colorbar": {
              "outlinewidth": 0,
              "ticks": ""
             }
            },
            "type": "scattergeo"
           }
          ],
          "scattergl": [
           {
            "marker": {
             "colorbar": {
              "outlinewidth": 0,
              "ticks": ""
             }
            },
            "type": "scattergl"
           }
          ],
          "scattermapbox": [
           {
            "marker": {
             "colorbar": {
              "outlinewidth": 0,
              "ticks": ""
             }
            },
            "type": "scattermapbox"
           }
          ],
          "scatterpolar": [
           {
            "marker": {
             "colorbar": {
              "outlinewidth": 0,
              "ticks": ""
             }
            },
            "type": "scatterpolar"
           }
          ],
          "scatterpolargl": [
           {
            "marker": {
             "colorbar": {
              "outlinewidth": 0,
              "ticks": ""
             }
            },
            "type": "scatterpolargl"
           }
          ],
          "scatterternary": [
           {
            "marker": {
             "colorbar": {
              "outlinewidth": 0,
              "ticks": ""
             }
            },
            "type": "scatterternary"
           }
          ],
          "surface": [
           {
            "colorbar": {
             "outlinewidth": 0,
             "ticks": ""
            },
            "colorscale": [
             [
              0,
              "#0d0887"
             ],
             [
              0.1111111111111111,
              "#46039f"
             ],
             [
              0.2222222222222222,
              "#7201a8"
             ],
             [
              0.3333333333333333,
              "#9c179e"
             ],
             [
              0.4444444444444444,
              "#bd3786"
             ],
             [
              0.5555555555555556,
              "#d8576b"
             ],
             [
              0.6666666666666666,
              "#ed7953"
             ],
             [
              0.7777777777777778,
              "#fb9f3a"
             ],
             [
              0.8888888888888888,
              "#fdca26"
             ],
             [
              1,
              "#f0f921"
             ]
            ],
            "type": "surface"
           }
          ],
          "table": [
           {
            "cells": {
             "fill": {
              "color": "#EBF0F8"
             },
             "line": {
              "color": "white"
             }
            },
            "header": {
             "fill": {
              "color": "#C8D4E3"
             },
             "line": {
              "color": "white"
             }
            },
            "type": "table"
           }
          ]
         },
         "layout": {
          "annotationdefaults": {
           "arrowcolor": "#2a3f5f",
           "arrowhead": 0,
           "arrowwidth": 1
          },
          "autotypenumbers": "strict",
          "coloraxis": {
           "colorbar": {
            "outlinewidth": 0,
            "ticks": ""
           }
          },
          "colorscale": {
           "diverging": [
            [
             0,
             "#8e0152"
            ],
            [
             0.1,
             "#c51b7d"
            ],
            [
             0.2,
             "#de77ae"
            ],
            [
             0.3,
             "#f1b6da"
            ],
            [
             0.4,
             "#fde0ef"
            ],
            [
             0.5,
             "#f7f7f7"
            ],
            [
             0.6,
             "#e6f5d0"
            ],
            [
             0.7,
             "#b8e186"
            ],
            [
             0.8,
             "#7fbc41"
            ],
            [
             0.9,
             "#4d9221"
            ],
            [
             1,
             "#276419"
            ]
           ],
           "sequential": [
            [
             0,
             "#0d0887"
            ],
            [
             0.1111111111111111,
             "#46039f"
            ],
            [
             0.2222222222222222,
             "#7201a8"
            ],
            [
             0.3333333333333333,
             "#9c179e"
            ],
            [
             0.4444444444444444,
             "#bd3786"
            ],
            [
             0.5555555555555556,
             "#d8576b"
            ],
            [
             0.6666666666666666,
             "#ed7953"
            ],
            [
             0.7777777777777778,
             "#fb9f3a"
            ],
            [
             0.8888888888888888,
             "#fdca26"
            ],
            [
             1,
             "#f0f921"
            ]
           ],
           "sequentialminus": [
            [
             0,
             "#0d0887"
            ],
            [
             0.1111111111111111,
             "#46039f"
            ],
            [
             0.2222222222222222,
             "#7201a8"
            ],
            [
             0.3333333333333333,
             "#9c179e"
            ],
            [
             0.4444444444444444,
             "#bd3786"
            ],
            [
             0.5555555555555556,
             "#d8576b"
            ],
            [
             0.6666666666666666,
             "#ed7953"
            ],
            [
             0.7777777777777778,
             "#fb9f3a"
            ],
            [
             0.8888888888888888,
             "#fdca26"
            ],
            [
             1,
             "#f0f921"
            ]
           ]
          },
          "colorway": [
           "#636efa",
           "#EF553B",
           "#00cc96",
           "#ab63fa",
           "#FFA15A",
           "#19d3f3",
           "#FF6692",
           "#B6E880",
           "#FF97FF",
           "#FECB52"
          ],
          "font": {
           "color": "#2a3f5f"
          },
          "geo": {
           "bgcolor": "white",
           "lakecolor": "white",
           "landcolor": "#E5ECF6",
           "showlakes": true,
           "showland": true,
           "subunitcolor": "white"
          },
          "hoverlabel": {
           "align": "left"
          },
          "hovermode": "closest",
          "mapbox": {
           "style": "light"
          },
          "paper_bgcolor": "white",
          "plot_bgcolor": "#E5ECF6",
          "polar": {
           "angularaxis": {
            "gridcolor": "white",
            "linecolor": "white",
            "ticks": ""
           },
           "bgcolor": "#E5ECF6",
           "radialaxis": {
            "gridcolor": "white",
            "linecolor": "white",
            "ticks": ""
           }
          },
          "scene": {
           "xaxis": {
            "backgroundcolor": "#E5ECF6",
            "gridcolor": "white",
            "gridwidth": 2,
            "linecolor": "white",
            "showbackground": true,
            "ticks": "",
            "zerolinecolor": "white"
           },
           "yaxis": {
            "backgroundcolor": "#E5ECF6",
            "gridcolor": "white",
            "gridwidth": 2,
            "linecolor": "white",
            "showbackground": true,
            "ticks": "",
            "zerolinecolor": "white"
           },
           "zaxis": {
            "backgroundcolor": "#E5ECF6",
            "gridcolor": "white",
            "gridwidth": 2,
            "linecolor": "white",
            "showbackground": true,
            "ticks": "",
            "zerolinecolor": "white"
           }
          },
          "shapedefaults": {
           "line": {
            "color": "#2a3f5f"
           }
          },
          "ternary": {
           "aaxis": {
            "gridcolor": "white",
            "linecolor": "white",
            "ticks": ""
           },
           "baxis": {
            "gridcolor": "white",
            "linecolor": "white",
            "ticks": ""
           },
           "bgcolor": "#E5ECF6",
           "caxis": {
            "gridcolor": "white",
            "linecolor": "white",
            "ticks": ""
           }
          },
          "title": {
           "x": 0.05
          },
          "xaxis": {
           "automargin": true,
           "gridcolor": "white",
           "linecolor": "white",
           "ticks": "",
           "title": {
            "standoff": 15
           },
           "zerolinecolor": "white",
           "zerolinewidth": 2
          },
          "yaxis": {
           "automargin": true,
           "gridcolor": "white",
           "linecolor": "white",
           "ticks": "",
           "title": {
            "standoff": 15
           },
           "zerolinecolor": "white",
           "zerolinewidth": 2
          }
         }
        },
        "title": {
         "text": "Count of Colors"
        },
        "xaxis": {
         "title": {
          "text": "Color"
         }
        },
        "yaxis": {
         "title": {
          "text": "Count"
         }
        }
       }
      }
     },
     "metadata": {},
     "output_type": "display_data"
    },
    {
     "data": {
      "application/vnd.plotly.v1+json": {
       "config": {
        "plotlyServerURL": "https://plot.ly"
       },
       "data": [
        {
         "marker": {
          "color": "salmon"
         },
         "type": "bar",
         "x": [
          "Ideal",
          "Premium",
          "Very Good",
          "Good",
          "Fair"
         ],
         "y": [
          108,
          84,
          69,
          30,
          8
         ]
        }
       ],
       "layout": {
        "template": {
         "data": {
          "bar": [
           {
            "error_x": {
             "color": "#2a3f5f"
            },
            "error_y": {
             "color": "#2a3f5f"
            },
            "marker": {
             "line": {
              "color": "#E5ECF6",
              "width": 0.5
             },
             "pattern": {
              "fillmode": "overlay",
              "size": 10,
              "solidity": 0.2
             }
            },
            "type": "bar"
           }
          ],
          "barpolar": [
           {
            "marker": {
             "line": {
              "color": "#E5ECF6",
              "width": 0.5
             },
             "pattern": {
              "fillmode": "overlay",
              "size": 10,
              "solidity": 0.2
             }
            },
            "type": "barpolar"
           }
          ],
          "carpet": [
           {
            "aaxis": {
             "endlinecolor": "#2a3f5f",
             "gridcolor": "white",
             "linecolor": "white",
             "minorgridcolor": "white",
             "startlinecolor": "#2a3f5f"
            },
            "baxis": {
             "endlinecolor": "#2a3f5f",
             "gridcolor": "white",
             "linecolor": "white",
             "minorgridcolor": "white",
             "startlinecolor": "#2a3f5f"
            },
            "type": "carpet"
           }
          ],
          "choropleth": [
           {
            "colorbar": {
             "outlinewidth": 0,
             "ticks": ""
            },
            "type": "choropleth"
           }
          ],
          "contour": [
           {
            "colorbar": {
             "outlinewidth": 0,
             "ticks": ""
            },
            "colorscale": [
             [
              0,
              "#0d0887"
             ],
             [
              0.1111111111111111,
              "#46039f"
             ],
             [
              0.2222222222222222,
              "#7201a8"
             ],
             [
              0.3333333333333333,
              "#9c179e"
             ],
             [
              0.4444444444444444,
              "#bd3786"
             ],
             [
              0.5555555555555556,
              "#d8576b"
             ],
             [
              0.6666666666666666,
              "#ed7953"
             ],
             [
              0.7777777777777778,
              "#fb9f3a"
             ],
             [
              0.8888888888888888,
              "#fdca26"
             ],
             [
              1,
              "#f0f921"
             ]
            ],
            "type": "contour"
           }
          ],
          "contourcarpet": [
           {
            "colorbar": {
             "outlinewidth": 0,
             "ticks": ""
            },
            "type": "contourcarpet"
           }
          ],
          "heatmap": [
           {
            "colorbar": {
             "outlinewidth": 0,
             "ticks": ""
            },
            "colorscale": [
             [
              0,
              "#0d0887"
             ],
             [
              0.1111111111111111,
              "#46039f"
             ],
             [
              0.2222222222222222,
              "#7201a8"
             ],
             [
              0.3333333333333333,
              "#9c179e"
             ],
             [
              0.4444444444444444,
              "#bd3786"
             ],
             [
              0.5555555555555556,
              "#d8576b"
             ],
             [
              0.6666666666666666,
              "#ed7953"
             ],
             [
              0.7777777777777778,
              "#fb9f3a"
             ],
             [
              0.8888888888888888,
              "#fdca26"
             ],
             [
              1,
              "#f0f921"
             ]
            ],
            "type": "heatmap"
           }
          ],
          "heatmapgl": [
           {
            "colorbar": {
             "outlinewidth": 0,
             "ticks": ""
            },
            "colorscale": [
             [
              0,
              "#0d0887"
             ],
             [
              0.1111111111111111,
              "#46039f"
             ],
             [
              0.2222222222222222,
              "#7201a8"
             ],
             [
              0.3333333333333333,
              "#9c179e"
             ],
             [
              0.4444444444444444,
              "#bd3786"
             ],
             [
              0.5555555555555556,
              "#d8576b"
             ],
             [
              0.6666666666666666,
              "#ed7953"
             ],
             [
              0.7777777777777778,
              "#fb9f3a"
             ],
             [
              0.8888888888888888,
              "#fdca26"
             ],
             [
              1,
              "#f0f921"
             ]
            ],
            "type": "heatmapgl"
           }
          ],
          "histogram": [
           {
            "marker": {
             "pattern": {
              "fillmode": "overlay",
              "size": 10,
              "solidity": 0.2
             }
            },
            "type": "histogram"
           }
          ],
          "histogram2d": [
           {
            "colorbar": {
             "outlinewidth": 0,
             "ticks": ""
            },
            "colorscale": [
             [
              0,
              "#0d0887"
             ],
             [
              0.1111111111111111,
              "#46039f"
             ],
             [
              0.2222222222222222,
              "#7201a8"
             ],
             [
              0.3333333333333333,
              "#9c179e"
             ],
             [
              0.4444444444444444,
              "#bd3786"
             ],
             [
              0.5555555555555556,
              "#d8576b"
             ],
             [
              0.6666666666666666,
              "#ed7953"
             ],
             [
              0.7777777777777778,
              "#fb9f3a"
             ],
             [
              0.8888888888888888,
              "#fdca26"
             ],
             [
              1,
              "#f0f921"
             ]
            ],
            "type": "histogram2d"
           }
          ],
          "histogram2dcontour": [
           {
            "colorbar": {
             "outlinewidth": 0,
             "ticks": ""
            },
            "colorscale": [
             [
              0,
              "#0d0887"
             ],
             [
              0.1111111111111111,
              "#46039f"
             ],
             [
              0.2222222222222222,
              "#7201a8"
             ],
             [
              0.3333333333333333,
              "#9c179e"
             ],
             [
              0.4444444444444444,
              "#bd3786"
             ],
             [
              0.5555555555555556,
              "#d8576b"
             ],
             [
              0.6666666666666666,
              "#ed7953"
             ],
             [
              0.7777777777777778,
              "#fb9f3a"
             ],
             [
              0.8888888888888888,
              "#fdca26"
             ],
             [
              1,
              "#f0f921"
             ]
            ],
            "type": "histogram2dcontour"
           }
          ],
          "mesh3d": [
           {
            "colorbar": {
             "outlinewidth": 0,
             "ticks": ""
            },
            "type": "mesh3d"
           }
          ],
          "parcoords": [
           {
            "line": {
             "colorbar": {
              "outlinewidth": 0,
              "ticks": ""
             }
            },
            "type": "parcoords"
           }
          ],
          "pie": [
           {
            "automargin": true,
            "type": "pie"
           }
          ],
          "scatter": [
           {
            "fillpattern": {
             "fillmode": "overlay",
             "size": 10,
             "solidity": 0.2
            },
            "type": "scatter"
           }
          ],
          "scatter3d": [
           {
            "line": {
             "colorbar": {
              "outlinewidth": 0,
              "ticks": ""
             }
            },
            "marker": {
             "colorbar": {
              "outlinewidth": 0,
              "ticks": ""
             }
            },
            "type": "scatter3d"
           }
          ],
          "scattercarpet": [
           {
            "marker": {
             "colorbar": {
              "outlinewidth": 0,
              "ticks": ""
             }
            },
            "type": "scattercarpet"
           }
          ],
          "scattergeo": [
           {
            "marker": {
             "colorbar": {
              "outlinewidth": 0,
              "ticks": ""
             }
            },
            "type": "scattergeo"
           }
          ],
          "scattergl": [
           {
            "marker": {
             "colorbar": {
              "outlinewidth": 0,
              "ticks": ""
             }
            },
            "type": "scattergl"
           }
          ],
          "scattermapbox": [
           {
            "marker": {
             "colorbar": {
              "outlinewidth": 0,
              "ticks": ""
             }
            },
            "type": "scattermapbox"
           }
          ],
          "scatterpolar": [
           {
            "marker": {
             "colorbar": {
              "outlinewidth": 0,
              "ticks": ""
             }
            },
            "type": "scatterpolar"
           }
          ],
          "scatterpolargl": [
           {
            "marker": {
             "colorbar": {
              "outlinewidth": 0,
              "ticks": ""
             }
            },
            "type": "scatterpolargl"
           }
          ],
          "scatterternary": [
           {
            "marker": {
             "colorbar": {
              "outlinewidth": 0,
              "ticks": ""
             }
            },
            "type": "scatterternary"
           }
          ],
          "surface": [
           {
            "colorbar": {
             "outlinewidth": 0,
             "ticks": ""
            },
            "colorscale": [
             [
              0,
              "#0d0887"
             ],
             [
              0.1111111111111111,
              "#46039f"
             ],
             [
              0.2222222222222222,
              "#7201a8"
             ],
             [
              0.3333333333333333,
              "#9c179e"
             ],
             [
              0.4444444444444444,
              "#bd3786"
             ],
             [
              0.5555555555555556,
              "#d8576b"
             ],
             [
              0.6666666666666666,
              "#ed7953"
             ],
             [
              0.7777777777777778,
              "#fb9f3a"
             ],
             [
              0.8888888888888888,
              "#fdca26"
             ],
             [
              1,
              "#f0f921"
             ]
            ],
            "type": "surface"
           }
          ],
          "table": [
           {
            "cells": {
             "fill": {
              "color": "#EBF0F8"
             },
             "line": {
              "color": "white"
             }
            },
            "header": {
             "fill": {
              "color": "#C8D4E3"
             },
             "line": {
              "color": "white"
             }
            },
            "type": "table"
           }
          ]
         },
         "layout": {
          "annotationdefaults": {
           "arrowcolor": "#2a3f5f",
           "arrowhead": 0,
           "arrowwidth": 1
          },
          "autotypenumbers": "strict",
          "coloraxis": {
           "colorbar": {
            "outlinewidth": 0,
            "ticks": ""
           }
          },
          "colorscale": {
           "diverging": [
            [
             0,
             "#8e0152"
            ],
            [
             0.1,
             "#c51b7d"
            ],
            [
             0.2,
             "#de77ae"
            ],
            [
             0.3,
             "#f1b6da"
            ],
            [
             0.4,
             "#fde0ef"
            ],
            [
             0.5,
             "#f7f7f7"
            ],
            [
             0.6,
             "#e6f5d0"
            ],
            [
             0.7,
             "#b8e186"
            ],
            [
             0.8,
             "#7fbc41"
            ],
            [
             0.9,
             "#4d9221"
            ],
            [
             1,
             "#276419"
            ]
           ],
           "sequential": [
            [
             0,
             "#0d0887"
            ],
            [
             0.1111111111111111,
             "#46039f"
            ],
            [
             0.2222222222222222,
             "#7201a8"
            ],
            [
             0.3333333333333333,
             "#9c179e"
            ],
            [
             0.4444444444444444,
             "#bd3786"
            ],
            [
             0.5555555555555556,
             "#d8576b"
            ],
            [
             0.6666666666666666,
             "#ed7953"
            ],
            [
             0.7777777777777778,
             "#fb9f3a"
            ],
            [
             0.8888888888888888,
             "#fdca26"
            ],
            [
             1,
             "#f0f921"
            ]
           ],
           "sequentialminus": [
            [
             0,
             "#0d0887"
            ],
            [
             0.1111111111111111,
             "#46039f"
            ],
            [
             0.2222222222222222,
             "#7201a8"
            ],
            [
             0.3333333333333333,
             "#9c179e"
            ],
            [
             0.4444444444444444,
             "#bd3786"
            ],
            [
             0.5555555555555556,
             "#d8576b"
            ],
            [
             0.6666666666666666,
             "#ed7953"
            ],
            [
             0.7777777777777778,
             "#fb9f3a"
            ],
            [
             0.8888888888888888,
             "#fdca26"
            ],
            [
             1,
             "#f0f921"
            ]
           ]
          },
          "colorway": [
           "#636efa",
           "#EF553B",
           "#00cc96",
           "#ab63fa",
           "#FFA15A",
           "#19d3f3",
           "#FF6692",
           "#B6E880",
           "#FF97FF",
           "#FECB52"
          ],
          "font": {
           "color": "#2a3f5f"
          },
          "geo": {
           "bgcolor": "white",
           "lakecolor": "white",
           "landcolor": "#E5ECF6",
           "showlakes": true,
           "showland": true,
           "subunitcolor": "white"
          },
          "hoverlabel": {
           "align": "left"
          },
          "hovermode": "closest",
          "mapbox": {
           "style": "light"
          },
          "paper_bgcolor": "white",
          "plot_bgcolor": "#E5ECF6",
          "polar": {
           "angularaxis": {
            "gridcolor": "white",
            "linecolor": "white",
            "ticks": ""
           },
           "bgcolor": "#E5ECF6",
           "radialaxis": {
            "gridcolor": "white",
            "linecolor": "white",
            "ticks": ""
           }
          },
          "scene": {
           "xaxis": {
            "backgroundcolor": "#E5ECF6",
            "gridcolor": "white",
            "gridwidth": 2,
            "linecolor": "white",
            "showbackground": true,
            "ticks": "",
            "zerolinecolor": "white"
           },
           "yaxis": {
            "backgroundcolor": "#E5ECF6",
            "gridcolor": "white",
            "gridwidth": 2,
            "linecolor": "white",
            "showbackground": true,
            "ticks": "",
            "zerolinecolor": "white"
           },
           "zaxis": {
            "backgroundcolor": "#E5ECF6",
            "gridcolor": "white",
            "gridwidth": 2,
            "linecolor": "white",
            "showbackground": true,
            "ticks": "",
            "zerolinecolor": "white"
           }
          },
          "shapedefaults": {
           "line": {
            "color": "#2a3f5f"
           }
          },
          "ternary": {
           "aaxis": {
            "gridcolor": "white",
            "linecolor": "white",
            "ticks": ""
           },
           "baxis": {
            "gridcolor": "white",
            "linecolor": "white",
            "ticks": ""
           },
           "bgcolor": "#E5ECF6",
           "caxis": {
            "gridcolor": "white",
            "linecolor": "white",
            "ticks": ""
           }
          },
          "title": {
           "x": 0.05
          },
          "xaxis": {
           "automargin": true,
           "gridcolor": "white",
           "linecolor": "white",
           "ticks": "",
           "title": {
            "standoff": 15
           },
           "zerolinecolor": "white",
           "zerolinewidth": 2
          },
          "yaxis": {
           "automargin": true,
           "gridcolor": "white",
           "linecolor": "white",
           "ticks": "",
           "title": {
            "standoff": 15
           },
           "zerolinecolor": "white",
           "zerolinewidth": 2
          }
         }
        },
        "title": {
         "text": "Count of Cuts"
        },
        "xaxis": {
         "title": {
          "text": "Cut"
         }
        },
        "yaxis": {
         "title": {
          "text": "Count"
         }
        }
       }
      }
     },
     "metadata": {},
     "output_type": "display_data"
    },
    {
     "data": {
      "application/vnd.plotly.v1+json": {
       "config": {
        "plotlyServerURL": "https://plot.ly"
       },
       "data": [
        {
         "marker": {
          "color": "lightgreen"
         },
         "type": "bar",
         "x": [
          "SI2",
          "VS2",
          "SI1",
          "VS1",
          "VVS2",
          "VVS1",
          "IF",
          "I1"
         ],
         "y": [
          77,
          73,
          59,
          51,
          19,
          14,
          5,
          1
         ]
        }
       ],
       "layout": {
        "template": {
         "data": {
          "bar": [
           {
            "error_x": {
             "color": "#2a3f5f"
            },
            "error_y": {
             "color": "#2a3f5f"
            },
            "marker": {
             "line": {
              "color": "#E5ECF6",
              "width": 0.5
             },
             "pattern": {
              "fillmode": "overlay",
              "size": 10,
              "solidity": 0.2
             }
            },
            "type": "bar"
           }
          ],
          "barpolar": [
           {
            "marker": {
             "line": {
              "color": "#E5ECF6",
              "width": 0.5
             },
             "pattern": {
              "fillmode": "overlay",
              "size": 10,
              "solidity": 0.2
             }
            },
            "type": "barpolar"
           }
          ],
          "carpet": [
           {
            "aaxis": {
             "endlinecolor": "#2a3f5f",
             "gridcolor": "white",
             "linecolor": "white",
             "minorgridcolor": "white",
             "startlinecolor": "#2a3f5f"
            },
            "baxis": {
             "endlinecolor": "#2a3f5f",
             "gridcolor": "white",
             "linecolor": "white",
             "minorgridcolor": "white",
             "startlinecolor": "#2a3f5f"
            },
            "type": "carpet"
           }
          ],
          "choropleth": [
           {
            "colorbar": {
             "outlinewidth": 0,
             "ticks": ""
            },
            "type": "choropleth"
           }
          ],
          "contour": [
           {
            "colorbar": {
             "outlinewidth": 0,
             "ticks": ""
            },
            "colorscale": [
             [
              0,
              "#0d0887"
             ],
             [
              0.1111111111111111,
              "#46039f"
             ],
             [
              0.2222222222222222,
              "#7201a8"
             ],
             [
              0.3333333333333333,
              "#9c179e"
             ],
             [
              0.4444444444444444,
              "#bd3786"
             ],
             [
              0.5555555555555556,
              "#d8576b"
             ],
             [
              0.6666666666666666,
              "#ed7953"
             ],
             [
              0.7777777777777778,
              "#fb9f3a"
             ],
             [
              0.8888888888888888,
              "#fdca26"
             ],
             [
              1,
              "#f0f921"
             ]
            ],
            "type": "contour"
           }
          ],
          "contourcarpet": [
           {
            "colorbar": {
             "outlinewidth": 0,
             "ticks": ""
            },
            "type": "contourcarpet"
           }
          ],
          "heatmap": [
           {
            "colorbar": {
             "outlinewidth": 0,
             "ticks": ""
            },
            "colorscale": [
             [
              0,
              "#0d0887"
             ],
             [
              0.1111111111111111,
              "#46039f"
             ],
             [
              0.2222222222222222,
              "#7201a8"
             ],
             [
              0.3333333333333333,
              "#9c179e"
             ],
             [
              0.4444444444444444,
              "#bd3786"
             ],
             [
              0.5555555555555556,
              "#d8576b"
             ],
             [
              0.6666666666666666,
              "#ed7953"
             ],
             [
              0.7777777777777778,
              "#fb9f3a"
             ],
             [
              0.8888888888888888,
              "#fdca26"
             ],
             [
              1,
              "#f0f921"
             ]
            ],
            "type": "heatmap"
           }
          ],
          "heatmapgl": [
           {
            "colorbar": {
             "outlinewidth": 0,
             "ticks": ""
            },
            "colorscale": [
             [
              0,
              "#0d0887"
             ],
             [
              0.1111111111111111,
              "#46039f"
             ],
             [
              0.2222222222222222,
              "#7201a8"
             ],
             [
              0.3333333333333333,
              "#9c179e"
             ],
             [
              0.4444444444444444,
              "#bd3786"
             ],
             [
              0.5555555555555556,
              "#d8576b"
             ],
             [
              0.6666666666666666,
              "#ed7953"
             ],
             [
              0.7777777777777778,
              "#fb9f3a"
             ],
             [
              0.8888888888888888,
              "#fdca26"
             ],
             [
              1,
              "#f0f921"
             ]
            ],
            "type": "heatmapgl"
           }
          ],
          "histogram": [
           {
            "marker": {
             "pattern": {
              "fillmode": "overlay",
              "size": 10,
              "solidity": 0.2
             }
            },
            "type": "histogram"
           }
          ],
          "histogram2d": [
           {
            "colorbar": {
             "outlinewidth": 0,
             "ticks": ""
            },
            "colorscale": [
             [
              0,
              "#0d0887"
             ],
             [
              0.1111111111111111,
              "#46039f"
             ],
             [
              0.2222222222222222,
              "#7201a8"
             ],
             [
              0.3333333333333333,
              "#9c179e"
             ],
             [
              0.4444444444444444,
              "#bd3786"
             ],
             [
              0.5555555555555556,
              "#d8576b"
             ],
             [
              0.6666666666666666,
              "#ed7953"
             ],
             [
              0.7777777777777778,
              "#fb9f3a"
             ],
             [
              0.8888888888888888,
              "#fdca26"
             ],
             [
              1,
              "#f0f921"
             ]
            ],
            "type": "histogram2d"
           }
          ],
          "histogram2dcontour": [
           {
            "colorbar": {
             "outlinewidth": 0,
             "ticks": ""
            },
            "colorscale": [
             [
              0,
              "#0d0887"
             ],
             [
              0.1111111111111111,
              "#46039f"
             ],
             [
              0.2222222222222222,
              "#7201a8"
             ],
             [
              0.3333333333333333,
              "#9c179e"
             ],
             [
              0.4444444444444444,
              "#bd3786"
             ],
             [
              0.5555555555555556,
              "#d8576b"
             ],
             [
              0.6666666666666666,
              "#ed7953"
             ],
             [
              0.7777777777777778,
              "#fb9f3a"
             ],
             [
              0.8888888888888888,
              "#fdca26"
             ],
             [
              1,
              "#f0f921"
             ]
            ],
            "type": "histogram2dcontour"
           }
          ],
          "mesh3d": [
           {
            "colorbar": {
             "outlinewidth": 0,
             "ticks": ""
            },
            "type": "mesh3d"
           }
          ],
          "parcoords": [
           {
            "line": {
             "colorbar": {
              "outlinewidth": 0,
              "ticks": ""
             }
            },
            "type": "parcoords"
           }
          ],
          "pie": [
           {
            "automargin": true,
            "type": "pie"
           }
          ],
          "scatter": [
           {
            "fillpattern": {
             "fillmode": "overlay",
             "size": 10,
             "solidity": 0.2
            },
            "type": "scatter"
           }
          ],
          "scatter3d": [
           {
            "line": {
             "colorbar": {
              "outlinewidth": 0,
              "ticks": ""
             }
            },
            "marker": {
             "colorbar": {
              "outlinewidth": 0,
              "ticks": ""
             }
            },
            "type": "scatter3d"
           }
          ],
          "scattercarpet": [
           {
            "marker": {
             "colorbar": {
              "outlinewidth": 0,
              "ticks": ""
             }
            },
            "type": "scattercarpet"
           }
          ],
          "scattergeo": [
           {
            "marker": {
             "colorbar": {
              "outlinewidth": 0,
              "ticks": ""
             }
            },
            "type": "scattergeo"
           }
          ],
          "scattergl": [
           {
            "marker": {
             "colorbar": {
              "outlinewidth": 0,
              "ticks": ""
             }
            },
            "type": "scattergl"
           }
          ],
          "scattermapbox": [
           {
            "marker": {
             "colorbar": {
              "outlinewidth": 0,
              "ticks": ""
             }
            },
            "type": "scattermapbox"
           }
          ],
          "scatterpolar": [
           {
            "marker": {
             "colorbar": {
              "outlinewidth": 0,
              "ticks": ""
             }
            },
            "type": "scatterpolar"
           }
          ],
          "scatterpolargl": [
           {
            "marker": {
             "colorbar": {
              "outlinewidth": 0,
              "ticks": ""
             }
            },
            "type": "scatterpolargl"
           }
          ],
          "scatterternary": [
           {
            "marker": {
             "colorbar": {
              "outlinewidth": 0,
              "ticks": ""
             }
            },
            "type": "scatterternary"
           }
          ],
          "surface": [
           {
            "colorbar": {
             "outlinewidth": 0,
             "ticks": ""
            },
            "colorscale": [
             [
              0,
              "#0d0887"
             ],
             [
              0.1111111111111111,
              "#46039f"
             ],
             [
              0.2222222222222222,
              "#7201a8"
             ],
             [
              0.3333333333333333,
              "#9c179e"
             ],
             [
              0.4444444444444444,
              "#bd3786"
             ],
             [
              0.5555555555555556,
              "#d8576b"
             ],
             [
              0.6666666666666666,
              "#ed7953"
             ],
             [
              0.7777777777777778,
              "#fb9f3a"
             ],
             [
              0.8888888888888888,
              "#fdca26"
             ],
             [
              1,
              "#f0f921"
             ]
            ],
            "type": "surface"
           }
          ],
          "table": [
           {
            "cells": {
             "fill": {
              "color": "#EBF0F8"
             },
             "line": {
              "color": "white"
             }
            },
            "header": {
             "fill": {
              "color": "#C8D4E3"
             },
             "line": {
              "color": "white"
             }
            },
            "type": "table"
           }
          ]
         },
         "layout": {
          "annotationdefaults": {
           "arrowcolor": "#2a3f5f",
           "arrowhead": 0,
           "arrowwidth": 1
          },
          "autotypenumbers": "strict",
          "coloraxis": {
           "colorbar": {
            "outlinewidth": 0,
            "ticks": ""
           }
          },
          "colorscale": {
           "diverging": [
            [
             0,
             "#8e0152"
            ],
            [
             0.1,
             "#c51b7d"
            ],
            [
             0.2,
             "#de77ae"
            ],
            [
             0.3,
             "#f1b6da"
            ],
            [
             0.4,
             "#fde0ef"
            ],
            [
             0.5,
             "#f7f7f7"
            ],
            [
             0.6,
             "#e6f5d0"
            ],
            [
             0.7,
             "#b8e186"
            ],
            [
             0.8,
             "#7fbc41"
            ],
            [
             0.9,
             "#4d9221"
            ],
            [
             1,
             "#276419"
            ]
           ],
           "sequential": [
            [
             0,
             "#0d0887"
            ],
            [
             0.1111111111111111,
             "#46039f"
            ],
            [
             0.2222222222222222,
             "#7201a8"
            ],
            [
             0.3333333333333333,
             "#9c179e"
            ],
            [
             0.4444444444444444,
             "#bd3786"
            ],
            [
             0.5555555555555556,
             "#d8576b"
            ],
            [
             0.6666666666666666,
             "#ed7953"
            ],
            [
             0.7777777777777778,
             "#fb9f3a"
            ],
            [
             0.8888888888888888,
             "#fdca26"
            ],
            [
             1,
             "#f0f921"
            ]
           ],
           "sequentialminus": [
            [
             0,
             "#0d0887"
            ],
            [
             0.1111111111111111,
             "#46039f"
            ],
            [
             0.2222222222222222,
             "#7201a8"
            ],
            [
             0.3333333333333333,
             "#9c179e"
            ],
            [
             0.4444444444444444,
             "#bd3786"
            ],
            [
             0.5555555555555556,
             "#d8576b"
            ],
            [
             0.6666666666666666,
             "#ed7953"
            ],
            [
             0.7777777777777778,
             "#fb9f3a"
            ],
            [
             0.8888888888888888,
             "#fdca26"
            ],
            [
             1,
             "#f0f921"
            ]
           ]
          },
          "colorway": [
           "#636efa",
           "#EF553B",
           "#00cc96",
           "#ab63fa",
           "#FFA15A",
           "#19d3f3",
           "#FF6692",
           "#B6E880",
           "#FF97FF",
           "#FECB52"
          ],
          "font": {
           "color": "#2a3f5f"
          },
          "geo": {
           "bgcolor": "white",
           "lakecolor": "white",
           "landcolor": "#E5ECF6",
           "showlakes": true,
           "showland": true,
           "subunitcolor": "white"
          },
          "hoverlabel": {
           "align": "left"
          },
          "hovermode": "closest",
          "mapbox": {
           "style": "light"
          },
          "paper_bgcolor": "white",
          "plot_bgcolor": "#E5ECF6",
          "polar": {
           "angularaxis": {
            "gridcolor": "white",
            "linecolor": "white",
            "ticks": ""
           },
           "bgcolor": "#E5ECF6",
           "radialaxis": {
            "gridcolor": "white",
            "linecolor": "white",
            "ticks": ""
           }
          },
          "scene": {
           "xaxis": {
            "backgroundcolor": "#E5ECF6",
            "gridcolor": "white",
            "gridwidth": 2,
            "linecolor": "white",
            "showbackground": true,
            "ticks": "",
            "zerolinecolor": "white"
           },
           "yaxis": {
            "backgroundcolor": "#E5ECF6",
            "gridcolor": "white",
            "gridwidth": 2,
            "linecolor": "white",
            "showbackground": true,
            "ticks": "",
            "zerolinecolor": "white"
           },
           "zaxis": {
            "backgroundcolor": "#E5ECF6",
            "gridcolor": "white",
            "gridwidth": 2,
            "linecolor": "white",
            "showbackground": true,
            "ticks": "",
            "zerolinecolor": "white"
           }
          },
          "shapedefaults": {
           "line": {
            "color": "#2a3f5f"
           }
          },
          "ternary": {
           "aaxis": {
            "gridcolor": "white",
            "linecolor": "white",
            "ticks": ""
           },
           "baxis": {
            "gridcolor": "white",
            "linecolor": "white",
            "ticks": ""
           },
           "bgcolor": "#E5ECF6",
           "caxis": {
            "gridcolor": "white",
            "linecolor": "white",
            "ticks": ""
           }
          },
          "title": {
           "x": 0.05
          },
          "xaxis": {
           "automargin": true,
           "gridcolor": "white",
           "linecolor": "white",
           "ticks": "",
           "title": {
            "standoff": 15
           },
           "zerolinecolor": "white",
           "zerolinewidth": 2
          },
          "yaxis": {
           "automargin": true,
           "gridcolor": "white",
           "linecolor": "white",
           "ticks": "",
           "title": {
            "standoff": 15
           },
           "zerolinecolor": "white",
           "zerolinewidth": 2
          }
         }
        },
        "title": {
         "text": "Count of Clarities"
        },
        "xaxis": {
         "title": {
          "text": "Clarity"
         }
        },
        "yaxis": {
         "title": {
          "text": "Count"
         }
        }
       }
      }
     },
     "metadata": {},
     "output_type": "display_data"
    }
   ],
   "source": [
    "# Let's cast a spell to get the counts of values in the 'color', 'cut', and 'clarity' columns\n",
    "counts_color = df_complete['color'].value_counts()\n",
    "counts_cut = df_complete['cut'].value_counts()\n",
    "counts_clarity = df_complete['clarity'].value_counts()\n",
    "\n",
    "# Create figures for the charts, summoning magical bar charts\n",
    "fig_color = go.Figure(data=[go.Bar(x=counts_color.index, y=counts_color.values, marker_color='skyblue')])\n",
    "fig_cut = go.Figure(data=[go.Bar(x=counts_cut.index, y=counts_cut.values, marker_color='salmon')])\n",
    "fig_clarity = go.Figure(data=[go.Bar(x=counts_clarity.index, y=counts_clarity.values, marker_color='lightgreen')])\n",
    "\n",
    "# Configure the layout and labels, adding a touch of magic to the charts\n",
    "fig_color.update_layout(title='Count of Colors', xaxis_title='Color', yaxis_title='Count')\n",
    "fig_cut.update_layout(title='Count of Cuts', xaxis_title='Cut', yaxis_title='Count')\n",
    "fig_clarity.update_layout(title='Count of Clarities', xaxis_title='Clarity', yaxis_title='Count')\n",
    "\n",
    "# Display the magical charts\n",
    "fig_color.show()\n",
    "fig_cut.show()\n",
    "fig_clarity.show()\n"
   ]
  },
  {
   "cell_type": "code",
   "execution_count": 40,
   "metadata": {},
   "outputs": [
    {
     "data": {
      "application/vnd.plotly.v1+json": {
       "config": {
        "plotlyServerURL": "https://plot.ly"
       },
       "data": [
        {
         "hovertemplate": "Weight (carat)=%{x}<br>Price=%{y}<extra></extra>",
         "legendgroup": "",
         "marker": {
          "color": "#636efa",
          "symbol": "circle"
         },
         "mode": "markers",
         "name": "",
         "orientation": "v",
         "showlegend": false,
         "type": "scatter",
         "x": [
          0.7,
          0.3,
          0.34,
          0.33,
          0.32,
          0.26,
          0.27,
          0.39,
          0.36,
          0.31,
          0.33,
          0.31,
          0.34,
          0.34,
          0.25,
          0.32,
          0.32,
          0.31,
          0.27,
          0.27,
          0.33,
          0.33,
          0.33,
          0.33,
          0.38,
          0.39,
          0.31,
          0.34,
          0.32,
          0.31,
          0.31,
          0.26,
          0.24,
          0.3,
          0.3,
          0.27,
          0.29,
          0.3,
          0.33,
          0.33,
          0.41,
          0.35,
          0.29,
          0.3,
          0.27,
          0.3,
          0.32,
          0.31,
          1.75,
          0.31,
          0.31,
          0.31,
          1.51,
          0.31,
          1.5,
          0.31,
          0.35,
          0.33,
          2.2,
          2,
          2,
          1.71,
          0.3,
          0.3,
          0.3,
          0.36,
          2,
          1.99,
          2.01,
          3.65,
          0.4,
          0.25,
          2.1,
          2.1,
          2.03,
          2.03,
          1.74,
          1.8,
          2.3,
          1.88,
          1.83,
          2.01,
          1.51,
          1.37,
          1.58,
          2.02,
          1.5,
          2.18,
          2.01,
          2.18,
          1.98,
          2.01,
          1.73,
          0.3,
          2.14,
          2,
          2.1,
          1.51,
          1.51,
          1.73,
          2.1,
          2.02,
          1.52,
          2.01,
          2.01,
          1.54,
          2.01,
          1.7,
          2.09,
          1.51,
          1.59,
          1.5,
          2.06,
          2.08,
          2.14,
          1.56,
          1.54,
          1.5,
          1.5,
          2.3,
          1.5,
          1.71,
          1.51,
          2.14,
          2.01,
          1.52,
          1.7,
          2.14,
          2.29,
          2.06,
          2.01,
          0.35,
          1.58,
          2.06,
          1.41,
          1.7,
          1.72,
          2.06,
          2.04,
          2.02,
          1.54,
          2.53,
          1.51,
          2.19,
          1.2,
          2.01,
          1.51,
          1.64,
          1.51,
          1.02,
          2,
          2.06,
          2.01,
          1.51,
          2.18,
          2,
          2.01,
          2.01,
          2.06,
          2.02,
          2.02,
          2.01,
          2.23,
          2.07,
          2.42,
          2,
          2.66,
          2.02,
          2.05,
          1.51,
          2.07,
          1.51,
          2.03,
          2.06,
          1.51,
          2.03,
          2.14,
          1.75,
          2.02,
          2.01,
          2,
          2.05,
          2.02,
          2.04,
          2.01,
          2.48,
          2.14,
          2.1,
          2.29,
          1.51,
          2.02,
          2.01,
          2.01,
          2.18,
          1.58,
          2.2,
          1.54,
          2.05,
          2.1,
          2.03,
          2.23,
          2.01,
          2.04,
          2.2,
          1.7,
          2.3,
          2.29,
          2.44,
          1.7,
          2.08,
          1.6,
          1.71,
          0.32,
          0.32,
          0.3,
          0.26,
          0.3,
          0.31,
          0.36,
          0.32,
          0.24,
          0.32,
          0.27,
          0.27,
          0.31,
          0.31,
          0.32,
          0.31,
          0.26,
          0.3,
          0.33,
          0.2,
          0.3,
          0.26,
          0.31,
          0.33,
          0.3,
          0.27,
          0.24,
          0.3,
          0.3,
          0.33,
          0.24,
          0.26,
          0.24,
          0.24,
          0.23,
          0.32,
          0.3,
          0.26,
          0.28,
          0.35,
          0.31,
          0.3,
          0.3,
          0.26,
          0.28,
          0.33,
          0.33,
          0.29,
          0.31,
          0.3,
          0.31,
          0.31,
          0.24,
          0.23,
          0.32,
          0.3,
          0.3,
          0.31,
          0.3,
          0.3,
          0.31,
          0.21,
          0.3,
          0.33,
          0.31,
          0.25,
          0.3,
          0.3,
          0.3,
          0.3,
          0.31,
          0.23,
          0.32,
          0.36,
          0.34,
          0.32,
          0.24,
          0.3,
          0.27,
          0.31,
          0.23,
          0.31,
          0.3,
          0.31,
          0.24,
          0.3,
          0.35
         ],
         "xaxis": "x",
         "y": [
          1947,
          351,
          556,
          557,
          561,
          564,
          407,
          568,
          568,
          571,
          572,
          573,
          574,
          574,
          575,
          576,
          576,
          408,
          413,
          577,
          579,
          579,
          579,
          579,
          585,
          586,
          587,
          589,
          589,
          593,
          593,
          599,
          419,
          605,
          605,
          606,
          607,
          608,
          608,
          610,
          613,
          614,
          617,
          621,
          622,
          624,
          421,
          625,
          8820,
          625,
          625,
          625,
          9741,
          628,
          10134,
          628,
          630,
          631,
          11088,
          11198,
          11202,
          11250,
          422,
          422,
          422,
          631,
          11413,
          11486,
          11646,
          11668,
          631,
          633,
          11923,
          11946,
          12021,
          12154,
          12168,
          12308,
          12316,
          12339,
          12379,
          12423,
          12437,
          12455,
          12530,
          12680,
          12787,
          12825,
          12845,
          12853,
          12923,
          12964,
          12998,
          640,
          13065,
          13162,
          13182,
          13234,
          13293,
          13365,
          13462,
          13499,
          13530,
          13596,
          13691,
          13733,
          13744,
          13766,
          13807,
          13811,
          13839,
          13853,
          13948,
          13956,
          14065,
          14139,
          14188,
          14199,
          14199,
          14215,
          14281,
          14292,
          14294,
          14359,
          14402,
          14424,
          14445,
          14452,
          14500,
          14505,
          14558,
          644,
          14624,
          14803,
          14853,
          14860,
          14892,
          14920,
          14945,
          15014,
          15059,
          15148,
          15164,
          15169,
          15185,
          15188,
          15440,
          15458,
          15531,
          15575,
          15651,
          15716,
          15729,
          15821,
          15850,
          15851,
          15888,
          15908,
          15949,
          15974,
          15987,
          16003,
          16025,
          16189,
          16198,
          16206,
          16239,
          16256,
          16295,
          16370,
          16378,
          16402,
          16442,
          16512,
          16688,
          16693,
          16723,
          16783,
          16789,
          17014,
          17172,
          17237,
          17265,
          17327,
          17334,
          17448,
          17582,
          17606,
          17666,
          17689,
          17692,
          17798,
          17826,
          17841,
          17894,
          17905,
          17949,
          17957,
          18124,
          18139,
          18149,
          18149,
          18153,
          18168,
          18279,
          18304,
          18426,
          18430,
          18598,
          18760,
          18780,
          18791,
          648,
          648,
          654,
          657,
          658,
          663,
          665,
          432,
          432,
          673,
          682,
          682,
          435,
          698,
          442,
          446,
          724,
          447,
          450,
          367,
          368,
          453,
          462,
          463,
          465,
          470,
          471,
          473,
          475,
          475,
          478,
          482,
          485,
          485,
          485,
          486,
          382,
          384,
          487,
          487,
          489,
          491,
          491,
          491,
          492,
          492,
          492,
          496,
          500,
          500,
          390,
          391,
          504,
          505,
          505,
          506,
          506,
          511,
          514,
          515,
          516,
          394,
          394,
          520,
          521,
          525,
          526,
          526,
          526,
          526,
          396,
          530,
          532,
          537,
          537,
          540,
          540,
          540,
          544,
          544,
          402,
          544,
          545,
          547,
          552,
          552,
          552
         ],
         "yaxis": "y"
        }
       ],
       "layout": {
        "legend": {
         "tracegroupgap": 0
        },
        "template": {
         "data": {
          "bar": [
           {
            "error_x": {
             "color": "#2a3f5f"
            },
            "error_y": {
             "color": "#2a3f5f"
            },
            "marker": {
             "line": {
              "color": "#E5ECF6",
              "width": 0.5
             },
             "pattern": {
              "fillmode": "overlay",
              "size": 10,
              "solidity": 0.2
             }
            },
            "type": "bar"
           }
          ],
          "barpolar": [
           {
            "marker": {
             "line": {
              "color": "#E5ECF6",
              "width": 0.5
             },
             "pattern": {
              "fillmode": "overlay",
              "size": 10,
              "solidity": 0.2
             }
            },
            "type": "barpolar"
           }
          ],
          "carpet": [
           {
            "aaxis": {
             "endlinecolor": "#2a3f5f",
             "gridcolor": "white",
             "linecolor": "white",
             "minorgridcolor": "white",
             "startlinecolor": "#2a3f5f"
            },
            "baxis": {
             "endlinecolor": "#2a3f5f",
             "gridcolor": "white",
             "linecolor": "white",
             "minorgridcolor": "white",
             "startlinecolor": "#2a3f5f"
            },
            "type": "carpet"
           }
          ],
          "choropleth": [
           {
            "colorbar": {
             "outlinewidth": 0,
             "ticks": ""
            },
            "type": "choropleth"
           }
          ],
          "contour": [
           {
            "colorbar": {
             "outlinewidth": 0,
             "ticks": ""
            },
            "colorscale": [
             [
              0,
              "#0d0887"
             ],
             [
              0.1111111111111111,
              "#46039f"
             ],
             [
              0.2222222222222222,
              "#7201a8"
             ],
             [
              0.3333333333333333,
              "#9c179e"
             ],
             [
              0.4444444444444444,
              "#bd3786"
             ],
             [
              0.5555555555555556,
              "#d8576b"
             ],
             [
              0.6666666666666666,
              "#ed7953"
             ],
             [
              0.7777777777777778,
              "#fb9f3a"
             ],
             [
              0.8888888888888888,
              "#fdca26"
             ],
             [
              1,
              "#f0f921"
             ]
            ],
            "type": "contour"
           }
          ],
          "contourcarpet": [
           {
            "colorbar": {
             "outlinewidth": 0,
             "ticks": ""
            },
            "type": "contourcarpet"
           }
          ],
          "heatmap": [
           {
            "colorbar": {
             "outlinewidth": 0,
             "ticks": ""
            },
            "colorscale": [
             [
              0,
              "#0d0887"
             ],
             [
              0.1111111111111111,
              "#46039f"
             ],
             [
              0.2222222222222222,
              "#7201a8"
             ],
             [
              0.3333333333333333,
              "#9c179e"
             ],
             [
              0.4444444444444444,
              "#bd3786"
             ],
             [
              0.5555555555555556,
              "#d8576b"
             ],
             [
              0.6666666666666666,
              "#ed7953"
             ],
             [
              0.7777777777777778,
              "#fb9f3a"
             ],
             [
              0.8888888888888888,
              "#fdca26"
             ],
             [
              1,
              "#f0f921"
             ]
            ],
            "type": "heatmap"
           }
          ],
          "heatmapgl": [
           {
            "colorbar": {
             "outlinewidth": 0,
             "ticks": ""
            },
            "colorscale": [
             [
              0,
              "#0d0887"
             ],
             [
              0.1111111111111111,
              "#46039f"
             ],
             [
              0.2222222222222222,
              "#7201a8"
             ],
             [
              0.3333333333333333,
              "#9c179e"
             ],
             [
              0.4444444444444444,
              "#bd3786"
             ],
             [
              0.5555555555555556,
              "#d8576b"
             ],
             [
              0.6666666666666666,
              "#ed7953"
             ],
             [
              0.7777777777777778,
              "#fb9f3a"
             ],
             [
              0.8888888888888888,
              "#fdca26"
             ],
             [
              1,
              "#f0f921"
             ]
            ],
            "type": "heatmapgl"
           }
          ],
          "histogram": [
           {
            "marker": {
             "pattern": {
              "fillmode": "overlay",
              "size": 10,
              "solidity": 0.2
             }
            },
            "type": "histogram"
           }
          ],
          "histogram2d": [
           {
            "colorbar": {
             "outlinewidth": 0,
             "ticks": ""
            },
            "colorscale": [
             [
              0,
              "#0d0887"
             ],
             [
              0.1111111111111111,
              "#46039f"
             ],
             [
              0.2222222222222222,
              "#7201a8"
             ],
             [
              0.3333333333333333,
              "#9c179e"
             ],
             [
              0.4444444444444444,
              "#bd3786"
             ],
             [
              0.5555555555555556,
              "#d8576b"
             ],
             [
              0.6666666666666666,
              "#ed7953"
             ],
             [
              0.7777777777777778,
              "#fb9f3a"
             ],
             [
              0.8888888888888888,
              "#fdca26"
             ],
             [
              1,
              "#f0f921"
             ]
            ],
            "type": "histogram2d"
           }
          ],
          "histogram2dcontour": [
           {
            "colorbar": {
             "outlinewidth": 0,
             "ticks": ""
            },
            "colorscale": [
             [
              0,
              "#0d0887"
             ],
             [
              0.1111111111111111,
              "#46039f"
             ],
             [
              0.2222222222222222,
              "#7201a8"
             ],
             [
              0.3333333333333333,
              "#9c179e"
             ],
             [
              0.4444444444444444,
              "#bd3786"
             ],
             [
              0.5555555555555556,
              "#d8576b"
             ],
             [
              0.6666666666666666,
              "#ed7953"
             ],
             [
              0.7777777777777778,
              "#fb9f3a"
             ],
             [
              0.8888888888888888,
              "#fdca26"
             ],
             [
              1,
              "#f0f921"
             ]
            ],
            "type": "histogram2dcontour"
           }
          ],
          "mesh3d": [
           {
            "colorbar": {
             "outlinewidth": 0,
             "ticks": ""
            },
            "type": "mesh3d"
           }
          ],
          "parcoords": [
           {
            "line": {
             "colorbar": {
              "outlinewidth": 0,
              "ticks": ""
             }
            },
            "type": "parcoords"
           }
          ],
          "pie": [
           {
            "automargin": true,
            "type": "pie"
           }
          ],
          "scatter": [
           {
            "fillpattern": {
             "fillmode": "overlay",
             "size": 10,
             "solidity": 0.2
            },
            "type": "scatter"
           }
          ],
          "scatter3d": [
           {
            "line": {
             "colorbar": {
              "outlinewidth": 0,
              "ticks": ""
             }
            },
            "marker": {
             "colorbar": {
              "outlinewidth": 0,
              "ticks": ""
             }
            },
            "type": "scatter3d"
           }
          ],
          "scattercarpet": [
           {
            "marker": {
             "colorbar": {
              "outlinewidth": 0,
              "ticks": ""
             }
            },
            "type": "scattercarpet"
           }
          ],
          "scattergeo": [
           {
            "marker": {
             "colorbar": {
              "outlinewidth": 0,
              "ticks": ""
             }
            },
            "type": "scattergeo"
           }
          ],
          "scattergl": [
           {
            "marker": {
             "colorbar": {
              "outlinewidth": 0,
              "ticks": ""
             }
            },
            "type": "scattergl"
           }
          ],
          "scattermapbox": [
           {
            "marker": {
             "colorbar": {
              "outlinewidth": 0,
              "ticks": ""
             }
            },
            "type": "scattermapbox"
           }
          ],
          "scatterpolar": [
           {
            "marker": {
             "colorbar": {
              "outlinewidth": 0,
              "ticks": ""
             }
            },
            "type": "scatterpolar"
           }
          ],
          "scatterpolargl": [
           {
            "marker": {
             "colorbar": {
              "outlinewidth": 0,
              "ticks": ""
             }
            },
            "type": "scatterpolargl"
           }
          ],
          "scatterternary": [
           {
            "marker": {
             "colorbar": {
              "outlinewidth": 0,
              "ticks": ""
             }
            },
            "type": "scatterternary"
           }
          ],
          "surface": [
           {
            "colorbar": {
             "outlinewidth": 0,
             "ticks": ""
            },
            "colorscale": [
             [
              0,
              "#0d0887"
             ],
             [
              0.1111111111111111,
              "#46039f"
             ],
             [
              0.2222222222222222,
              "#7201a8"
             ],
             [
              0.3333333333333333,
              "#9c179e"
             ],
             [
              0.4444444444444444,
              "#bd3786"
             ],
             [
              0.5555555555555556,
              "#d8576b"
             ],
             [
              0.6666666666666666,
              "#ed7953"
             ],
             [
              0.7777777777777778,
              "#fb9f3a"
             ],
             [
              0.8888888888888888,
              "#fdca26"
             ],
             [
              1,
              "#f0f921"
             ]
            ],
            "type": "surface"
           }
          ],
          "table": [
           {
            "cells": {
             "fill": {
              "color": "#EBF0F8"
             },
             "line": {
              "color": "white"
             }
            },
            "header": {
             "fill": {
              "color": "#C8D4E3"
             },
             "line": {
              "color": "white"
             }
            },
            "type": "table"
           }
          ]
         },
         "layout": {
          "annotationdefaults": {
           "arrowcolor": "#2a3f5f",
           "arrowhead": 0,
           "arrowwidth": 1
          },
          "autotypenumbers": "strict",
          "coloraxis": {
           "colorbar": {
            "outlinewidth": 0,
            "ticks": ""
           }
          },
          "colorscale": {
           "diverging": [
            [
             0,
             "#8e0152"
            ],
            [
             0.1,
             "#c51b7d"
            ],
            [
             0.2,
             "#de77ae"
            ],
            [
             0.3,
             "#f1b6da"
            ],
            [
             0.4,
             "#fde0ef"
            ],
            [
             0.5,
             "#f7f7f7"
            ],
            [
             0.6,
             "#e6f5d0"
            ],
            [
             0.7,
             "#b8e186"
            ],
            [
             0.8,
             "#7fbc41"
            ],
            [
             0.9,
             "#4d9221"
            ],
            [
             1,
             "#276419"
            ]
           ],
           "sequential": [
            [
             0,
             "#0d0887"
            ],
            [
             0.1111111111111111,
             "#46039f"
            ],
            [
             0.2222222222222222,
             "#7201a8"
            ],
            [
             0.3333333333333333,
             "#9c179e"
            ],
            [
             0.4444444444444444,
             "#bd3786"
            ],
            [
             0.5555555555555556,
             "#d8576b"
            ],
            [
             0.6666666666666666,
             "#ed7953"
            ],
            [
             0.7777777777777778,
             "#fb9f3a"
            ],
            [
             0.8888888888888888,
             "#fdca26"
            ],
            [
             1,
             "#f0f921"
            ]
           ],
           "sequentialminus": [
            [
             0,
             "#0d0887"
            ],
            [
             0.1111111111111111,
             "#46039f"
            ],
            [
             0.2222222222222222,
             "#7201a8"
            ],
            [
             0.3333333333333333,
             "#9c179e"
            ],
            [
             0.4444444444444444,
             "#bd3786"
            ],
            [
             0.5555555555555556,
             "#d8576b"
            ],
            [
             0.6666666666666666,
             "#ed7953"
            ],
            [
             0.7777777777777778,
             "#fb9f3a"
            ],
            [
             0.8888888888888888,
             "#fdca26"
            ],
            [
             1,
             "#f0f921"
            ]
           ]
          },
          "colorway": [
           "#636efa",
           "#EF553B",
           "#00cc96",
           "#ab63fa",
           "#FFA15A",
           "#19d3f3",
           "#FF6692",
           "#B6E880",
           "#FF97FF",
           "#FECB52"
          ],
          "font": {
           "color": "#2a3f5f"
          },
          "geo": {
           "bgcolor": "white",
           "lakecolor": "white",
           "landcolor": "#E5ECF6",
           "showlakes": true,
           "showland": true,
           "subunitcolor": "white"
          },
          "hoverlabel": {
           "align": "left"
          },
          "hovermode": "closest",
          "mapbox": {
           "style": "light"
          },
          "paper_bgcolor": "white",
          "plot_bgcolor": "#E5ECF6",
          "polar": {
           "angularaxis": {
            "gridcolor": "white",
            "linecolor": "white",
            "ticks": ""
           },
           "bgcolor": "#E5ECF6",
           "radialaxis": {
            "gridcolor": "white",
            "linecolor": "white",
            "ticks": ""
           }
          },
          "scene": {
           "xaxis": {
            "backgroundcolor": "#E5ECF6",
            "gridcolor": "white",
            "gridwidth": 2,
            "linecolor": "white",
            "showbackground": true,
            "ticks": "",
            "zerolinecolor": "white"
           },
           "yaxis": {
            "backgroundcolor": "#E5ECF6",
            "gridcolor": "white",
            "gridwidth": 2,
            "linecolor": "white",
            "showbackground": true,
            "ticks": "",
            "zerolinecolor": "white"
           },
           "zaxis": {
            "backgroundcolor": "#E5ECF6",
            "gridcolor": "white",
            "gridwidth": 2,
            "linecolor": "white",
            "showbackground": true,
            "ticks": "",
            "zerolinecolor": "white"
           }
          },
          "shapedefaults": {
           "line": {
            "color": "#2a3f5f"
           }
          },
          "ternary": {
           "aaxis": {
            "gridcolor": "white",
            "linecolor": "white",
            "ticks": ""
           },
           "baxis": {
            "gridcolor": "white",
            "linecolor": "white",
            "ticks": ""
           },
           "bgcolor": "#E5ECF6",
           "caxis": {
            "gridcolor": "white",
            "linecolor": "white",
            "ticks": ""
           }
          },
          "title": {
           "x": 0.05
          },
          "xaxis": {
           "automargin": true,
           "gridcolor": "white",
           "linecolor": "white",
           "ticks": "",
           "title": {
            "standoff": 15
           },
           "zerolinecolor": "white",
           "zerolinewidth": 2
          },
          "yaxis": {
           "automargin": true,
           "gridcolor": "white",
           "linecolor": "white",
           "ticks": "",
           "title": {
            "standoff": 15
           },
           "zerolinecolor": "white",
           "zerolinewidth": 2
          }
         }
        },
        "title": {
         "text": "Price vs Weight of Diamonds"
        },
        "xaxis": {
         "anchor": "y",
         "domain": [
          0,
          1
         ],
         "title": {
          "text": "Weight (carat)"
         }
        },
        "yaxis": {
         "anchor": "x",
         "domain": [
          0,
          1
         ],
         "title": {
          "text": "Price"
         }
        }
       }
      }
     },
     "metadata": {},
     "output_type": "display_data"
    },
    {
     "data": {
      "application/vnd.plotly.v1+json": {
       "config": {
        "plotlyServerURL": "https://plot.ly"
       },
       "data": [
        {
         "alignmentgroup": "True",
         "bingroup": "x",
         "hovertemplate": "Price=%{x}<br>count=%{y}<extra></extra>",
         "legendgroup": "",
         "marker": {
          "color": "#636efa",
          "pattern": {
           "shape": ""
          }
         },
         "name": "",
         "nbinsx": 30,
         "offsetgroup": "",
         "orientation": "v",
         "showlegend": false,
         "type": "histogram",
         "x": [
          1947,
          351,
          556,
          557,
          561,
          564,
          407,
          568,
          568,
          571,
          572,
          573,
          574,
          574,
          575,
          576,
          576,
          408,
          413,
          577,
          579,
          579,
          579,
          579,
          585,
          586,
          587,
          589,
          589,
          593,
          593,
          599,
          419,
          605,
          605,
          606,
          607,
          608,
          608,
          610,
          613,
          614,
          617,
          621,
          622,
          624,
          421,
          625,
          8820,
          625,
          625,
          625,
          9741,
          628,
          10134,
          628,
          630,
          631,
          11088,
          11198,
          11202,
          11250,
          422,
          422,
          422,
          631,
          11413,
          11486,
          11646,
          11668,
          631,
          633,
          11923,
          11946,
          12021,
          12154,
          12168,
          12308,
          12316,
          12339,
          12379,
          12423,
          12437,
          12455,
          12530,
          12680,
          12787,
          12825,
          12845,
          12853,
          12923,
          12964,
          12998,
          640,
          13065,
          13162,
          13182,
          13234,
          13293,
          13365,
          13462,
          13499,
          13530,
          13596,
          13691,
          13733,
          13744,
          13766,
          13807,
          13811,
          13839,
          13853,
          13948,
          13956,
          14065,
          14139,
          14188,
          14199,
          14199,
          14215,
          14281,
          14292,
          14294,
          14359,
          14402,
          14424,
          14445,
          14452,
          14500,
          14505,
          14558,
          644,
          14624,
          14803,
          14853,
          14860,
          14892,
          14920,
          14945,
          15014,
          15059,
          15148,
          15164,
          15169,
          15185,
          15188,
          15440,
          15458,
          15531,
          15575,
          15651,
          15716,
          15729,
          15821,
          15850,
          15851,
          15888,
          15908,
          15949,
          15974,
          15987,
          16003,
          16025,
          16189,
          16198,
          16206,
          16239,
          16256,
          16295,
          16370,
          16378,
          16402,
          16442,
          16512,
          16688,
          16693,
          16723,
          16783,
          16789,
          17014,
          17172,
          17237,
          17265,
          17327,
          17334,
          17448,
          17582,
          17606,
          17666,
          17689,
          17692,
          17798,
          17826,
          17841,
          17894,
          17905,
          17949,
          17957,
          18124,
          18139,
          18149,
          18149,
          18153,
          18168,
          18279,
          18304,
          18426,
          18430,
          18598,
          18760,
          18780,
          18791,
          648,
          648,
          654,
          657,
          658,
          663,
          665,
          432,
          432,
          673,
          682,
          682,
          435,
          698,
          442,
          446,
          724,
          447,
          450,
          367,
          368,
          453,
          462,
          463,
          465,
          470,
          471,
          473,
          475,
          475,
          478,
          482,
          485,
          485,
          485,
          486,
          382,
          384,
          487,
          487,
          489,
          491,
          491,
          491,
          492,
          492,
          492,
          496,
          500,
          500,
          390,
          391,
          504,
          505,
          505,
          506,
          506,
          511,
          514,
          515,
          516,
          394,
          394,
          520,
          521,
          525,
          526,
          526,
          526,
          526,
          396,
          530,
          532,
          537,
          537,
          540,
          540,
          540,
          544,
          544,
          402,
          544,
          545,
          547,
          552,
          552,
          552
         ],
         "xaxis": "x",
         "yaxis": "y"
        }
       ],
       "layout": {
        "barmode": "relative",
        "legend": {
         "tracegroupgap": 0
        },
        "template": {
         "data": {
          "bar": [
           {
            "error_x": {
             "color": "#2a3f5f"
            },
            "error_y": {
             "color": "#2a3f5f"
            },
            "marker": {
             "line": {
              "color": "#E5ECF6",
              "width": 0.5
             },
             "pattern": {
              "fillmode": "overlay",
              "size": 10,
              "solidity": 0.2
             }
            },
            "type": "bar"
           }
          ],
          "barpolar": [
           {
            "marker": {
             "line": {
              "color": "#E5ECF6",
              "width": 0.5
             },
             "pattern": {
              "fillmode": "overlay",
              "size": 10,
              "solidity": 0.2
             }
            },
            "type": "barpolar"
           }
          ],
          "carpet": [
           {
            "aaxis": {
             "endlinecolor": "#2a3f5f",
             "gridcolor": "white",
             "linecolor": "white",
             "minorgridcolor": "white",
             "startlinecolor": "#2a3f5f"
            },
            "baxis": {
             "endlinecolor": "#2a3f5f",
             "gridcolor": "white",
             "linecolor": "white",
             "minorgridcolor": "white",
             "startlinecolor": "#2a3f5f"
            },
            "type": "carpet"
           }
          ],
          "choropleth": [
           {
            "colorbar": {
             "outlinewidth": 0,
             "ticks": ""
            },
            "type": "choropleth"
           }
          ],
          "contour": [
           {
            "colorbar": {
             "outlinewidth": 0,
             "ticks": ""
            },
            "colorscale": [
             [
              0,
              "#0d0887"
             ],
             [
              0.1111111111111111,
              "#46039f"
             ],
             [
              0.2222222222222222,
              "#7201a8"
             ],
             [
              0.3333333333333333,
              "#9c179e"
             ],
             [
              0.4444444444444444,
              "#bd3786"
             ],
             [
              0.5555555555555556,
              "#d8576b"
             ],
             [
              0.6666666666666666,
              "#ed7953"
             ],
             [
              0.7777777777777778,
              "#fb9f3a"
             ],
             [
              0.8888888888888888,
              "#fdca26"
             ],
             [
              1,
              "#f0f921"
             ]
            ],
            "type": "contour"
           }
          ],
          "contourcarpet": [
           {
            "colorbar": {
             "outlinewidth": 0,
             "ticks": ""
            },
            "type": "contourcarpet"
           }
          ],
          "heatmap": [
           {
            "colorbar": {
             "outlinewidth": 0,
             "ticks": ""
            },
            "colorscale": [
             [
              0,
              "#0d0887"
             ],
             [
              0.1111111111111111,
              "#46039f"
             ],
             [
              0.2222222222222222,
              "#7201a8"
             ],
             [
              0.3333333333333333,
              "#9c179e"
             ],
             [
              0.4444444444444444,
              "#bd3786"
             ],
             [
              0.5555555555555556,
              "#d8576b"
             ],
             [
              0.6666666666666666,
              "#ed7953"
             ],
             [
              0.7777777777777778,
              "#fb9f3a"
             ],
             [
              0.8888888888888888,
              "#fdca26"
             ],
             [
              1,
              "#f0f921"
             ]
            ],
            "type": "heatmap"
           }
          ],
          "heatmapgl": [
           {
            "colorbar": {
             "outlinewidth": 0,
             "ticks": ""
            },
            "colorscale": [
             [
              0,
              "#0d0887"
             ],
             [
              0.1111111111111111,
              "#46039f"
             ],
             [
              0.2222222222222222,
              "#7201a8"
             ],
             [
              0.3333333333333333,
              "#9c179e"
             ],
             [
              0.4444444444444444,
              "#bd3786"
             ],
             [
              0.5555555555555556,
              "#d8576b"
             ],
             [
              0.6666666666666666,
              "#ed7953"
             ],
             [
              0.7777777777777778,
              "#fb9f3a"
             ],
             [
              0.8888888888888888,
              "#fdca26"
             ],
             [
              1,
              "#f0f921"
             ]
            ],
            "type": "heatmapgl"
           }
          ],
          "histogram": [
           {
            "marker": {
             "pattern": {
              "fillmode": "overlay",
              "size": 10,
              "solidity": 0.2
             }
            },
            "type": "histogram"
           }
          ],
          "histogram2d": [
           {
            "colorbar": {
             "outlinewidth": 0,
             "ticks": ""
            },
            "colorscale": [
             [
              0,
              "#0d0887"
             ],
             [
              0.1111111111111111,
              "#46039f"
             ],
             [
              0.2222222222222222,
              "#7201a8"
             ],
             [
              0.3333333333333333,
              "#9c179e"
             ],
             [
              0.4444444444444444,
              "#bd3786"
             ],
             [
              0.5555555555555556,
              "#d8576b"
             ],
             [
              0.6666666666666666,
              "#ed7953"
             ],
             [
              0.7777777777777778,
              "#fb9f3a"
             ],
             [
              0.8888888888888888,
              "#fdca26"
             ],
             [
              1,
              "#f0f921"
             ]
            ],
            "type": "histogram2d"
           }
          ],
          "histogram2dcontour": [
           {
            "colorbar": {
             "outlinewidth": 0,
             "ticks": ""
            },
            "colorscale": [
             [
              0,
              "#0d0887"
             ],
             [
              0.1111111111111111,
              "#46039f"
             ],
             [
              0.2222222222222222,
              "#7201a8"
             ],
             [
              0.3333333333333333,
              "#9c179e"
             ],
             [
              0.4444444444444444,
              "#bd3786"
             ],
             [
              0.5555555555555556,
              "#d8576b"
             ],
             [
              0.6666666666666666,
              "#ed7953"
             ],
             [
              0.7777777777777778,
              "#fb9f3a"
             ],
             [
              0.8888888888888888,
              "#fdca26"
             ],
             [
              1,
              "#f0f921"
             ]
            ],
            "type": "histogram2dcontour"
           }
          ],
          "mesh3d": [
           {
            "colorbar": {
             "outlinewidth": 0,
             "ticks": ""
            },
            "type": "mesh3d"
           }
          ],
          "parcoords": [
           {
            "line": {
             "colorbar": {
              "outlinewidth": 0,
              "ticks": ""
             }
            },
            "type": "parcoords"
           }
          ],
          "pie": [
           {
            "automargin": true,
            "type": "pie"
           }
          ],
          "scatter": [
           {
            "fillpattern": {
             "fillmode": "overlay",
             "size": 10,
             "solidity": 0.2
            },
            "type": "scatter"
           }
          ],
          "scatter3d": [
           {
            "line": {
             "colorbar": {
              "outlinewidth": 0,
              "ticks": ""
             }
            },
            "marker": {
             "colorbar": {
              "outlinewidth": 0,
              "ticks": ""
             }
            },
            "type": "scatter3d"
           }
          ],
          "scattercarpet": [
           {
            "marker": {
             "colorbar": {
              "outlinewidth": 0,
              "ticks": ""
             }
            },
            "type": "scattercarpet"
           }
          ],
          "scattergeo": [
           {
            "marker": {
             "colorbar": {
              "outlinewidth": 0,
              "ticks": ""
             }
            },
            "type": "scattergeo"
           }
          ],
          "scattergl": [
           {
            "marker": {
             "colorbar": {
              "outlinewidth": 0,
              "ticks": ""
             }
            },
            "type": "scattergl"
           }
          ],
          "scattermapbox": [
           {
            "marker": {
             "colorbar": {
              "outlinewidth": 0,
              "ticks": ""
             }
            },
            "type": "scattermapbox"
           }
          ],
          "scatterpolar": [
           {
            "marker": {
             "colorbar": {
              "outlinewidth": 0,
              "ticks": ""
             }
            },
            "type": "scatterpolar"
           }
          ],
          "scatterpolargl": [
           {
            "marker": {
             "colorbar": {
              "outlinewidth": 0,
              "ticks": ""
             }
            },
            "type": "scatterpolargl"
           }
          ],
          "scatterternary": [
           {
            "marker": {
             "colorbar": {
              "outlinewidth": 0,
              "ticks": ""
             }
            },
            "type": "scatterternary"
           }
          ],
          "surface": [
           {
            "colorbar": {
             "outlinewidth": 0,
             "ticks": ""
            },
            "colorscale": [
             [
              0,
              "#0d0887"
             ],
             [
              0.1111111111111111,
              "#46039f"
             ],
             [
              0.2222222222222222,
              "#7201a8"
             ],
             [
              0.3333333333333333,
              "#9c179e"
             ],
             [
              0.4444444444444444,
              "#bd3786"
             ],
             [
              0.5555555555555556,
              "#d8576b"
             ],
             [
              0.6666666666666666,
              "#ed7953"
             ],
             [
              0.7777777777777778,
              "#fb9f3a"
             ],
             [
              0.8888888888888888,
              "#fdca26"
             ],
             [
              1,
              "#f0f921"
             ]
            ],
            "type": "surface"
           }
          ],
          "table": [
           {
            "cells": {
             "fill": {
              "color": "#EBF0F8"
             },
             "line": {
              "color": "white"
             }
            },
            "header": {
             "fill": {
              "color": "#C8D4E3"
             },
             "line": {
              "color": "white"
             }
            },
            "type": "table"
           }
          ]
         },
         "layout": {
          "annotationdefaults": {
           "arrowcolor": "#2a3f5f",
           "arrowhead": 0,
           "arrowwidth": 1
          },
          "autotypenumbers": "strict",
          "coloraxis": {
           "colorbar": {
            "outlinewidth": 0,
            "ticks": ""
           }
          },
          "colorscale": {
           "diverging": [
            [
             0,
             "#8e0152"
            ],
            [
             0.1,
             "#c51b7d"
            ],
            [
             0.2,
             "#de77ae"
            ],
            [
             0.3,
             "#f1b6da"
            ],
            [
             0.4,
             "#fde0ef"
            ],
            [
             0.5,
             "#f7f7f7"
            ],
            [
             0.6,
             "#e6f5d0"
            ],
            [
             0.7,
             "#b8e186"
            ],
            [
             0.8,
             "#7fbc41"
            ],
            [
             0.9,
             "#4d9221"
            ],
            [
             1,
             "#276419"
            ]
           ],
           "sequential": [
            [
             0,
             "#0d0887"
            ],
            [
             0.1111111111111111,
             "#46039f"
            ],
            [
             0.2222222222222222,
             "#7201a8"
            ],
            [
             0.3333333333333333,
             "#9c179e"
            ],
            [
             0.4444444444444444,
             "#bd3786"
            ],
            [
             0.5555555555555556,
             "#d8576b"
            ],
            [
             0.6666666666666666,
             "#ed7953"
            ],
            [
             0.7777777777777778,
             "#fb9f3a"
            ],
            [
             0.8888888888888888,
             "#fdca26"
            ],
            [
             1,
             "#f0f921"
            ]
           ],
           "sequentialminus": [
            [
             0,
             "#0d0887"
            ],
            [
             0.1111111111111111,
             "#46039f"
            ],
            [
             0.2222222222222222,
             "#7201a8"
            ],
            [
             0.3333333333333333,
             "#9c179e"
            ],
            [
             0.4444444444444444,
             "#bd3786"
            ],
            [
             0.5555555555555556,
             "#d8576b"
            ],
            [
             0.6666666666666666,
             "#ed7953"
            ],
            [
             0.7777777777777778,
             "#fb9f3a"
            ],
            [
             0.8888888888888888,
             "#fdca26"
            ],
            [
             1,
             "#f0f921"
            ]
           ]
          },
          "colorway": [
           "#636efa",
           "#EF553B",
           "#00cc96",
           "#ab63fa",
           "#FFA15A",
           "#19d3f3",
           "#FF6692",
           "#B6E880",
           "#FF97FF",
           "#FECB52"
          ],
          "font": {
           "color": "#2a3f5f"
          },
          "geo": {
           "bgcolor": "white",
           "lakecolor": "white",
           "landcolor": "#E5ECF6",
           "showlakes": true,
           "showland": true,
           "subunitcolor": "white"
          },
          "hoverlabel": {
           "align": "left"
          },
          "hovermode": "closest",
          "mapbox": {
           "style": "light"
          },
          "paper_bgcolor": "white",
          "plot_bgcolor": "#E5ECF6",
          "polar": {
           "angularaxis": {
            "gridcolor": "white",
            "linecolor": "white",
            "ticks": ""
           },
           "bgcolor": "#E5ECF6",
           "radialaxis": {
            "gridcolor": "white",
            "linecolor": "white",
            "ticks": ""
           }
          },
          "scene": {
           "xaxis": {
            "backgroundcolor": "#E5ECF6",
            "gridcolor": "white",
            "gridwidth": 2,
            "linecolor": "white",
            "showbackground": true,
            "ticks": "",
            "zerolinecolor": "white"
           },
           "yaxis": {
            "backgroundcolor": "#E5ECF6",
            "gridcolor": "white",
            "gridwidth": 2,
            "linecolor": "white",
            "showbackground": true,
            "ticks": "",
            "zerolinecolor": "white"
           },
           "zaxis": {
            "backgroundcolor": "#E5ECF6",
            "gridcolor": "white",
            "gridwidth": 2,
            "linecolor": "white",
            "showbackground": true,
            "ticks": "",
            "zerolinecolor": "white"
           }
          },
          "shapedefaults": {
           "line": {
            "color": "#2a3f5f"
           }
          },
          "ternary": {
           "aaxis": {
            "gridcolor": "white",
            "linecolor": "white",
            "ticks": ""
           },
           "baxis": {
            "gridcolor": "white",
            "linecolor": "white",
            "ticks": ""
           },
           "bgcolor": "#E5ECF6",
           "caxis": {
            "gridcolor": "white",
            "linecolor": "white",
            "ticks": ""
           }
          },
          "title": {
           "x": 0.05
          },
          "xaxis": {
           "automargin": true,
           "gridcolor": "white",
           "linecolor": "white",
           "ticks": "",
           "title": {
            "standoff": 15
           },
           "zerolinecolor": "white",
           "zerolinewidth": 2
          },
          "yaxis": {
           "automargin": true,
           "gridcolor": "white",
           "linecolor": "white",
           "ticks": "",
           "title": {
            "standoff": 15
           },
           "zerolinecolor": "white",
           "zerolinewidth": 2
          }
         }
        },
        "title": {
         "text": "Distribution of Diamond Prices"
        },
        "xaxis": {
         "anchor": "y",
         "domain": [
          0,
          1
         ],
         "title": {
          "text": "Price"
         }
        },
        "yaxis": {
         "anchor": "x",
         "domain": [
          0,
          1
         ],
         "title": {
          "text": "count"
         }
        }
       }
      }
     },
     "metadata": {},
     "output_type": "display_data"
    },
    {
     "data": {
      "application/vnd.plotly.v1+json": {
       "config": {
        "plotlyServerURL": "https://plot.ly"
       },
       "data": [
        {
         "hovertemplate": "color=F<br>Weight (carat)=%{x}<br>Price=%{y}<extra></extra>",
         "legendgroup": "F",
         "marker": {
          "color": "#636efa",
          "symbol": "circle"
         },
         "mode": "markers",
         "name": "F",
         "orientation": "v",
         "showlegend": true,
         "type": "scatter",
         "x": [
          0.7,
          0.38,
          0.3,
          0.3,
          0.32,
          0.31,
          1.75,
          0.31,
          0.31,
          0.31,
          1.5,
          2,
          2,
          0.25,
          2.03,
          1.8,
          1.73,
          1.52,
          1.7,
          1.5,
          1.54,
          1.5,
          1.5,
          1.5,
          1.51,
          1.72,
          2.01,
          1.51,
          1.64,
          2,
          2.02,
          1.51,
          1.51,
          2,
          2.14,
          2.01,
          1.54,
          2.05,
          2.1,
          1.7,
          1.6,
          1.71,
          0.3,
          0.26,
          0.31,
          0.27,
          0.33,
          0.3,
          0.28,
          0.29,
          0.3,
          0.23,
          0.31,
          0.24,
          0.23,
          0.24
         ],
         "xaxis": "x",
         "y": [
          1947,
          585,
          605,
          621,
          421,
          625,
          8820,
          625,
          625,
          625,
          10134,
          11198,
          11413,
          633,
          12021,
          12308,
          13365,
          13530,
          13766,
          13853,
          14188,
          14199,
          14199,
          14281,
          14294,
          14892,
          15188,
          15440,
          15458,
          15851,
          16256,
          16370,
          16402,
          17172,
          17582,
          17798,
          17949,
          17957,
          18124,
          18598,
          18780,
          18791,
          654,
          657,
          663,
          682,
          450,
          475,
          487,
          496,
          500,
          505,
          516,
          540,
          402,
          552
         ],
         "yaxis": "y"
        },
        {
         "hovertemplate": "color=J<br>Weight (carat)=%{x}<br>Price=%{y}<extra></extra>",
         "legendgroup": "J",
         "marker": {
          "color": "#EF553B",
          "symbol": "circle"
         },
         "mode": "markers",
         "name": "J",
         "orientation": "v",
         "showlegend": true,
         "type": "scatter",
         "x": [
          0.3,
          0.39,
          0.34,
          0.39,
          0.41,
          0.4,
          2.3,
          2.01,
          2.18,
          2,
          2.1,
          2.02,
          2.01,
          2.01,
          2.06,
          2.14,
          2.01,
          2.29,
          2.23,
          2.42,
          2.04,
          2.1,
          2.29,
          2.44,
          0.32,
          0.3,
          0.3,
          0.3,
          0.3,
          0.31
         ],
         "xaxis": "x",
         "y": [
          351,
          568,
          574,
          586,
          613,
          631,
          12316,
          12845,
          12853,
          13162,
          13462,
          13499,
          13596,
          13744,
          13948,
          14065,
          14402,
          14500,
          16025,
          16198,
          17327,
          17606,
          18426,
          18430,
          442,
          368,
          506,
          506,
          394,
          396
         ],
         "yaxis": "y"
        },
        {
         "hovertemplate": "color=E<br>Weight (carat)=%{x}<br>Price=%{y}<extra></extra>",
         "legendgroup": "E",
         "marker": {
          "color": "#00cc96",
          "symbol": "circle"
         },
         "mode": "markers",
         "name": "E",
         "orientation": "v",
         "showlegend": true,
         "type": "scatter",
         "x": [
          0.34,
          0.26,
          0.27,
          0.25,
          0.32,
          0.27,
          0.33,
          0.31,
          0.26,
          0.24,
          0.27,
          0.35,
          0.29,
          0.27,
          0.36,
          1.83,
          0.3,
          2.14,
          1.41,
          1.2,
          2,
          2.05,
          1.51,
          1.58,
          0.3,
          0.27,
          0.26,
          0.27,
          0.24,
          0.24,
          0.23,
          0.32,
          0.26,
          0.21,
          0.3,
          0.23,
          0.32,
          0.31,
          0.31,
          0.31
         ],
         "xaxis": "x",
         "y": [
          556,
          564,
          407,
          575,
          576,
          577,
          579,
          587,
          599,
          419,
          606,
          614,
          617,
          622,
          631,
          12379,
          640,
          13065,
          14853,
          15185,
          16206,
          17237,
          17689,
          17894,
          658,
          682,
          453,
          470,
          471,
          485,
          485,
          486,
          384,
          394,
          526,
          530,
          532,
          544,
          544,
          547
         ],
         "yaxis": "y"
        },
        {
         "hovertemplate": "color=I<br>Weight (carat)=%{x}<br>Price=%{y}<extra></extra>",
         "legendgroup": "I",
         "marker": {
          "color": "#ab63fa",
          "symbol": "circle"
         },
         "mode": "markers",
         "name": "I",
         "orientation": "v",
         "showlegend": true,
         "type": "scatter",
         "x": [
          0.33,
          0.33,
          0.34,
          0.32,
          0.34,
          0.3,
          0.31,
          1.71,
          0.3,
          0.3,
          1.74,
          2.01,
          2.1,
          2.01,
          2.09,
          2.08,
          2.14,
          2.06,
          2.01,
          2.06,
          2.06,
          2.19,
          2,
          2.06,
          2.01,
          2.18,
          2.01,
          2.07,
          2.07,
          2.03,
          2.02,
          2.48,
          2.01,
          2.2,
          2.23,
          0.32,
          0.32,
          0.31,
          0.3,
          0.31,
          0.32,
          0.35
         ],
         "xaxis": "x",
         "y": [
          557,
          572,
          574,
          576,
          589,
          608,
          628,
          11250,
          422,
          422,
          12168,
          12964,
          13182,
          13691,
          13807,
          13956,
          14452,
          14505,
          14558,
          14803,
          14920,
          15169,
          15651,
          15716,
          15729,
          15850,
          16003,
          16189,
          16378,
          16693,
          16789,
          17448,
          17826,
          17905,
          18149,
          648,
          432,
          435,
          473,
          521,
          540,
          552
         ],
         "yaxis": "y"
        },
        {
         "hovertemplate": "color=H<br>Weight (carat)=%{x}<br>Price=%{y}<extra></extra>",
         "legendgroup": "H",
         "marker": {
          "color": "#FFA15A",
          "symbol": "circle"
         },
         "mode": "markers",
         "name": "H",
         "orientation": "v",
         "showlegend": true,
         "type": "scatter",
         "x": [
          0.32,
          0.36,
          0.31,
          0.33,
          0.33,
          0.33,
          0.31,
          0.35,
          2.2,
          2,
          2.01,
          3.65,
          1.88,
          2.01,
          1.51,
          2.02,
          2.18,
          1.98,
          1.73,
          1.59,
          2.3,
          1.71,
          2.04,
          2.53,
          2.01,
          2.01,
          2.02,
          2.02,
          2.66,
          2.03,
          2.06,
          2.14,
          2.29,
          2.03,
          2.01,
          2.3,
          2.08,
          0.32,
          0.36,
          0.24,
          0.31,
          0.31,
          0.3,
          0.33,
          0.26,
          0.31,
          0.3,
          0.3,
          0.31,
          0.24,
          0.32,
          0.3,
          0.33,
          0.25,
          0.3,
          0.34,
          0.3,
          0.3
         ],
         "xaxis": "x",
         "y": [
          561,
          568,
          573,
          579,
          579,
          610,
          628,
          630,
          11088,
          11202,
          11646,
          11668,
          12339,
          12423,
          12437,
          12680,
          12825,
          12923,
          12998,
          13839,
          14215,
          14292,
          14945,
          15148,
          15888,
          15908,
          15974,
          15987,
          16239,
          16442,
          16512,
          16723,
          17666,
          18139,
          18149,
          18304,
          18760,
          648,
          665,
          432,
          698,
          446,
          465,
          475,
          482,
          489,
          491,
          491,
          390,
          504,
          505,
          514,
          520,
          525,
          526,
          537,
          540,
          545
         ],
         "yaxis": "y"
        },
        {
         "hovertemplate": "color=D<br>Weight (carat)=%{x}<br>Price=%{y}<extra></extra>",
         "legendgroup": "D",
         "marker": {
          "color": "#19d3f3",
          "symbol": "circle"
         },
         "mode": "markers",
         "name": "D",
         "orientation": "v",
         "showlegend": true,
         "type": "scatter",
         "x": [
          0.31,
          0.27,
          0.32,
          0.31,
          0.31,
          0.33,
          0.33,
          0.35,
          1.51,
          1.02,
          1.51,
          1.51,
          0.26,
          0.3,
          0.2,
          0.24,
          0.24,
          0.35,
          0.33,
          0.3,
          0.36,
          0.27,
          0.3
         ],
         "xaxis": "x",
         "y": [
          571,
          413,
          589,
          593,
          593,
          608,
          631,
          644,
          15531,
          15575,
          15821,
          16688,
          724,
          447,
          367,
          478,
          485,
          487,
          492,
          515,
          537,
          544,
          552
         ],
         "yaxis": "y"
        },
        {
         "hovertemplate": "color=G<br>Weight (carat)=%{x}<br>Price=%{y}<extra></extra>",
         "legendgroup": "G",
         "marker": {
          "color": "#FF6692",
          "symbol": "circle"
         },
         "mode": "markers",
         "name": "G",
         "orientation": "v",
         "showlegend": true,
         "type": "scatter",
         "x": [
          0.31,
          0.33,
          0.3,
          0.29,
          0.3,
          1.51,
          0.3,
          1.99,
          2.1,
          2.1,
          2.03,
          1.37,
          1.58,
          1.5,
          1.51,
          1.51,
          1.54,
          1.51,
          1.56,
          2.14,
          1.52,
          1.7,
          1.58,
          1.7,
          2.02,
          1.54,
          1.51,
          2.06,
          2.05,
          1.75,
          2.01,
          2.02,
          2.01,
          2.02,
          2.18,
          2.04,
          2.2,
          1.7,
          0.32,
          0.31,
          0.33,
          0.3,
          0.26,
          0.28,
          0.33,
          0.31,
          0.31,
          0.31,
          0.3,
          0.3
         ],
         "xaxis": "x",
         "y": [
          408,
          579,
          605,
          607,
          624,
          9741,
          422,
          11486,
          11923,
          11946,
          12154,
          12455,
          12530,
          12787,
          13234,
          13293,
          13733,
          13811,
          14139,
          14359,
          14424,
          14445,
          14624,
          14860,
          15014,
          15059,
          15164,
          15949,
          16295,
          16783,
          17014,
          17265,
          17334,
          17692,
          17841,
          18153,
          18168,
          18279,
          673,
          462,
          463,
          382,
          491,
          492,
          492,
          500,
          391,
          511,
          526,
          526
         ],
         "yaxis": "y"
        }
       ],
       "layout": {
        "legend": {
         "title": {
          "text": "color"
         },
         "tracegroupgap": 0
        },
        "template": {
         "data": {
          "bar": [
           {
            "error_x": {
             "color": "#2a3f5f"
            },
            "error_y": {
             "color": "#2a3f5f"
            },
            "marker": {
             "line": {
              "color": "#E5ECF6",
              "width": 0.5
             },
             "pattern": {
              "fillmode": "overlay",
              "size": 10,
              "solidity": 0.2
             }
            },
            "type": "bar"
           }
          ],
          "barpolar": [
           {
            "marker": {
             "line": {
              "color": "#E5ECF6",
              "width": 0.5
             },
             "pattern": {
              "fillmode": "overlay",
              "size": 10,
              "solidity": 0.2
             }
            },
            "type": "barpolar"
           }
          ],
          "carpet": [
           {
            "aaxis": {
             "endlinecolor": "#2a3f5f",
             "gridcolor": "white",
             "linecolor": "white",
             "minorgridcolor": "white",
             "startlinecolor": "#2a3f5f"
            },
            "baxis": {
             "endlinecolor": "#2a3f5f",
             "gridcolor": "white",
             "linecolor": "white",
             "minorgridcolor": "white",
             "startlinecolor": "#2a3f5f"
            },
            "type": "carpet"
           }
          ],
          "choropleth": [
           {
            "colorbar": {
             "outlinewidth": 0,
             "ticks": ""
            },
            "type": "choropleth"
           }
          ],
          "contour": [
           {
            "colorbar": {
             "outlinewidth": 0,
             "ticks": ""
            },
            "colorscale": [
             [
              0,
              "#0d0887"
             ],
             [
              0.1111111111111111,
              "#46039f"
             ],
             [
              0.2222222222222222,
              "#7201a8"
             ],
             [
              0.3333333333333333,
              "#9c179e"
             ],
             [
              0.4444444444444444,
              "#bd3786"
             ],
             [
              0.5555555555555556,
              "#d8576b"
             ],
             [
              0.6666666666666666,
              "#ed7953"
             ],
             [
              0.7777777777777778,
              "#fb9f3a"
             ],
             [
              0.8888888888888888,
              "#fdca26"
             ],
             [
              1,
              "#f0f921"
             ]
            ],
            "type": "contour"
           }
          ],
          "contourcarpet": [
           {
            "colorbar": {
             "outlinewidth": 0,
             "ticks": ""
            },
            "type": "contourcarpet"
           }
          ],
          "heatmap": [
           {
            "colorbar": {
             "outlinewidth": 0,
             "ticks": ""
            },
            "colorscale": [
             [
              0,
              "#0d0887"
             ],
             [
              0.1111111111111111,
              "#46039f"
             ],
             [
              0.2222222222222222,
              "#7201a8"
             ],
             [
              0.3333333333333333,
              "#9c179e"
             ],
             [
              0.4444444444444444,
              "#bd3786"
             ],
             [
              0.5555555555555556,
              "#d8576b"
             ],
             [
              0.6666666666666666,
              "#ed7953"
             ],
             [
              0.7777777777777778,
              "#fb9f3a"
             ],
             [
              0.8888888888888888,
              "#fdca26"
             ],
             [
              1,
              "#f0f921"
             ]
            ],
            "type": "heatmap"
           }
          ],
          "heatmapgl": [
           {
            "colorbar": {
             "outlinewidth": 0,
             "ticks": ""
            },
            "colorscale": [
             [
              0,
              "#0d0887"
             ],
             [
              0.1111111111111111,
              "#46039f"
             ],
             [
              0.2222222222222222,
              "#7201a8"
             ],
             [
              0.3333333333333333,
              "#9c179e"
             ],
             [
              0.4444444444444444,
              "#bd3786"
             ],
             [
              0.5555555555555556,
              "#d8576b"
             ],
             [
              0.6666666666666666,
              "#ed7953"
             ],
             [
              0.7777777777777778,
              "#fb9f3a"
             ],
             [
              0.8888888888888888,
              "#fdca26"
             ],
             [
              1,
              "#f0f921"
             ]
            ],
            "type": "heatmapgl"
           }
          ],
          "histogram": [
           {
            "marker": {
             "pattern": {
              "fillmode": "overlay",
              "size": 10,
              "solidity": 0.2
             }
            },
            "type": "histogram"
           }
          ],
          "histogram2d": [
           {
            "colorbar": {
             "outlinewidth": 0,
             "ticks": ""
            },
            "colorscale": [
             [
              0,
              "#0d0887"
             ],
             [
              0.1111111111111111,
              "#46039f"
             ],
             [
              0.2222222222222222,
              "#7201a8"
             ],
             [
              0.3333333333333333,
              "#9c179e"
             ],
             [
              0.4444444444444444,
              "#bd3786"
             ],
             [
              0.5555555555555556,
              "#d8576b"
             ],
             [
              0.6666666666666666,
              "#ed7953"
             ],
             [
              0.7777777777777778,
              "#fb9f3a"
             ],
             [
              0.8888888888888888,
              "#fdca26"
             ],
             [
              1,
              "#f0f921"
             ]
            ],
            "type": "histogram2d"
           }
          ],
          "histogram2dcontour": [
           {
            "colorbar": {
             "outlinewidth": 0,
             "ticks": ""
            },
            "colorscale": [
             [
              0,
              "#0d0887"
             ],
             [
              0.1111111111111111,
              "#46039f"
             ],
             [
              0.2222222222222222,
              "#7201a8"
             ],
             [
              0.3333333333333333,
              "#9c179e"
             ],
             [
              0.4444444444444444,
              "#bd3786"
             ],
             [
              0.5555555555555556,
              "#d8576b"
             ],
             [
              0.6666666666666666,
              "#ed7953"
             ],
             [
              0.7777777777777778,
              "#fb9f3a"
             ],
             [
              0.8888888888888888,
              "#fdca26"
             ],
             [
              1,
              "#f0f921"
             ]
            ],
            "type": "histogram2dcontour"
           }
          ],
          "mesh3d": [
           {
            "colorbar": {
             "outlinewidth": 0,
             "ticks": ""
            },
            "type": "mesh3d"
           }
          ],
          "parcoords": [
           {
            "line": {
             "colorbar": {
              "outlinewidth": 0,
              "ticks": ""
             }
            },
            "type": "parcoords"
           }
          ],
          "pie": [
           {
            "automargin": true,
            "type": "pie"
           }
          ],
          "scatter": [
           {
            "fillpattern": {
             "fillmode": "overlay",
             "size": 10,
             "solidity": 0.2
            },
            "type": "scatter"
           }
          ],
          "scatter3d": [
           {
            "line": {
             "colorbar": {
              "outlinewidth": 0,
              "ticks": ""
             }
            },
            "marker": {
             "colorbar": {
              "outlinewidth": 0,
              "ticks": ""
             }
            },
            "type": "scatter3d"
           }
          ],
          "scattercarpet": [
           {
            "marker": {
             "colorbar": {
              "outlinewidth": 0,
              "ticks": ""
             }
            },
            "type": "scattercarpet"
           }
          ],
          "scattergeo": [
           {
            "marker": {
             "colorbar": {
              "outlinewidth": 0,
              "ticks": ""
             }
            },
            "type": "scattergeo"
           }
          ],
          "scattergl": [
           {
            "marker": {
             "colorbar": {
              "outlinewidth": 0,
              "ticks": ""
             }
            },
            "type": "scattergl"
           }
          ],
          "scattermapbox": [
           {
            "marker": {
             "colorbar": {
              "outlinewidth": 0,
              "ticks": ""
             }
            },
            "type": "scattermapbox"
           }
          ],
          "scatterpolar": [
           {
            "marker": {
             "colorbar": {
              "outlinewidth": 0,
              "ticks": ""
             }
            },
            "type": "scatterpolar"
           }
          ],
          "scatterpolargl": [
           {
            "marker": {
             "colorbar": {
              "outlinewidth": 0,
              "ticks": ""
             }
            },
            "type": "scatterpolargl"
           }
          ],
          "scatterternary": [
           {
            "marker": {
             "colorbar": {
              "outlinewidth": 0,
              "ticks": ""
             }
            },
            "type": "scatterternary"
           }
          ],
          "surface": [
           {
            "colorbar": {
             "outlinewidth": 0,
             "ticks": ""
            },
            "colorscale": [
             [
              0,
              "#0d0887"
             ],
             [
              0.1111111111111111,
              "#46039f"
             ],
             [
              0.2222222222222222,
              "#7201a8"
             ],
             [
              0.3333333333333333,
              "#9c179e"
             ],
             [
              0.4444444444444444,
              "#bd3786"
             ],
             [
              0.5555555555555556,
              "#d8576b"
             ],
             [
              0.6666666666666666,
              "#ed7953"
             ],
             [
              0.7777777777777778,
              "#fb9f3a"
             ],
             [
              0.8888888888888888,
              "#fdca26"
             ],
             [
              1,
              "#f0f921"
             ]
            ],
            "type": "surface"
           }
          ],
          "table": [
           {
            "cells": {
             "fill": {
              "color": "#EBF0F8"
             },
             "line": {
              "color": "white"
             }
            },
            "header": {
             "fill": {
              "color": "#C8D4E3"
             },
             "line": {
              "color": "white"
             }
            },
            "type": "table"
           }
          ]
         },
         "layout": {
          "annotationdefaults": {
           "arrowcolor": "#2a3f5f",
           "arrowhead": 0,
           "arrowwidth": 1
          },
          "autotypenumbers": "strict",
          "coloraxis": {
           "colorbar": {
            "outlinewidth": 0,
            "ticks": ""
           }
          },
          "colorscale": {
           "diverging": [
            [
             0,
             "#8e0152"
            ],
            [
             0.1,
             "#c51b7d"
            ],
            [
             0.2,
             "#de77ae"
            ],
            [
             0.3,
             "#f1b6da"
            ],
            [
             0.4,
             "#fde0ef"
            ],
            [
             0.5,
             "#f7f7f7"
            ],
            [
             0.6,
             "#e6f5d0"
            ],
            [
             0.7,
             "#b8e186"
            ],
            [
             0.8,
             "#7fbc41"
            ],
            [
             0.9,
             "#4d9221"
            ],
            [
             1,
             "#276419"
            ]
           ],
           "sequential": [
            [
             0,
             "#0d0887"
            ],
            [
             0.1111111111111111,
             "#46039f"
            ],
            [
             0.2222222222222222,
             "#7201a8"
            ],
            [
             0.3333333333333333,
             "#9c179e"
            ],
            [
             0.4444444444444444,
             "#bd3786"
            ],
            [
             0.5555555555555556,
             "#d8576b"
            ],
            [
             0.6666666666666666,
             "#ed7953"
            ],
            [
             0.7777777777777778,
             "#fb9f3a"
            ],
            [
             0.8888888888888888,
             "#fdca26"
            ],
            [
             1,
             "#f0f921"
            ]
           ],
           "sequentialminus": [
            [
             0,
             "#0d0887"
            ],
            [
             0.1111111111111111,
             "#46039f"
            ],
            [
             0.2222222222222222,
             "#7201a8"
            ],
            [
             0.3333333333333333,
             "#9c179e"
            ],
            [
             0.4444444444444444,
             "#bd3786"
            ],
            [
             0.5555555555555556,
             "#d8576b"
            ],
            [
             0.6666666666666666,
             "#ed7953"
            ],
            [
             0.7777777777777778,
             "#fb9f3a"
            ],
            [
             0.8888888888888888,
             "#fdca26"
            ],
            [
             1,
             "#f0f921"
            ]
           ]
          },
          "colorway": [
           "#636efa",
           "#EF553B",
           "#00cc96",
           "#ab63fa",
           "#FFA15A",
           "#19d3f3",
           "#FF6692",
           "#B6E880",
           "#FF97FF",
           "#FECB52"
          ],
          "font": {
           "color": "#2a3f5f"
          },
          "geo": {
           "bgcolor": "white",
           "lakecolor": "white",
           "landcolor": "#E5ECF6",
           "showlakes": true,
           "showland": true,
           "subunitcolor": "white"
          },
          "hoverlabel": {
           "align": "left"
          },
          "hovermode": "closest",
          "mapbox": {
           "style": "light"
          },
          "paper_bgcolor": "white",
          "plot_bgcolor": "#E5ECF6",
          "polar": {
           "angularaxis": {
            "gridcolor": "white",
            "linecolor": "white",
            "ticks": ""
           },
           "bgcolor": "#E5ECF6",
           "radialaxis": {
            "gridcolor": "white",
            "linecolor": "white",
            "ticks": ""
           }
          },
          "scene": {
           "xaxis": {
            "backgroundcolor": "#E5ECF6",
            "gridcolor": "white",
            "gridwidth": 2,
            "linecolor": "white",
            "showbackground": true,
            "ticks": "",
            "zerolinecolor": "white"
           },
           "yaxis": {
            "backgroundcolor": "#E5ECF6",
            "gridcolor": "white",
            "gridwidth": 2,
            "linecolor": "white",
            "showbackground": true,
            "ticks": "",
            "zerolinecolor": "white"
           },
           "zaxis": {
            "backgroundcolor": "#E5ECF6",
            "gridcolor": "white",
            "gridwidth": 2,
            "linecolor": "white",
            "showbackground": true,
            "ticks": "",
            "zerolinecolor": "white"
           }
          },
          "shapedefaults": {
           "line": {
            "color": "#2a3f5f"
           }
          },
          "ternary": {
           "aaxis": {
            "gridcolor": "white",
            "linecolor": "white",
            "ticks": ""
           },
           "baxis": {
            "gridcolor": "white",
            "linecolor": "white",
            "ticks": ""
           },
           "bgcolor": "#E5ECF6",
           "caxis": {
            "gridcolor": "white",
            "linecolor": "white",
            "ticks": ""
           }
          },
          "title": {
           "x": 0.05
          },
          "xaxis": {
           "automargin": true,
           "gridcolor": "white",
           "linecolor": "white",
           "ticks": "",
           "title": {
            "standoff": 15
           },
           "zerolinecolor": "white",
           "zerolinewidth": 2
          },
          "yaxis": {
           "automargin": true,
           "gridcolor": "white",
           "linecolor": "white",
           "ticks": "",
           "title": {
            "standoff": 15
           },
           "zerolinecolor": "white",
           "zerolinewidth": 2
          }
         }
        },
        "title": {
         "text": "Price vs Weight of Diamonds by Color"
        },
        "xaxis": {
         "anchor": "y",
         "domain": [
          0,
          1
         ],
         "title": {
          "text": "Weight (carat)"
         }
        },
        "yaxis": {
         "anchor": "x",
         "domain": [
          0,
          1
         ],
         "title": {
          "text": "Price"
         }
        }
       }
      }
     },
     "metadata": {},
     "output_type": "display_data"
    },
    {
     "data": {
      "application/vnd.plotly.v1+json": {
       "config": {
        "plotlyServerURL": "https://plot.ly"
       },
       "data": [
        {
         "hovertemplate": "clarity=SI2<br>Weight (carat)=%{x}<br>Price=%{y}<extra></extra>",
         "legendgroup": "SI2",
         "marker": {
          "color": "#636efa",
          "symbol": "circle"
         },
         "mode": "markers",
         "name": "SI2",
         "orientation": "v",
         "showlegend": true,
         "type": "scatter",
         "x": [
          0.7,
          0.32,
          0.31,
          0.38,
          0.31,
          0.31,
          0.32,
          1.75,
          0.33,
          2.2,
          2,
          2,
          0.3,
          2,
          1.99,
          2.01,
          2.1,
          2.1,
          2.03,
          2.03,
          1.8,
          1.83,
          2.01,
          2.02,
          2.18,
          2.01,
          2.14,
          2.09,
          2.08,
          2.3,
          2.14,
          2.14,
          2.29,
          2.06,
          2.06,
          2.04,
          2.02,
          2.53,
          2.19,
          2.01,
          2.18,
          2.01,
          2.06,
          2.02,
          2.07,
          2.42,
          2,
          2.66,
          2.02,
          2.05,
          2.03,
          2.06,
          2.14,
          2.01,
          2.05,
          2.02,
          2.48,
          2.14,
          2.29,
          2.01,
          2.18,
          2.05,
          2.1,
          2.2,
          2.3,
          0.3,
          0.33,
          0.33,
          0.3,
          0.35,
          0.33,
          0.29,
          0.31,
          0.31,
          0.21,
          0.33,
          0.36
         ],
         "xaxis": "x",
         "y": [
          1947,
          576,
          408,
          585,
          593,
          593,
          421,
          8820,
          631,
          11088,
          11198,
          11202,
          422,
          11413,
          11486,
          11646,
          11923,
          11946,
          12021,
          12154,
          12308,
          12379,
          12423,
          12680,
          12853,
          12964,
          13065,
          13807,
          13956,
          14215,
          14359,
          14452,
          14500,
          14505,
          14803,
          14945,
          15014,
          15148,
          15169,
          15188,
          15850,
          15888,
          15949,
          15974,
          16189,
          16198,
          16206,
          16239,
          16256,
          16295,
          16442,
          16512,
          16723,
          17014,
          17237,
          17265,
          17448,
          17582,
          17666,
          17798,
          17841,
          17957,
          18124,
          18168,
          18304,
          447,
          450,
          463,
          382,
          487,
          492,
          496,
          390,
          391,
          394,
          520,
          537
         ],
         "yaxis": "y"
        },
        {
         "hovertemplate": "clarity=SI1<br>Weight (carat)=%{x}<br>Price=%{y}<extra></extra>",
         "legendgroup": "SI1",
         "marker": {
          "color": "#EF553B",
          "symbol": "circle"
         },
         "mode": "markers",
         "name": "SI1",
         "orientation": "v",
         "showlegend": true,
         "type": "scatter",
         "x": [
          0.3,
          0.34,
          0.33,
          0.27,
          0.39,
          0.31,
          0.33,
          0.31,
          0.34,
          0.33,
          0.34,
          0.32,
          0.33,
          0.35,
          0.35,
          0.3,
          0.3,
          0.36,
          2.3,
          2.18,
          2.1,
          1.73,
          2.01,
          1.7,
          2.01,
          0.35,
          1.72,
          2.06,
          2.06,
          2,
          2.03,
          2,
          2.01,
          2.02,
          2.01,
          2.04,
          2.08,
          0.31,
          0.36,
          0.32,
          0.31,
          0.31,
          0.3,
          0.3,
          0.33,
          0.32,
          0.26,
          0.33,
          0.3,
          0.3,
          0.3,
          0.31,
          0.3,
          0.32,
          0.3,
          0.31,
          0.31,
          0.31,
          0.3
         ],
         "xaxis": "x",
         "y": [
          351,
          556,
          557,
          407,
          568,
          571,
          572,
          573,
          574,
          579,
          589,
          589,
          608,
          614,
          630,
          422,
          422,
          631,
          12316,
          12825,
          13182,
          13365,
          13691,
          13766,
          14558,
          644,
          14892,
          14920,
          15716,
          15851,
          16693,
          17172,
          17334,
          17692,
          18149,
          18153,
          18760,
          663,
          665,
          432,
          446,
          462,
          465,
          475,
          475,
          486,
          384,
          492,
          500,
          514,
          515,
          516,
          526,
          532,
          540,
          544,
          544,
          547,
          552
         ],
         "yaxis": "y"
        },
        {
         "hovertemplate": "clarity=VS1<br>Weight (carat)=%{x}<br>Price=%{y}<extra></extra>",
         "legendgroup": "VS1",
         "marker": {
          "color": "#00cc96",
          "symbol": "circle"
         },
         "mode": "markers",
         "name": "VS1",
         "orientation": "v",
         "showlegend": true,
         "type": "scatter",
         "x": [
          0.32,
          0.34,
          0.27,
          0.27,
          0.33,
          0.33,
          0.31,
          0.3,
          0.3,
          0.33,
          0.3,
          0.3,
          0.31,
          0.4,
          1.58,
          2.01,
          1.98,
          0.3,
          1.51,
          1.54,
          1.51,
          1.59,
          1.56,
          2.01,
          1.52,
          1.7,
          1.58,
          1.51,
          2.23,
          1.51,
          1.51,
          1.51,
          1.58,
          1.54,
          1.7,
          1.6,
          0.32,
          0.3,
          0.31,
          0.32,
          0.27,
          0.3,
          0.26,
          0.26,
          0.3,
          0.3,
          0.3,
          0.3,
          0.23,
          0.3,
          0.35
         ],
         "xaxis": "x",
         "y": [
          561,
          574,
          413,
          577,
          579,
          579,
          587,
          605,
          608,
          610,
          621,
          624,
          628,
          631,
          12530,
          12845,
          12923,
          640,
          13293,
          13733,
          13811,
          13839,
          14139,
          14402,
          14424,
          14445,
          14624,
          15440,
          16025,
          16370,
          16402,
          16688,
          17894,
          17949,
          18598,
          18780,
          648,
          654,
          698,
          442,
          470,
          473,
          482,
          491,
          506,
          506,
          394,
          526,
          402,
          545,
          552
         ],
         "yaxis": "y"
        },
        {
         "hovertemplate": "clarity=VVS2<br>Weight (carat)=%{x}<br>Price=%{y}<extra></extra>",
         "legendgroup": "VVS2",
         "marker": {
          "color": "#ab63fa",
          "symbol": "circle"
         },
         "mode": "markers",
         "name": "VVS2",
         "orientation": "v",
         "showlegend": true,
         "type": "scatter",
         "x": [
          0.26,
          0.26,
          0.27,
          0.29,
          0.27,
          0.25,
          1.41,
          1.54,
          1.51,
          1.51,
          0.24,
          0.27,
          0.26,
          0.24,
          0.24,
          0.24,
          0.32,
          0.24,
          0.24
         ],
         "xaxis": "x",
         "y": [
          564,
          599,
          606,
          617,
          622,
          633,
          14853,
          15059,
          15164,
          17689,
          432,
          682,
          724,
          471,
          485,
          485,
          540,
          540,
          552
         ],
         "yaxis": "y"
        },
        {
         "hovertemplate": "clarity=VS2<br>Weight (carat)=%{x}<br>Price=%{y}<extra></extra>",
         "legendgroup": "VS2",
         "marker": {
          "color": "#FFA15A",
          "symbol": "circle"
         },
         "mode": "markers",
         "name": "VS2",
         "orientation": "v",
         "showlegend": true,
         "type": "scatter",
         "x": [
          0.36,
          0.32,
          0.33,
          0.39,
          0.24,
          0.3,
          0.41,
          0.31,
          0.31,
          0.31,
          0.31,
          1.51,
          1.5,
          0.31,
          1.71,
          1.74,
          1.88,
          1.5,
          1.73,
          2,
          1.51,
          2.1,
          2.02,
          1.52,
          2.01,
          2.01,
          1.5,
          2.06,
          2.14,
          1.54,
          1.5,
          1.5,
          1.5,
          1.71,
          1.51,
          1.7,
          1.64,
          1.51,
          2,
          2.01,
          1.51,
          2.01,
          2.02,
          2.01,
          2.07,
          1.75,
          2.02,
          2.01,
          2.2,
          2.03,
          2.23,
          2.44,
          1.71,
          0.32,
          0.3,
          0.32,
          0.31,
          0.2,
          0.3,
          0.26,
          0.28,
          0.31,
          0.3,
          0.3,
          0.28,
          0.31,
          0.32,
          0.31,
          0.31,
          0.3,
          0.3,
          0.31,
          0.34
         ],
         "xaxis": "x",
         "y": [
          568,
          576,
          579,
          586,
          419,
          605,
          613,
          625,
          625,
          625,
          625,
          9741,
          10134,
          628,
          11250,
          12168,
          12339,
          12787,
          12998,
          13162,
          13234,
          13462,
          13499,
          13530,
          13596,
          13744,
          13853,
          13948,
          14065,
          14188,
          14199,
          14199,
          14281,
          14292,
          14294,
          14860,
          15458,
          15531,
          15651,
          15729,
          15821,
          15908,
          15987,
          16003,
          16378,
          16783,
          16789,
          17826,
          17905,
          18139,
          18149,
          18430,
          18791,
          648,
          658,
          673,
          435,
          367,
          368,
          453,
          487,
          489,
          491,
          491,
          492,
          500,
          505,
          511,
          521,
          526,
          526,
          396,
          537
         ],
         "yaxis": "y"
        },
        {
         "hovertemplate": "clarity=VVS1<br>Weight (carat)=%{x}<br>Price=%{y}<extra></extra>",
         "legendgroup": "VVS1",
         "marker": {
          "color": "#19d3f3",
          "symbol": "circle"
         },
         "mode": "markers",
         "name": "VVS1",
         "orientation": "v",
         "showlegend": true,
         "type": "scatter",
         "x": [
          0.25,
          0.29,
          1.37,
          1.2,
          2.1,
          1.7,
          0.26,
          0.27,
          0.24,
          0.23,
          0.23,
          0.25,
          0.23,
          0.27
         ],
         "xaxis": "x",
         "y": [
          575,
          607,
          12455,
          15185,
          17606,
          18279,
          657,
          682,
          478,
          485,
          505,
          525,
          530,
          544
         ],
         "yaxis": "y"
        },
        {
         "hovertemplate": "clarity=I1<br>Weight (carat)=%{x}<br>Price=%{y}<extra></extra>",
         "legendgroup": "I1",
         "marker": {
          "color": "#FF6692",
          "symbol": "circle"
         },
         "mode": "markers",
         "name": "I1",
         "orientation": "v",
         "showlegend": true,
         "type": "scatter",
         "x": [
          3.65
         ],
         "xaxis": "x",
         "y": [
          11668
         ],
         "yaxis": "y"
        },
        {
         "hovertemplate": "clarity=IF<br>Weight (carat)=%{x}<br>Price=%{y}<extra></extra>",
         "legendgroup": "IF",
         "marker": {
          "color": "#B6E880",
          "symbol": "circle"
         },
         "mode": "markers",
         "name": "IF",
         "orientation": "v",
         "showlegend": true,
         "type": "scatter",
         "x": [
          1.51,
          1.02,
          2.04,
          2.29,
          0.24
         ],
         "xaxis": "x",
         "y": [
          12437,
          15575,
          17327,
          18426,
          504
         ],
         "yaxis": "y"
        }
       ],
       "layout": {
        "legend": {
         "title": {
          "text": "clarity"
         },
         "tracegroupgap": 0
        },
        "template": {
         "data": {
          "bar": [
           {
            "error_x": {
             "color": "#2a3f5f"
            },
            "error_y": {
             "color": "#2a3f5f"
            },
            "marker": {
             "line": {
              "color": "#E5ECF6",
              "width": 0.5
             },
             "pattern": {
              "fillmode": "overlay",
              "size": 10,
              "solidity": 0.2
             }
            },
            "type": "bar"
           }
          ],
          "barpolar": [
           {
            "marker": {
             "line": {
              "color": "#E5ECF6",
              "width": 0.5
             },
             "pattern": {
              "fillmode": "overlay",
              "size": 10,
              "solidity": 0.2
             }
            },
            "type": "barpolar"
           }
          ],
          "carpet": [
           {
            "aaxis": {
             "endlinecolor": "#2a3f5f",
             "gridcolor": "white",
             "linecolor": "white",
             "minorgridcolor": "white",
             "startlinecolor": "#2a3f5f"
            },
            "baxis": {
             "endlinecolor": "#2a3f5f",
             "gridcolor": "white",
             "linecolor": "white",
             "minorgridcolor": "white",
             "startlinecolor": "#2a3f5f"
            },
            "type": "carpet"
           }
          ],
          "choropleth": [
           {
            "colorbar": {
             "outlinewidth": 0,
             "ticks": ""
            },
            "type": "choropleth"
           }
          ],
          "contour": [
           {
            "colorbar": {
             "outlinewidth": 0,
             "ticks": ""
            },
            "colorscale": [
             [
              0,
              "#0d0887"
             ],
             [
              0.1111111111111111,
              "#46039f"
             ],
             [
              0.2222222222222222,
              "#7201a8"
             ],
             [
              0.3333333333333333,
              "#9c179e"
             ],
             [
              0.4444444444444444,
              "#bd3786"
             ],
             [
              0.5555555555555556,
              "#d8576b"
             ],
             [
              0.6666666666666666,
              "#ed7953"
             ],
             [
              0.7777777777777778,
              "#fb9f3a"
             ],
             [
              0.8888888888888888,
              "#fdca26"
             ],
             [
              1,
              "#f0f921"
             ]
            ],
            "type": "contour"
           }
          ],
          "contourcarpet": [
           {
            "colorbar": {
             "outlinewidth": 0,
             "ticks": ""
            },
            "type": "contourcarpet"
           }
          ],
          "heatmap": [
           {
            "colorbar": {
             "outlinewidth": 0,
             "ticks": ""
            },
            "colorscale": [
             [
              0,
              "#0d0887"
             ],
             [
              0.1111111111111111,
              "#46039f"
             ],
             [
              0.2222222222222222,
              "#7201a8"
             ],
             [
              0.3333333333333333,
              "#9c179e"
             ],
             [
              0.4444444444444444,
              "#bd3786"
             ],
             [
              0.5555555555555556,
              "#d8576b"
             ],
             [
              0.6666666666666666,
              "#ed7953"
             ],
             [
              0.7777777777777778,
              "#fb9f3a"
             ],
             [
              0.8888888888888888,
              "#fdca26"
             ],
             [
              1,
              "#f0f921"
             ]
            ],
            "type": "heatmap"
           }
          ],
          "heatmapgl": [
           {
            "colorbar": {
             "outlinewidth": 0,
             "ticks": ""
            },
            "colorscale": [
             [
              0,
              "#0d0887"
             ],
             [
              0.1111111111111111,
              "#46039f"
             ],
             [
              0.2222222222222222,
              "#7201a8"
             ],
             [
              0.3333333333333333,
              "#9c179e"
             ],
             [
              0.4444444444444444,
              "#bd3786"
             ],
             [
              0.5555555555555556,
              "#d8576b"
             ],
             [
              0.6666666666666666,
              "#ed7953"
             ],
             [
              0.7777777777777778,
              "#fb9f3a"
             ],
             [
              0.8888888888888888,
              "#fdca26"
             ],
             [
              1,
              "#f0f921"
             ]
            ],
            "type": "heatmapgl"
           }
          ],
          "histogram": [
           {
            "marker": {
             "pattern": {
              "fillmode": "overlay",
              "size": 10,
              "solidity": 0.2
             }
            },
            "type": "histogram"
           }
          ],
          "histogram2d": [
           {
            "colorbar": {
             "outlinewidth": 0,
             "ticks": ""
            },
            "colorscale": [
             [
              0,
              "#0d0887"
             ],
             [
              0.1111111111111111,
              "#46039f"
             ],
             [
              0.2222222222222222,
              "#7201a8"
             ],
             [
              0.3333333333333333,
              "#9c179e"
             ],
             [
              0.4444444444444444,
              "#bd3786"
             ],
             [
              0.5555555555555556,
              "#d8576b"
             ],
             [
              0.6666666666666666,
              "#ed7953"
             ],
             [
              0.7777777777777778,
              "#fb9f3a"
             ],
             [
              0.8888888888888888,
              "#fdca26"
             ],
             [
              1,
              "#f0f921"
             ]
            ],
            "type": "histogram2d"
           }
          ],
          "histogram2dcontour": [
           {
            "colorbar": {
             "outlinewidth": 0,
             "ticks": ""
            },
            "colorscale": [
             [
              0,
              "#0d0887"
             ],
             [
              0.1111111111111111,
              "#46039f"
             ],
             [
              0.2222222222222222,
              "#7201a8"
             ],
             [
              0.3333333333333333,
              "#9c179e"
             ],
             [
              0.4444444444444444,
              "#bd3786"
             ],
             [
              0.5555555555555556,
              "#d8576b"
             ],
             [
              0.6666666666666666,
              "#ed7953"
             ],
             [
              0.7777777777777778,
              "#fb9f3a"
             ],
             [
              0.8888888888888888,
              "#fdca26"
             ],
             [
              1,
              "#f0f921"
             ]
            ],
            "type": "histogram2dcontour"
           }
          ],
          "mesh3d": [
           {
            "colorbar": {
             "outlinewidth": 0,
             "ticks": ""
            },
            "type": "mesh3d"
           }
          ],
          "parcoords": [
           {
            "line": {
             "colorbar": {
              "outlinewidth": 0,
              "ticks": ""
             }
            },
            "type": "parcoords"
           }
          ],
          "pie": [
           {
            "automargin": true,
            "type": "pie"
           }
          ],
          "scatter": [
           {
            "fillpattern": {
             "fillmode": "overlay",
             "size": 10,
             "solidity": 0.2
            },
            "type": "scatter"
           }
          ],
          "scatter3d": [
           {
            "line": {
             "colorbar": {
              "outlinewidth": 0,
              "ticks": ""
             }
            },
            "marker": {
             "colorbar": {
              "outlinewidth": 0,
              "ticks": ""
             }
            },
            "type": "scatter3d"
           }
          ],
          "scattercarpet": [
           {
            "marker": {
             "colorbar": {
              "outlinewidth": 0,
              "ticks": ""
             }
            },
            "type": "scattercarpet"
           }
          ],
          "scattergeo": [
           {
            "marker": {
             "colorbar": {
              "outlinewidth": 0,
              "ticks": ""
             }
            },
            "type": "scattergeo"
           }
          ],
          "scattergl": [
           {
            "marker": {
             "colorbar": {
              "outlinewidth": 0,
              "ticks": ""
             }
            },
            "type": "scattergl"
           }
          ],
          "scattermapbox": [
           {
            "marker": {
             "colorbar": {
              "outlinewidth": 0,
              "ticks": ""
             }
            },
            "type": "scattermapbox"
           }
          ],
          "scatterpolar": [
           {
            "marker": {
             "colorbar": {
              "outlinewidth": 0,
              "ticks": ""
             }
            },
            "type": "scatterpolar"
           }
          ],
          "scatterpolargl": [
           {
            "marker": {
             "colorbar": {
              "outlinewidth": 0,
              "ticks": ""
             }
            },
            "type": "scatterpolargl"
           }
          ],
          "scatterternary": [
           {
            "marker": {
             "colorbar": {
              "outlinewidth": 0,
              "ticks": ""
             }
            },
            "type": "scatterternary"
           }
          ],
          "surface": [
           {
            "colorbar": {
             "outlinewidth": 0,
             "ticks": ""
            },
            "colorscale": [
             [
              0,
              "#0d0887"
             ],
             [
              0.1111111111111111,
              "#46039f"
             ],
             [
              0.2222222222222222,
              "#7201a8"
             ],
             [
              0.3333333333333333,
              "#9c179e"
             ],
             [
              0.4444444444444444,
              "#bd3786"
             ],
             [
              0.5555555555555556,
              "#d8576b"
             ],
             [
              0.6666666666666666,
              "#ed7953"
             ],
             [
              0.7777777777777778,
              "#fb9f3a"
             ],
             [
              0.8888888888888888,
              "#fdca26"
             ],
             [
              1,
              "#f0f921"
             ]
            ],
            "type": "surface"
           }
          ],
          "table": [
           {
            "cells": {
             "fill": {
              "color": "#EBF0F8"
             },
             "line": {
              "color": "white"
             }
            },
            "header": {
             "fill": {
              "color": "#C8D4E3"
             },
             "line": {
              "color": "white"
             }
            },
            "type": "table"
           }
          ]
         },
         "layout": {
          "annotationdefaults": {
           "arrowcolor": "#2a3f5f",
           "arrowhead": 0,
           "arrowwidth": 1
          },
          "autotypenumbers": "strict",
          "coloraxis": {
           "colorbar": {
            "outlinewidth": 0,
            "ticks": ""
           }
          },
          "colorscale": {
           "diverging": [
            [
             0,
             "#8e0152"
            ],
            [
             0.1,
             "#c51b7d"
            ],
            [
             0.2,
             "#de77ae"
            ],
            [
             0.3,
             "#f1b6da"
            ],
            [
             0.4,
             "#fde0ef"
            ],
            [
             0.5,
             "#f7f7f7"
            ],
            [
             0.6,
             "#e6f5d0"
            ],
            [
             0.7,
             "#b8e186"
            ],
            [
             0.8,
             "#7fbc41"
            ],
            [
             0.9,
             "#4d9221"
            ],
            [
             1,
             "#276419"
            ]
           ],
           "sequential": [
            [
             0,
             "#0d0887"
            ],
            [
             0.1111111111111111,
             "#46039f"
            ],
            [
             0.2222222222222222,
             "#7201a8"
            ],
            [
             0.3333333333333333,
             "#9c179e"
            ],
            [
             0.4444444444444444,
             "#bd3786"
            ],
            [
             0.5555555555555556,
             "#d8576b"
            ],
            [
             0.6666666666666666,
             "#ed7953"
            ],
            [
             0.7777777777777778,
             "#fb9f3a"
            ],
            [
             0.8888888888888888,
             "#fdca26"
            ],
            [
             1,
             "#f0f921"
            ]
           ],
           "sequentialminus": [
            [
             0,
             "#0d0887"
            ],
            [
             0.1111111111111111,
             "#46039f"
            ],
            [
             0.2222222222222222,
             "#7201a8"
            ],
            [
             0.3333333333333333,
             "#9c179e"
            ],
            [
             0.4444444444444444,
             "#bd3786"
            ],
            [
             0.5555555555555556,
             "#d8576b"
            ],
            [
             0.6666666666666666,
             "#ed7953"
            ],
            [
             0.7777777777777778,
             "#fb9f3a"
            ],
            [
             0.8888888888888888,
             "#fdca26"
            ],
            [
             1,
             "#f0f921"
            ]
           ]
          },
          "colorway": [
           "#636efa",
           "#EF553B",
           "#00cc96",
           "#ab63fa",
           "#FFA15A",
           "#19d3f3",
           "#FF6692",
           "#B6E880",
           "#FF97FF",
           "#FECB52"
          ],
          "font": {
           "color": "#2a3f5f"
          },
          "geo": {
           "bgcolor": "white",
           "lakecolor": "white",
           "landcolor": "#E5ECF6",
           "showlakes": true,
           "showland": true,
           "subunitcolor": "white"
          },
          "hoverlabel": {
           "align": "left"
          },
          "hovermode": "closest",
          "mapbox": {
           "style": "light"
          },
          "paper_bgcolor": "white",
          "plot_bgcolor": "#E5ECF6",
          "polar": {
           "angularaxis": {
            "gridcolor": "white",
            "linecolor": "white",
            "ticks": ""
           },
           "bgcolor": "#E5ECF6",
           "radialaxis": {
            "gridcolor": "white",
            "linecolor": "white",
            "ticks": ""
           }
          },
          "scene": {
           "xaxis": {
            "backgroundcolor": "#E5ECF6",
            "gridcolor": "white",
            "gridwidth": 2,
            "linecolor": "white",
            "showbackground": true,
            "ticks": "",
            "zerolinecolor": "white"
           },
           "yaxis": {
            "backgroundcolor": "#E5ECF6",
            "gridcolor": "white",
            "gridwidth": 2,
            "linecolor": "white",
            "showbackground": true,
            "ticks": "",
            "zerolinecolor": "white"
           },
           "zaxis": {
            "backgroundcolor": "#E5ECF6",
            "gridcolor": "white",
            "gridwidth": 2,
            "linecolor": "white",
            "showbackground": true,
            "ticks": "",
            "zerolinecolor": "white"
           }
          },
          "shapedefaults": {
           "line": {
            "color": "#2a3f5f"
           }
          },
          "ternary": {
           "aaxis": {
            "gridcolor": "white",
            "linecolor": "white",
            "ticks": ""
           },
           "baxis": {
            "gridcolor": "white",
            "linecolor": "white",
            "ticks": ""
           },
           "bgcolor": "#E5ECF6",
           "caxis": {
            "gridcolor": "white",
            "linecolor": "white",
            "ticks": ""
           }
          },
          "title": {
           "x": 0.05
          },
          "xaxis": {
           "automargin": true,
           "gridcolor": "white",
           "linecolor": "white",
           "ticks": "",
           "title": {
            "standoff": 15
           },
           "zerolinecolor": "white",
           "zerolinewidth": 2
          },
          "yaxis": {
           "automargin": true,
           "gridcolor": "white",
           "linecolor": "white",
           "ticks": "",
           "title": {
            "standoff": 15
           },
           "zerolinecolor": "white",
           "zerolinewidth": 2
          }
         }
        },
        "title": {
         "text": "Price vs Weight of Diamonds by Clarity"
        },
        "xaxis": {
         "anchor": "y",
         "domain": [
          0,
          1
         ],
         "title": {
          "text": "Weight (carat)"
         }
        },
        "yaxis": {
         "anchor": "x",
         "domain": [
          0,
          1
         ],
         "title": {
          "text": "Price"
         }
        }
       }
      }
     },
     "metadata": {},
     "output_type": "display_data"
    },
    {
     "data": {
      "application/vnd.plotly.v1+json": {
       "config": {
        "plotlyServerURL": "https://plot.ly"
       },
       "data": [
        {
         "hovertemplate": "cut=Fair<br>Weight (carat)=%{x}<br>Price=%{y}<extra></extra>",
         "legendgroup": "Fair",
         "marker": {
          "color": "#636efa",
          "symbol": "circle"
         },
         "mode": "markers",
         "name": "Fair",
         "orientation": "v",
         "showlegend": true,
         "type": "scatter",
         "x": [
          0.7,
          3.65,
          2.1,
          2.1,
          1.98,
          1.5,
          2.01,
          1.7
         ],
         "xaxis": "x",
         "y": [
          1947,
          11668,
          11923,
          11946,
          12923,
          13853,
          14402,
          14860
         ],
         "yaxis": "y"
        },
        {
         "hovertemplate": "cut=Very Good<br>Weight (carat)=%{x}<br>Price=%{y}<extra></extra>",
         "legendgroup": "Very Good",
         "marker": {
          "color": "#EF553B",
          "symbol": "circle"
         },
         "mode": "markers",
         "name": "Very Good",
         "orientation": "v",
         "showlegend": true,
         "type": "scatter",
         "x": [
          0.3,
          0.26,
          0.27,
          0.31,
          0.31,
          0.25,
          0.27,
          0.33,
          0.38,
          0.31,
          0.32,
          0.24,
          0.27,
          0.29,
          0.3,
          0.33,
          0.27,
          0.31,
          2.2,
          0.25,
          1.88,
          1.83,
          2.01,
          2.18,
          1.73,
          0.3,
          2.02,
          2.01,
          2.01,
          1.51,
          2.06,
          2.14,
          2.01,
          1.51,
          2,
          2.07,
          1.51,
          2.03,
          2.03,
          2.48,
          2.14,
          1.51,
          2.01,
          2.44,
          0.3,
          0.26,
          0.24,
          0.27,
          0.27,
          0.31,
          0.26,
          0.24,
          0.33,
          0.24,
          0.24,
          0.24,
          0.23,
          0.32,
          0.26,
          0.28,
          0.35,
          0.28,
          0.3,
          0.3,
          0.23,
          0.34,
          0.27,
          0.23,
          0.24
         ],
         "xaxis": "x",
         "y": [
          351,
          564,
          407,
          571,
          573,
          575,
          413,
          579,
          585,
          587,
          589,
          419,
          606,
          607,
          608,
          608,
          622,
          628,
          11088,
          633,
          12339,
          12379,
          12845,
          12853,
          12998,
          640,
          13499,
          13596,
          13691,
          13811,
          13948,
          14065,
          15188,
          15440,
          15851,
          16378,
          16402,
          16442,
          16693,
          17448,
          17582,
          17689,
          18149,
          18430,
          654,
          657,
          432,
          682,
          682,
          446,
          453,
          471,
          475,
          478,
          485,
          485,
          485,
          486,
          384,
          487,
          487,
          492,
          526,
          526,
          530,
          537,
          544,
          402,
          552
         ],
         "yaxis": "y"
        },
        {
         "hovertemplate": "cut=Ideal<br>Weight (carat)=%{x}<br>Price=%{y}<extra></extra>",
         "legendgroup": "Ideal",
         "marker": {
          "color": "#00cc96",
          "symbol": "circle"
         },
         "mode": "markers",
         "name": "Ideal",
         "orientation": "v",
         "showlegend": true,
         "type": "scatter",
         "x": [
          0.34,
          0.39,
          0.33,
          0.32,
          0.27,
          0.33,
          0.33,
          0.39,
          0.34,
          0.26,
          0.3,
          0.3,
          0.33,
          0.41,
          0.3,
          0.3,
          0.31,
          0.31,
          0.31,
          0.31,
          0.35,
          0.33,
          0.3,
          0.3,
          0.3,
          2.03,
          2.3,
          1.51,
          1.37,
          2.02,
          2.14,
          2.1,
          1.51,
          2.1,
          2.09,
          1.59,
          1.5,
          2.3,
          1.5,
          1.71,
          2.14,
          2.14,
          2.29,
          2.06,
          2.01,
          1.58,
          1.54,
          1.51,
          1.2,
          1.64,
          1.02,
          1.51,
          2.18,
          2.02,
          2.07,
          2.02,
          1.51,
          1.51,
          1.75,
          2.02,
          2.04,
          2.01,
          1.58,
          1.54,
          2.05,
          2.1,
          2.04,
          2.2,
          1.7,
          2.3,
          2.08,
          1.6,
          0.32,
          0.3,
          0.31,
          0.32,
          0.32,
          0.3,
          0.33,
          0.33,
          0.3,
          0.27,
          0.3,
          0.26,
          0.3,
          0.31,
          0.3,
          0.3,
          0.29,
          0.31,
          0.31,
          0.24,
          0.23,
          0.31,
          0.3,
          0.31,
          0.25,
          0.3,
          0.3,
          0.31,
          0.32,
          0.36,
          0.32,
          0.24,
          0.31,
          0.3,
          0.31,
          0.35
         ],
         "xaxis": "x",
         "y": [
          556,
          568,
          572,
          576,
          577,
          579,
          579,
          586,
          589,
          599,
          605,
          605,
          610,
          613,
          621,
          624,
          625,
          625,
          625,
          628,
          630,
          631,
          422,
          422,
          422,
          12154,
          12316,
          12437,
          12455,
          12680,
          13065,
          13182,
          13234,
          13462,
          13807,
          13839,
          14199,
          14215,
          14281,
          14292,
          14359,
          14452,
          14500,
          14505,
          14558,
          14624,
          15059,
          15164,
          15185,
          15458,
          15575,
          15821,
          15850,
          15974,
          16189,
          16256,
          16370,
          16688,
          16783,
          17265,
          17327,
          17798,
          17894,
          17949,
          17957,
          18124,
          18153,
          18168,
          18279,
          18304,
          18760,
          18780,
          648,
          658,
          663,
          673,
          442,
          447,
          450,
          463,
          465,
          470,
          475,
          482,
          382,
          489,
          491,
          491,
          496,
          500,
          391,
          504,
          505,
          511,
          514,
          516,
          525,
          526,
          526,
          396,
          532,
          537,
          540,
          540,
          544,
          545,
          547,
          552
         ],
         "yaxis": "y"
        },
        {
         "hovertemplate": "cut=Premium<br>Weight (carat)=%{x}<br>Price=%{y}<extra></extra>",
         "legendgroup": "Premium",
         "marker": {
          "color": "#ab63fa",
          "symbol": "circle"
         },
         "mode": "markers",
         "name": "Premium",
         "orientation": "v",
         "showlegend": true,
         "type": "scatter",
         "x": [
          0.33,
          0.32,
          0.34,
          0.34,
          0.32,
          0.33,
          0.31,
          0.31,
          0.35,
          0.31,
          1.75,
          2,
          2,
          0.36,
          2,
          1.99,
          2.01,
          2.03,
          1.74,
          2.01,
          1.58,
          1.5,
          2,
          1.51,
          1.73,
          1.52,
          1.54,
          2.01,
          1.7,
          1.56,
          1.54,
          1.5,
          1.51,
          1.52,
          0.35,
          2.06,
          1.72,
          2.04,
          2.02,
          2.53,
          2.19,
          1.51,
          2,
          2.06,
          2.01,
          2.06,
          2.02,
          2.23,
          2.42,
          2.14,
          2.01,
          2,
          2.05,
          2.01,
          2.1,
          2.29,
          2.02,
          2.01,
          2.18,
          2.2,
          2.03,
          2.23,
          2.29,
          1.7,
          1.71,
          0.32,
          0.31,
          0.31,
          0.2,
          0.31,
          0.3,
          0.26,
          0.33,
          0.31,
          0.32,
          0.3,
          0.3,
          0.21,
          0.3,
          0.33,
          0.31,
          0.3,
          0.31,
          0.3
         ],
         "xaxis": "x",
         "y": [
          557,
          561,
          574,
          574,
          576,
          579,
          593,
          593,
          614,
          625,
          8820,
          11198,
          11202,
          631,
          11413,
          11486,
          11646,
          12021,
          12168,
          12423,
          12530,
          12787,
          13162,
          13293,
          13365,
          13530,
          13733,
          13744,
          13766,
          14139,
          14188,
          14199,
          14294,
          14424,
          644,
          14803,
          14892,
          14945,
          15014,
          15148,
          15169,
          15531,
          15651,
          15716,
          15908,
          15949,
          15987,
          16025,
          16198,
          16723,
          17014,
          17172,
          17237,
          17334,
          17606,
          17666,
          17692,
          17826,
          17841,
          17905,
          18139,
          18149,
          18426,
          18598,
          18791,
          648,
          435,
          698,
          367,
          462,
          473,
          491,
          492,
          390,
          505,
          506,
          506,
          394,
          394,
          520,
          521,
          540,
          544,
          552
         ],
         "yaxis": "y"
        },
        {
         "hovertemplate": "cut=Good<br>Weight (carat)=%{x}<br>Price=%{y}<extra></extra>",
         "legendgroup": "Good",
         "marker": {
          "color": "#FFA15A",
          "symbol": "circle"
         },
         "mode": "markers",
         "name": "Good",
         "orientation": "v",
         "showlegend": true,
         "type": "scatter",
         "x": [
          0.36,
          0.31,
          0.29,
          0.32,
          1.51,
          1.5,
          1.71,
          0.4,
          1.8,
          2.18,
          2.01,
          2.08,
          1.7,
          1.41,
          2.06,
          2.01,
          2.01,
          2.01,
          2,
          2.66,
          2.05,
          2.06,
          2.02,
          0.36,
          0.32,
          0.26,
          0.3,
          0.33,
          0.3,
          0.3
         ],
         "xaxis": "x",
         "y": [
          568,
          408,
          617,
          421,
          9741,
          10134,
          11250,
          631,
          12308,
          12825,
          12964,
          13956,
          14445,
          14853,
          14920,
          15729,
          15888,
          16003,
          16206,
          16239,
          16295,
          16512,
          16789,
          665,
          432,
          724,
          368,
          492,
          500,
          515
         ],
         "yaxis": "y"
        }
       ],
       "layout": {
        "legend": {
         "title": {
          "text": "cut"
         },
         "tracegroupgap": 0
        },
        "template": {
         "data": {
          "bar": [
           {
            "error_x": {
             "color": "#2a3f5f"
            },
            "error_y": {
             "color": "#2a3f5f"
            },
            "marker": {
             "line": {
              "color": "#E5ECF6",
              "width": 0.5
             },
             "pattern": {
              "fillmode": "overlay",
              "size": 10,
              "solidity": 0.2
             }
            },
            "type": "bar"
           }
          ],
          "barpolar": [
           {
            "marker": {
             "line": {
              "color": "#E5ECF6",
              "width": 0.5
             },
             "pattern": {
              "fillmode": "overlay",
              "size": 10,
              "solidity": 0.2
             }
            },
            "type": "barpolar"
           }
          ],
          "carpet": [
           {
            "aaxis": {
             "endlinecolor": "#2a3f5f",
             "gridcolor": "white",
             "linecolor": "white",
             "minorgridcolor": "white",
             "startlinecolor": "#2a3f5f"
            },
            "baxis": {
             "endlinecolor": "#2a3f5f",
             "gridcolor": "white",
             "linecolor": "white",
             "minorgridcolor": "white",
             "startlinecolor": "#2a3f5f"
            },
            "type": "carpet"
           }
          ],
          "choropleth": [
           {
            "colorbar": {
             "outlinewidth": 0,
             "ticks": ""
            },
            "type": "choropleth"
           }
          ],
          "contour": [
           {
            "colorbar": {
             "outlinewidth": 0,
             "ticks": ""
            },
            "colorscale": [
             [
              0,
              "#0d0887"
             ],
             [
              0.1111111111111111,
              "#46039f"
             ],
             [
              0.2222222222222222,
              "#7201a8"
             ],
             [
              0.3333333333333333,
              "#9c179e"
             ],
             [
              0.4444444444444444,
              "#bd3786"
             ],
             [
              0.5555555555555556,
              "#d8576b"
             ],
             [
              0.6666666666666666,
              "#ed7953"
             ],
             [
              0.7777777777777778,
              "#fb9f3a"
             ],
             [
              0.8888888888888888,
              "#fdca26"
             ],
             [
              1,
              "#f0f921"
             ]
            ],
            "type": "contour"
           }
          ],
          "contourcarpet": [
           {
            "colorbar": {
             "outlinewidth": 0,
             "ticks": ""
            },
            "type": "contourcarpet"
           }
          ],
          "heatmap": [
           {
            "colorbar": {
             "outlinewidth": 0,
             "ticks": ""
            },
            "colorscale": [
             [
              0,
              "#0d0887"
             ],
             [
              0.1111111111111111,
              "#46039f"
             ],
             [
              0.2222222222222222,
              "#7201a8"
             ],
             [
              0.3333333333333333,
              "#9c179e"
             ],
             [
              0.4444444444444444,
              "#bd3786"
             ],
             [
              0.5555555555555556,
              "#d8576b"
             ],
             [
              0.6666666666666666,
              "#ed7953"
             ],
             [
              0.7777777777777778,
              "#fb9f3a"
             ],
             [
              0.8888888888888888,
              "#fdca26"
             ],
             [
              1,
              "#f0f921"
             ]
            ],
            "type": "heatmap"
           }
          ],
          "heatmapgl": [
           {
            "colorbar": {
             "outlinewidth": 0,
             "ticks": ""
            },
            "colorscale": [
             [
              0,
              "#0d0887"
             ],
             [
              0.1111111111111111,
              "#46039f"
             ],
             [
              0.2222222222222222,
              "#7201a8"
             ],
             [
              0.3333333333333333,
              "#9c179e"
             ],
             [
              0.4444444444444444,
              "#bd3786"
             ],
             [
              0.5555555555555556,
              "#d8576b"
             ],
             [
              0.6666666666666666,
              "#ed7953"
             ],
             [
              0.7777777777777778,
              "#fb9f3a"
             ],
             [
              0.8888888888888888,
              "#fdca26"
             ],
             [
              1,
              "#f0f921"
             ]
            ],
            "type": "heatmapgl"
           }
          ],
          "histogram": [
           {
            "marker": {
             "pattern": {
              "fillmode": "overlay",
              "size": 10,
              "solidity": 0.2
             }
            },
            "type": "histogram"
           }
          ],
          "histogram2d": [
           {
            "colorbar": {
             "outlinewidth": 0,
             "ticks": ""
            },
            "colorscale": [
             [
              0,
              "#0d0887"
             ],
             [
              0.1111111111111111,
              "#46039f"
             ],
             [
              0.2222222222222222,
              "#7201a8"
             ],
             [
              0.3333333333333333,
              "#9c179e"
             ],
             [
              0.4444444444444444,
              "#bd3786"
             ],
             [
              0.5555555555555556,
              "#d8576b"
             ],
             [
              0.6666666666666666,
              "#ed7953"
             ],
             [
              0.7777777777777778,
              "#fb9f3a"
             ],
             [
              0.8888888888888888,
              "#fdca26"
             ],
             [
              1,
              "#f0f921"
             ]
            ],
            "type": "histogram2d"
           }
          ],
          "histogram2dcontour": [
           {
            "colorbar": {
             "outlinewidth": 0,
             "ticks": ""
            },
            "colorscale": [
             [
              0,
              "#0d0887"
             ],
             [
              0.1111111111111111,
              "#46039f"
             ],
             [
              0.2222222222222222,
              "#7201a8"
             ],
             [
              0.3333333333333333,
              "#9c179e"
             ],
             [
              0.4444444444444444,
              "#bd3786"
             ],
             [
              0.5555555555555556,
              "#d8576b"
             ],
             [
              0.6666666666666666,
              "#ed7953"
             ],
             [
              0.7777777777777778,
              "#fb9f3a"
             ],
             [
              0.8888888888888888,
              "#fdca26"
             ],
             [
              1,
              "#f0f921"
             ]
            ],
            "type": "histogram2dcontour"
           }
          ],
          "mesh3d": [
           {
            "colorbar": {
             "outlinewidth": 0,
             "ticks": ""
            },
            "type": "mesh3d"
           }
          ],
          "parcoords": [
           {
            "line": {
             "colorbar": {
              "outlinewidth": 0,
              "ticks": ""
             }
            },
            "type": "parcoords"
           }
          ],
          "pie": [
           {
            "automargin": true,
            "type": "pie"
           }
          ],
          "scatter": [
           {
            "fillpattern": {
             "fillmode": "overlay",
             "size": 10,
             "solidity": 0.2
            },
            "type": "scatter"
           }
          ],
          "scatter3d": [
           {
            "line": {
             "colorbar": {
              "outlinewidth": 0,
              "ticks": ""
             }
            },
            "marker": {
             "colorbar": {
              "outlinewidth": 0,
              "ticks": ""
             }
            },
            "type": "scatter3d"
           }
          ],
          "scattercarpet": [
           {
            "marker": {
             "colorbar": {
              "outlinewidth": 0,
              "ticks": ""
             }
            },
            "type": "scattercarpet"
           }
          ],
          "scattergeo": [
           {
            "marker": {
             "colorbar": {
              "outlinewidth": 0,
              "ticks": ""
             }
            },
            "type": "scattergeo"
           }
          ],
          "scattergl": [
           {
            "marker": {
             "colorbar": {
              "outlinewidth": 0,
              "ticks": ""
             }
            },
            "type": "scattergl"
           }
          ],
          "scattermapbox": [
           {
            "marker": {
             "colorbar": {
              "outlinewidth": 0,
              "ticks": ""
             }
            },
            "type": "scattermapbox"
           }
          ],
          "scatterpolar": [
           {
            "marker": {
             "colorbar": {
              "outlinewidth": 0,
              "ticks": ""
             }
            },
            "type": "scatterpolar"
           }
          ],
          "scatterpolargl": [
           {
            "marker": {
             "colorbar": {
              "outlinewidth": 0,
              "ticks": ""
             }
            },
            "type": "scatterpolargl"
           }
          ],
          "scatterternary": [
           {
            "marker": {
             "colorbar": {
              "outlinewidth": 0,
              "ticks": ""
             }
            },
            "type": "scatterternary"
           }
          ],
          "surface": [
           {
            "colorbar": {
             "outlinewidth": 0,
             "ticks": ""
            },
            "colorscale": [
             [
              0,
              "#0d0887"
             ],
             [
              0.1111111111111111,
              "#46039f"
             ],
             [
              0.2222222222222222,
              "#7201a8"
             ],
             [
              0.3333333333333333,
              "#9c179e"
             ],
             [
              0.4444444444444444,
              "#bd3786"
             ],
             [
              0.5555555555555556,
              "#d8576b"
             ],
             [
              0.6666666666666666,
              "#ed7953"
             ],
             [
              0.7777777777777778,
              "#fb9f3a"
             ],
             [
              0.8888888888888888,
              "#fdca26"
             ],
             [
              1,
              "#f0f921"
             ]
            ],
            "type": "surface"
           }
          ],
          "table": [
           {
            "cells": {
             "fill": {
              "color": "#EBF0F8"
             },
             "line": {
              "color": "white"
             }
            },
            "header": {
             "fill": {
              "color": "#C8D4E3"
             },
             "line": {
              "color": "white"
             }
            },
            "type": "table"
           }
          ]
         },
         "layout": {
          "annotationdefaults": {
           "arrowcolor": "#2a3f5f",
           "arrowhead": 0,
           "arrowwidth": 1
          },
          "autotypenumbers": "strict",
          "coloraxis": {
           "colorbar": {
            "outlinewidth": 0,
            "ticks": ""
           }
          },
          "colorscale": {
           "diverging": [
            [
             0,
             "#8e0152"
            ],
            [
             0.1,
             "#c51b7d"
            ],
            [
             0.2,
             "#de77ae"
            ],
            [
             0.3,
             "#f1b6da"
            ],
            [
             0.4,
             "#fde0ef"
            ],
            [
             0.5,
             "#f7f7f7"
            ],
            [
             0.6,
             "#e6f5d0"
            ],
            [
             0.7,
             "#b8e186"
            ],
            [
             0.8,
             "#7fbc41"
            ],
            [
             0.9,
             "#4d9221"
            ],
            [
             1,
             "#276419"
            ]
           ],
           "sequential": [
            [
             0,
             "#0d0887"
            ],
            [
             0.1111111111111111,
             "#46039f"
            ],
            [
             0.2222222222222222,
             "#7201a8"
            ],
            [
             0.3333333333333333,
             "#9c179e"
            ],
            [
             0.4444444444444444,
             "#bd3786"
            ],
            [
             0.5555555555555556,
             "#d8576b"
            ],
            [
             0.6666666666666666,
             "#ed7953"
            ],
            [
             0.7777777777777778,
             "#fb9f3a"
            ],
            [
             0.8888888888888888,
             "#fdca26"
            ],
            [
             1,
             "#f0f921"
            ]
           ],
           "sequentialminus": [
            [
             0,
             "#0d0887"
            ],
            [
             0.1111111111111111,
             "#46039f"
            ],
            [
             0.2222222222222222,
             "#7201a8"
            ],
            [
             0.3333333333333333,
             "#9c179e"
            ],
            [
             0.4444444444444444,
             "#bd3786"
            ],
            [
             0.5555555555555556,
             "#d8576b"
            ],
            [
             0.6666666666666666,
             "#ed7953"
            ],
            [
             0.7777777777777778,
             "#fb9f3a"
            ],
            [
             0.8888888888888888,
             "#fdca26"
            ],
            [
             1,
             "#f0f921"
            ]
           ]
          },
          "colorway": [
           "#636efa",
           "#EF553B",
           "#00cc96",
           "#ab63fa",
           "#FFA15A",
           "#19d3f3",
           "#FF6692",
           "#B6E880",
           "#FF97FF",
           "#FECB52"
          ],
          "font": {
           "color": "#2a3f5f"
          },
          "geo": {
           "bgcolor": "white",
           "lakecolor": "white",
           "landcolor": "#E5ECF6",
           "showlakes": true,
           "showland": true,
           "subunitcolor": "white"
          },
          "hoverlabel": {
           "align": "left"
          },
          "hovermode": "closest",
          "mapbox": {
           "style": "light"
          },
          "paper_bgcolor": "white",
          "plot_bgcolor": "#E5ECF6",
          "polar": {
           "angularaxis": {
            "gridcolor": "white",
            "linecolor": "white",
            "ticks": ""
           },
           "bgcolor": "#E5ECF6",
           "radialaxis": {
            "gridcolor": "white",
            "linecolor": "white",
            "ticks": ""
           }
          },
          "scene": {
           "xaxis": {
            "backgroundcolor": "#E5ECF6",
            "gridcolor": "white",
            "gridwidth": 2,
            "linecolor": "white",
            "showbackground": true,
            "ticks": "",
            "zerolinecolor": "white"
           },
           "yaxis": {
            "backgroundcolor": "#E5ECF6",
            "gridcolor": "white",
            "gridwidth": 2,
            "linecolor": "white",
            "showbackground": true,
            "ticks": "",
            "zerolinecolor": "white"
           },
           "zaxis": {
            "backgroundcolor": "#E5ECF6",
            "gridcolor": "white",
            "gridwidth": 2,
            "linecolor": "white",
            "showbackground": true,
            "ticks": "",
            "zerolinecolor": "white"
           }
          },
          "shapedefaults": {
           "line": {
            "color": "#2a3f5f"
           }
          },
          "ternary": {
           "aaxis": {
            "gridcolor": "white",
            "linecolor": "white",
            "ticks": ""
           },
           "baxis": {
            "gridcolor": "white",
            "linecolor": "white",
            "ticks": ""
           },
           "bgcolor": "#E5ECF6",
           "caxis": {
            "gridcolor": "white",
            "linecolor": "white",
            "ticks": ""
           }
          },
          "title": {
           "x": 0.05
          },
          "xaxis": {
           "automargin": true,
           "gridcolor": "white",
           "linecolor": "white",
           "ticks": "",
           "title": {
            "standoff": 15
           },
           "zerolinecolor": "white",
           "zerolinewidth": 2
          },
          "yaxis": {
           "automargin": true,
           "gridcolor": "white",
           "linecolor": "white",
           "ticks": "",
           "title": {
            "standoff": 15
           },
           "zerolinecolor": "white",
           "zerolinewidth": 2
          }
         }
        },
        "title": {
         "text": "Price vs Weight of Diamonds by Cut"
        },
        "xaxis": {
         "anchor": "y",
         "domain": [
          0,
          1
         ],
         "title": {
          "text": "Weight (carat)"
         }
        },
        "yaxis": {
         "anchor": "x",
         "domain": [
          0,
          1
         ],
         "title": {
          "text": "Price"
         }
        }
       }
      }
     },
     "metadata": {},
     "output_type": "display_data"
    },
    {
     "name": "stdout",
     "output_type": "stream",
     "text": [
      "Total stolen diamonds: 331.71000000000004 carats\n",
      "Total price of stolen diamonds: $2311543\n"
     ]
    }
   ],
   "source": [
    "# Scatter Plot: Price vs Weight (carat), revealing the magical relationship between price and weight\n",
    "scatter_fig = px.scatter(df_complete, x='carat', y='price', title='Price vs Weight of Diamonds', \n",
    "                         labels={'carat': 'Weight (carat)', 'price': 'Price'})\n",
    "scatter_fig.show()\n",
    "\n",
    "# Histogram: Distribution of diamond prices, unveiling the mystical distribution of prices\n",
    "hist_fig = px.histogram(df_complete, x='price', nbins=30, title='Distribution of Diamond Prices', \n",
    "                        labels={'price': 'Price', 'count': 'Frequency'})\n",
    "hist_fig.show()\n",
    "\n",
    "# Scatter Plot by Colors: Price vs Weight of Diamonds by Color, adding a touch of color magic\n",
    "scatter_color_fig = px.scatter(df_complete, x='carat', y='price', color='color', title='Price vs Weight of Diamonds by Color',\n",
    "                               labels={'carat': 'Weight (carat)', 'price': 'Price'})\n",
    "scatter_color_fig.show()\n",
    "\n",
    "# Scatter Plot by Clarities: Price vs Weight of Diamonds by Clarity, unveiling the clarity of prices\n",
    "scatter_clarity_fig = px.scatter(df_complete, x='carat', y='price', color='clarity', title='Price vs Weight of Diamonds by Clarity',\n",
    "                                 labels={'carat': 'Weight (carat)', 'price': 'Price'})\n",
    "scatter_clarity_fig.show()\n",
    "\n",
    "# Scatter Plot by Cuts: Price vs Weight of Diamonds by Cut, revealing the enchanting cuts of prices\n",
    "scatter_cut_fig = px.scatter(df_complete, x='carat', y='price', color='cut', title='Price vs Weight of Diamonds by Cut',\n",
    "                             labels={'carat': 'Weight (carat)', 'price': 'Price'})\n",
    "scatter_cut_fig.show()\n",
    "\n",
    "# Calculate the total carats of stolen diamonds and the total price\n",
    "total_stolen_diamonds = df_complete['carat'].sum()\n",
    "total_stolen_price = df_complete['price'].sum()\n",
    "\n",
    "# Print the relevant information, revealing the total stolen treasures\n",
    "print(f\"Total stolen diamonds: {total_stolen_diamonds} carats\")\n",
    "print(f\"Total price of stolen diamonds: ${total_stolen_price}\")\n"
   ]
  },
  {
   "cell_type": "code",
   "execution_count": null,
   "metadata": {},
   "outputs": [],
   "source": []
  }
 ],
 "metadata": {
  "kernelspec": {
   "display_name": "Python 3",
   "language": "python",
   "name": "python3"
  },
  "language_info": {
   "codemirror_mode": {
    "name": "ipython",
    "version": 3
   },
   "file_extension": ".py",
   "mimetype": "text/x-python",
   "name": "python",
   "nbconvert_exporter": "python",
   "pygments_lexer": "ipython3",
   "version": "3.11.2"
  }
 },
 "nbformat": 4,
 "nbformat_minor": 2
}
